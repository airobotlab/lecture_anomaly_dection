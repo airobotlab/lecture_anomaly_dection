{
  "cells": [
    {
      "cell_type": "markdown",
      "metadata": {
        "id": "P4zECeA0msEG"
      },
      "source": [
        "<a href=\"https://www.nvidia.com/en-us/deep-learning-ai/education/\"> <img src=\"images/DLI Header.png\" alt=\"Header\" style=\"width: 400px;\"/> </a>"
      ]
    },
    {
      "cell_type": "markdown",
      "source": [
        "# Anomaly Detection with GAN\n",
        "\n",
        "221103\n",
        "\n",
        "- [ref](https://bit.ly/3sW0vyW)"
      ],
      "metadata": {
        "id": "7TYx7-OKmvy7"
      }
    },
    {
      "cell_type": "code",
      "source": [
        "!git clone https://github.com/airobotlab/lecture_anomaly_dection.git\n",
        "!mv lecture_anomaly_dection/3_Anomaly_Detection_GAN/images ./\n",
        "!mv lecture_anomaly_dection/3_Anomaly_Detection_GAN/data ./\n",
        "!rm -rf lecture_anomaly_dection"
      ],
      "metadata": {
        "colab": {
          "base_uri": "https://localhost:8080/"
        },
        "id": "gzk1xRmBmvV5",
        "outputId": "1ccf7489-fabf-48b6-cc2d-d1505f453963"
      },
      "execution_count": 1,
      "outputs": [
        {
          "output_type": "stream",
          "name": "stdout",
          "text": [
            "Cloning into 'lecture_anomaly_dection'...\n",
            "remote: Enumerating objects: 70, done.\u001b[K\n",
            "remote: Counting objects: 100% (11/11), done.\u001b[K\n",
            "remote: Compressing objects: 100% (11/11), done.\u001b[K\n",
            "remote: Total 70 (delta 2), reused 0 (delta 0), pack-reused 59\u001b[K\n",
            "Unpacking objects: 100% (70/70), done.\n"
          ]
        }
      ]
    },
    {
      "cell_type": "markdown",
      "metadata": {
        "id": "3O7k-6DamsEI"
      },
      "source": [
        "# Anomaly Detection in Network Data using GANs"
      ]
    },
    {
      "cell_type": "markdown",
      "metadata": {
        "id": "8sIwatBhmsEI"
      },
      "source": [
        "Welcome to the third lab of this series!\n",
        "\n",
        "In the previous labs, we tried our hand at supervised and unsupervised anomaly detection using XGBoost and Deep Autoencoders on the KDD-99 network intrusion dataset.\n",
        "\n",
        "We addressed the issue of unlabelled training data through the use of Deep Autoencoders in the second lab. However, unsupervised methods such as PCA and Autoencoders tend to be effective only on highly correlated data such as the KDD dataset, and these algorithms might also require the data to follow a Gaussian Distribution.\n",
        "\n",
        "> \"Adversarial training (also called GAN for Generative Adversarial Networks), and the variations that are now being proposed, is the most interesting idea in the last 10 years in ML, in my opinion.\".\n",
        "> Yann LeCun, 2016.\n",
        "\n",
        "What do GANs bring to the table and how are they different from Deep Autoencoders?\n",
        "\n",
        "GANs are generative models that generate samples similar to the training dataset by learning the true data distribution. So instead of compressing the input into a latent space and classifying the test samples based on the reconstruction error, we actually train a classifier that outputs a probability score of a sample being Normal or Anomalous. As we will see later in the lab, this has positioned GANs as very attaractive unsupervised learning techniques.\n",
        "\n",
        "GANs can be pretty tough to train and improving their stability is an active area of research today."
      ]
    },
    {
      "cell_type": "code",
      "source": [
        "!pip install scikit-learn==0.22.1"
      ],
      "metadata": {
        "colab": {
          "base_uri": "https://localhost:8080/",
          "height": 418
        },
        "id": "eOOHPlojn6TF",
        "outputId": "a73136ee-39a3-409c-ef71-9b2128f7745d"
      },
      "execution_count": 5,
      "outputs": [
        {
          "output_type": "stream",
          "name": "stdout",
          "text": [
            "Looking in indexes: https://pypi.org/simple, https://us-python.pkg.dev/colab-wheels/public/simple/\n",
            "Collecting scikit-learn==0.22.1\n",
            "  Downloading scikit_learn-0.22.1-cp37-cp37m-manylinux1_x86_64.whl (7.0 MB)\n",
            "\u001b[K     |████████████████████████████████| 7.0 MB 4.4 MB/s \n",
            "\u001b[?25hRequirement already satisfied: joblib>=0.11 in /usr/local/lib/python3.7/dist-packages (from scikit-learn==0.22.1) (1.2.0)\n",
            "Requirement already satisfied: scipy>=0.17.0 in /usr/local/lib/python3.7/dist-packages (from scikit-learn==0.22.1) (1.7.3)\n",
            "Requirement already satisfied: numpy>=1.11.0 in /usr/local/lib/python3.7/dist-packages (from scikit-learn==0.22.1) (1.21.6)\n",
            "Installing collected packages: scikit-learn\n",
            "  Attempting uninstall: scikit-learn\n",
            "    Found existing installation: scikit-learn 1.0.2\n",
            "    Uninstalling scikit-learn-1.0.2:\n",
            "      Successfully uninstalled scikit-learn-1.0.2\n",
            "\u001b[31mERROR: pip's dependency resolver does not currently take into account all the packages that are installed. This behaviour is the source of the following dependency conflicts.\n",
            "yellowbrick 1.5 requires scikit-learn>=1.0.0, but you have scikit-learn 0.22.1 which is incompatible.\n",
            "imbalanced-learn 0.8.1 requires scikit-learn>=0.24, but you have scikit-learn 0.22.1 which is incompatible.\u001b[0m\n",
            "Successfully installed scikit-learn-0.22.1\n"
          ]
        },
        {
          "output_type": "display_data",
          "data": {
            "application/vnd.colab-display-data+json": {
              "pip_warning": {
                "packages": [
                  "sklearn"
                ]
              }
            }
          },
          "metadata": {}
        }
      ]
    },
    {
      "cell_type": "code",
      "execution_count": 1,
      "metadata": {
        "colab": {
          "base_uri": "https://localhost:8080/"
        },
        "id": "XcrOcc63msEJ",
        "outputId": "d68aba83-7ced-4f12-bc4f-f77eb9d4d451"
      },
      "outputs": [
        {
          "output_type": "stream",
          "name": "stderr",
          "text": [
            "/usr/local/lib/python3.7/dist-packages/sklearn/utils/deprecation.py:144: FutureWarning: The sklearn.preprocessing.label module is  deprecated in version 0.22 and will be removed in version 0.24. The corresponding classes / functions should instead be imported from sklearn.preprocessing. Anything that cannot be imported from sklearn.preprocessing is now part of the private API.\n",
            "  warnings.warn(message, FutureWarning)\n"
          ]
        }
      ],
      "source": [
        "# Import system packages\n",
        "import os\n",
        "import sys\n",
        "import time\n",
        "import logging\n",
        "import importlib\n",
        "\n",
        "#Import data manipulation libraries\n",
        "import numpy as np\n",
        "import pandas as pd\n",
        "import collections\n",
        "from tqdm import tqdm\n",
        "\n",
        "from collections import OrderedDict\n",
        "import gc\n",
        "from glob import glob\n",
        "from time import time\n",
        "from sklearn.metrics import roc_auc_score,confusion_matrix,accuracy_score,classification_report,roc_curve\n",
        "from sklearn.model_selection import train_test_split\n",
        "from sklearn.preprocessing import LabelEncoder\n",
        "from timeit import default_timer\n",
        "import matplotlib.pyplot as plt\n",
        "import pickle\n",
        "\n",
        "#Import visualization libraries\n",
        "import matplotlib.pyplot as plt\n",
        "\n",
        "#Importing ML/DL libraries\n",
        "from sklearn.preprocessing import MinMaxScaler, label\n",
        "from sklearn.model_selection import train_test_split\n",
        "from sklearn.metrics import roc_curve, auc,precision_recall_fscore_support, average_precision_score\n",
        "from sklearn.metrics import precision_recall_curve, auc, confusion_matrix,accuracy_score\n",
        "\n",
        "import tensorflow as tf\n",
        "from tensorflow import keras\n",
        "# from tensorflow.keras import layer\n",
        "\n",
        "from tensorflow.keras import initializers\n",
        "from tensorflow.keras.models import Model, Sequential\n",
        "from tensorflow.keras.optimizers import Adam, RMSprop\n",
        "from tensorflow.keras.callbacks import ModelCheckpoint\n",
        "from tensorflow.keras.layers import Dense, Dropout\n",
        "from tensorflow.keras.layers import LeakyReLU\n",
        "from tensorflow.keras.layers import Input, BatchNormalization, LeakyReLU, Dense, Reshape, Flatten, Activation \n",
        "from tensorflow.keras.layers import Dropout, multiply, GaussianNoise, MaxPooling2D, concatenate\n",
        "import pickle\n",
        "\n",
        "import random\n",
        "random.seed(123)\n",
        "\n",
        "# Display all columns of Pandas' dataframes by default\n",
        "pd.set_option('display.max_columns', None)\n",
        "\n",
        "# data_path = './data/kddcup.data.corrected'\n",
        "data_path = './data/small_kddcup.data.corrected'"
      ]
    },
    {
      "cell_type": "markdown",
      "source": [
        "## prepare data"
      ],
      "metadata": {
        "id": "XYXZIbDVnO2k"
      }
    },
    {
      "cell_type": "code",
      "source": [
        "col_names = [\"duration\",\"protocol_type\",\"service\",\"flag\",\"src_bytes\",\"dst_bytes\",\"land\",\"wrong_fragment\",\"urgent\",\"hot\",\"num_failed_logins\",\"logged_in\",\n",
        "             \"num_compromised\",\"root_shell\",\"su_attempted\",\"num_root\",\"num_file_creations\",\"num_shells\",\"num_access_files\",\"num_outbound_cmds\",\n",
        "             \"is_host_login\",\"is_guest_login\",\"count\",\"srv_count\",\"serror_rate\",\"srv_serror_rate\",\"rerror_rate\",\"srv_rerror_rate\",\"same_srv_rate\",\n",
        "             \"diff_srv_rate\",\"srv_diff_host_rate\",\"dst_host_count\",\"dst_host_srv_count\",\"dst_host_same_srv_rate\",\"dst_host_diff_srv_rate\",\n",
        "             \"dst_host_same_src_port_rate\",\"dst_host_srv_diff_host_rate\",\"dst_host_serror_rate\",\"dst_host_srv_serror_rate\",\"dst_host_rerror_rate\",\n",
        "             \"dst_host_srv_rerror_rate\",\"label\"]\n",
        "\n",
        "df =  pd.read_csv(data_path, header=None, names=col_names, index_col=False)\n",
        "\n",
        "# Display the first few rows of the dataset\n",
        "df.head(5)\n",
        "\n",
        "pd.DataFrame(df['label'].value_counts())\n",
        "\n",
        "# here we train a label encoder so that we can map our classes to integers later for model training\n",
        "le = LabelEncoder()\n",
        "le.fit(df.label)\n",
        "print(le.classes_)\n",
        "\n",
        "# capture the categorical variables and one-hot encode them\n",
        "cat_vars = ['protocol_type', 'service', 'flag', 'land', 'logged_in','is_host_login', 'is_guest_login']\n",
        "\n",
        "# find unique labels for each category\n",
        "cat_data = pd.get_dummies(df[cat_vars])\n",
        "\n",
        "# check that the categorical variables were created correctly\n",
        "cat_data.head()\n",
        "\n",
        "numeric_vars = list(set(df.columns.values.tolist()) - set(cat_vars))\n",
        "numeric_vars.remove('label')\n",
        "numeric_data = df[numeric_vars].copy()\n",
        "\n",
        "# check that the numeric data has been captured accurately\n",
        "numeric_data.head()\n",
        "\n",
        "# concat numeric and the encoded categorical variables\n",
        "numeric_cat_data = pd.concat([numeric_data, cat_data], axis=1)\n",
        "\n",
        "# here we do a quick sanity check that the data has been concatenated correctly by checking the dimension of the vectors\n",
        "print(cat_data.shape)\n",
        "print(numeric_data.shape)\n",
        "print(numeric_cat_data.shape)\n",
        "\n",
        "# capture the labels\n",
        "labels = df['label'].copy()\n",
        "\n",
        "# convert labels to integers\n",
        "integer_labels = le.transform(labels)\n",
        "\n",
        "# split data into test and train\n",
        "x_train, x_test, y_train, y_test = train_test_split(numeric_cat_data,\n",
        "                                                    integer_labels,\n",
        "                                                    test_size=.25, \n",
        "                                                    random_state=42)\n",
        "\n",
        "# check that the dimensions of our train and test sets are okay\n",
        "print(x_train.shape)\n",
        "print(y_train.shape)\n",
        "print(x_test.shape)\n",
        "print(y_test.shape)\n",
        "\n",
        "# save the datasets for later use\n",
        "preprocessed_data = {\n",
        "    'x_train':x_train,\n",
        "    'y_train':y_train,\n",
        "    'x_test':x_test,\n",
        "    'y_test':y_test,\n",
        "    'le':le\n",
        "}\n",
        "\n",
        "# pickle the preprocessed_data\n",
        "filename = './data/preprocessed_data_full.pkl'\n",
        "out = open(filename, 'wb')\n",
        "pickle.dump(preprocessed_data, out)\n",
        "out.close()\n",
        "\n"
      ],
      "metadata": {
        "colab": {
          "base_uri": "https://localhost:8080/"
        },
        "id": "7SH8nhKTnA96",
        "outputId": "93b6415f-2224-43f9-b65f-b3516c6dd7ff"
      },
      "execution_count": 2,
      "outputs": [
        {
          "output_type": "stream",
          "name": "stdout",
          "text": [
            "['back.' 'buffer_overflow.' 'guess_passwd.' 'ipsweep.' 'land.' 'neptune.'\n",
            " 'nmap.' 'normal.' 'pod.' 'portsweep.' 'satan.' 'smurf.' 'teardrop.'\n",
            " 'warezclient.' 'warezmaster.']\n",
            "(180000, 80)\n",
            "(180000, 34)\n",
            "(180000, 114)\n",
            "(135000, 114)\n",
            "(135000,)\n",
            "(45000, 114)\n",
            "(45000,)\n"
          ]
        }
      ]
    },
    {
      "cell_type": "markdown",
      "metadata": {
        "id": "m69C0OhXmsEK"
      },
      "source": [
        "## Section 1: Dataset"
      ]
    },
    {
      "cell_type": "markdown",
      "metadata": {
        "id": "SaSBPEo_msEK"
      },
      "source": [
        "Let us load the same KDD-99 dataset that we used in the previous labs. "
      ]
    },
    {
      "cell_type": "code",
      "execution_count": 3,
      "metadata": {
        "id": "17NkMvzFmsEL"
      },
      "outputs": [],
      "source": [
        "#loading the pickled file\n",
        "\n",
        "filename = './data/preprocessed_data_full.pkl'\n",
        "input_file = open(filename,'rb')\n",
        "preprocessed_data = pickle.load(input_file)\n",
        "input_file.close()"
      ]
    },
    {
      "cell_type": "markdown",
      "metadata": {
        "id": "d3zFT0rnmsEL"
      },
      "source": [
        "Just like in Lab 2, we will split the pickled data into vectors and assign them to the label encoder `le`, training and testing sets."
      ]
    },
    {
      "cell_type": "code",
      "execution_count": 4,
      "metadata": {
        "colab": {
          "base_uri": "https://localhost:8080/"
        },
        "id": "lvwUBC-NmsEL",
        "outputId": "798a33bf-ca98-48b1-ac2c-64ba8bee6e15"
      },
      "outputs": [
        {
          "output_type": "stream",
          "name": "stdout",
          "text": [
            "x_train\n",
            "y_train\n",
            "x_test\n",
            "y_test\n",
            "le\n"
          ]
        }
      ],
      "source": [
        "for key in preprocessed_data:\n",
        "    print(key)  "
      ]
    },
    {
      "cell_type": "code",
      "execution_count": 5,
      "metadata": {
        "id": "-XLP323vmsEM"
      },
      "outputs": [],
      "source": [
        "le = preprocessed_data['le']\n",
        "x_train = preprocessed_data['x_train']\n",
        "y_train = preprocessed_data['y_train']\n",
        "x_test = preprocessed_data['x_test']\n",
        "y_test = preprocessed_data['y_test']"
      ]
    },
    {
      "cell_type": "code",
      "execution_count": 6,
      "metadata": {
        "colab": {
          "base_uri": "https://localhost:8080/"
        },
        "id": "5Mu6-jBsmsEM",
        "outputId": "8a33e8bb-ce7c-47f6-d4ee-13c8b4114173"
      },
      "outputs": [
        {
          "output_type": "execute_result",
          "data": {
            "text/plain": [
              "array([ 0,  1,  3,  4,  5,  6,  7,  8,  9, 10, 11, 12, 13, 14])"
            ]
          },
          "metadata": {},
          "execution_count": 6
        }
      ],
      "source": [
        "np.unique(y_train)"
      ]
    },
    {
      "cell_type": "markdown",
      "metadata": {
        "id": "-crVAeFImsEM"
      },
      "source": [
        "### 1.1 Data Preprocessing"
      ]
    },
    {
      "cell_type": "markdown",
      "metadata": {
        "id": "fvpZJlC2msEN"
      },
      "source": [
        "We first consider the binary classification problem. Similar to previous labs, *Normal* data points will be labeled as '0' and *Anomalous* points will be labeled as '1'."
      ]
    },
    {
      "cell_type": "code",
      "execution_count": 7,
      "metadata": {
        "colab": {
          "base_uri": "https://localhost:8080/",
          "height": 520
        },
        "id": "AhL9EcAemsEN",
        "outputId": "02f76e39-f876-493e-d9e4-5d9c0432ab9a"
      },
      "outputs": [
        {
          "output_type": "execute_result",
          "data": {
            "text/plain": [
              "                Type\n",
              "0              back.\n",
              "1   buffer_overflow.\n",
              "2      guess_passwd.\n",
              "3           ipsweep.\n",
              "4              land.\n",
              "5           neptune.\n",
              "6              nmap.\n",
              "7            normal.\n",
              "8               pod.\n",
              "9         portsweep.\n",
              "10            satan.\n",
              "11            smurf.\n",
              "12         teardrop.\n",
              "13      warezclient.\n",
              "14      warezmaster."
            ],
            "text/html": [
              "\n",
              "  <div id=\"df-88f9e59a-a7aa-4838-9c42-c26eb6fa8387\">\n",
              "    <div class=\"colab-df-container\">\n",
              "      <div>\n",
              "<style scoped>\n",
              "    .dataframe tbody tr th:only-of-type {\n",
              "        vertical-align: middle;\n",
              "    }\n",
              "\n",
              "    .dataframe tbody tr th {\n",
              "        vertical-align: top;\n",
              "    }\n",
              "\n",
              "    .dataframe thead th {\n",
              "        text-align: right;\n",
              "    }\n",
              "</style>\n",
              "<table border=\"1\" class=\"dataframe\">\n",
              "  <thead>\n",
              "    <tr style=\"text-align: right;\">\n",
              "      <th></th>\n",
              "      <th>Type</th>\n",
              "    </tr>\n",
              "  </thead>\n",
              "  <tbody>\n",
              "    <tr>\n",
              "      <th>0</th>\n",
              "      <td>back.</td>\n",
              "    </tr>\n",
              "    <tr>\n",
              "      <th>1</th>\n",
              "      <td>buffer_overflow.</td>\n",
              "    </tr>\n",
              "    <tr>\n",
              "      <th>2</th>\n",
              "      <td>guess_passwd.</td>\n",
              "    </tr>\n",
              "    <tr>\n",
              "      <th>3</th>\n",
              "      <td>ipsweep.</td>\n",
              "    </tr>\n",
              "    <tr>\n",
              "      <th>4</th>\n",
              "      <td>land.</td>\n",
              "    </tr>\n",
              "    <tr>\n",
              "      <th>5</th>\n",
              "      <td>neptune.</td>\n",
              "    </tr>\n",
              "    <tr>\n",
              "      <th>6</th>\n",
              "      <td>nmap.</td>\n",
              "    </tr>\n",
              "    <tr>\n",
              "      <th>7</th>\n",
              "      <td>normal.</td>\n",
              "    </tr>\n",
              "    <tr>\n",
              "      <th>8</th>\n",
              "      <td>pod.</td>\n",
              "    </tr>\n",
              "    <tr>\n",
              "      <th>9</th>\n",
              "      <td>portsweep.</td>\n",
              "    </tr>\n",
              "    <tr>\n",
              "      <th>10</th>\n",
              "      <td>satan.</td>\n",
              "    </tr>\n",
              "    <tr>\n",
              "      <th>11</th>\n",
              "      <td>smurf.</td>\n",
              "    </tr>\n",
              "    <tr>\n",
              "      <th>12</th>\n",
              "      <td>teardrop.</td>\n",
              "    </tr>\n",
              "    <tr>\n",
              "      <th>13</th>\n",
              "      <td>warezclient.</td>\n",
              "    </tr>\n",
              "    <tr>\n",
              "      <th>14</th>\n",
              "      <td>warezmaster.</td>\n",
              "    </tr>\n",
              "  </tbody>\n",
              "</table>\n",
              "</div>\n",
              "      <button class=\"colab-df-convert\" onclick=\"convertToInteractive('df-88f9e59a-a7aa-4838-9c42-c26eb6fa8387')\"\n",
              "              title=\"Convert this dataframe to an interactive table.\"\n",
              "              style=\"display:none;\">\n",
              "        \n",
              "  <svg xmlns=\"http://www.w3.org/2000/svg\" height=\"24px\"viewBox=\"0 0 24 24\"\n",
              "       width=\"24px\">\n",
              "    <path d=\"M0 0h24v24H0V0z\" fill=\"none\"/>\n",
              "    <path d=\"M18.56 5.44l.94 2.06.94-2.06 2.06-.94-2.06-.94-.94-2.06-.94 2.06-2.06.94zm-11 1L8.5 8.5l.94-2.06 2.06-.94-2.06-.94L8.5 2.5l-.94 2.06-2.06.94zm10 10l.94 2.06.94-2.06 2.06-.94-2.06-.94-.94-2.06-.94 2.06-2.06.94z\"/><path d=\"M17.41 7.96l-1.37-1.37c-.4-.4-.92-.59-1.43-.59-.52 0-1.04.2-1.43.59L10.3 9.45l-7.72 7.72c-.78.78-.78 2.05 0 2.83L4 21.41c.39.39.9.59 1.41.59.51 0 1.02-.2 1.41-.59l7.78-7.78 2.81-2.81c.8-.78.8-2.07 0-2.86zM5.41 20L4 18.59l7.72-7.72 1.47 1.35L5.41 20z\"/>\n",
              "  </svg>\n",
              "      </button>\n",
              "      \n",
              "  <style>\n",
              "    .colab-df-container {\n",
              "      display:flex;\n",
              "      flex-wrap:wrap;\n",
              "      gap: 12px;\n",
              "    }\n",
              "\n",
              "    .colab-df-convert {\n",
              "      background-color: #E8F0FE;\n",
              "      border: none;\n",
              "      border-radius: 50%;\n",
              "      cursor: pointer;\n",
              "      display: none;\n",
              "      fill: #1967D2;\n",
              "      height: 32px;\n",
              "      padding: 0 0 0 0;\n",
              "      width: 32px;\n",
              "    }\n",
              "\n",
              "    .colab-df-convert:hover {\n",
              "      background-color: #E2EBFA;\n",
              "      box-shadow: 0px 1px 2px rgba(60, 64, 67, 0.3), 0px 1px 3px 1px rgba(60, 64, 67, 0.15);\n",
              "      fill: #174EA6;\n",
              "    }\n",
              "\n",
              "    [theme=dark] .colab-df-convert {\n",
              "      background-color: #3B4455;\n",
              "      fill: #D2E3FC;\n",
              "    }\n",
              "\n",
              "    [theme=dark] .colab-df-convert:hover {\n",
              "      background-color: #434B5C;\n",
              "      box-shadow: 0px 1px 3px 1px rgba(0, 0, 0, 0.15);\n",
              "      filter: drop-shadow(0px 1px 2px rgba(0, 0, 0, 0.3));\n",
              "      fill: #FFFFFF;\n",
              "    }\n",
              "  </style>\n",
              "\n",
              "      <script>\n",
              "        const buttonEl =\n",
              "          document.querySelector('#df-88f9e59a-a7aa-4838-9c42-c26eb6fa8387 button.colab-df-convert');\n",
              "        buttonEl.style.display =\n",
              "          google.colab.kernel.accessAllowed ? 'block' : 'none';\n",
              "\n",
              "        async function convertToInteractive(key) {\n",
              "          const element = document.querySelector('#df-88f9e59a-a7aa-4838-9c42-c26eb6fa8387');\n",
              "          const dataTable =\n",
              "            await google.colab.kernel.invokeFunction('convertToInteractive',\n",
              "                                                     [key], {});\n",
              "          if (!dataTable) return;\n",
              "\n",
              "          const docLinkHtml = 'Like what you see? Visit the ' +\n",
              "            '<a target=\"_blank\" href=https://colab.research.google.com/notebooks/data_table.ipynb>data table notebook</a>'\n",
              "            + ' to learn more about interactive tables.';\n",
              "          element.innerHTML = '';\n",
              "          dataTable['output_type'] = 'display_data';\n",
              "          await google.colab.output.renderOutput(dataTable, element);\n",
              "          const docLink = document.createElement('div');\n",
              "          docLink.innerHTML = docLinkHtml;\n",
              "          element.appendChild(docLink);\n",
              "        }\n",
              "      </script>\n",
              "    </div>\n",
              "  </div>\n",
              "  "
            ]
          },
          "metadata": {},
          "execution_count": 7
        }
      ],
      "source": [
        "#Obtain the class number for Normal entries \n",
        "pd.DataFrame(le.classes_, columns = ['Type'])"
      ]
    },
    {
      "cell_type": "code",
      "execution_count": 8,
      "metadata": {
        "id": "Vxliq8NkmsEN"
      },
      "outputs": [],
      "source": [
        "# Converting labels to Binary\n",
        "\n",
        "y_test[y_test != 11] = 1 \n",
        "y_test[y_test == 11] = 0\n",
        "y_train[y_train != 11] = 1\n",
        "y_train[y_train == 11] = 0"
      ]
    },
    {
      "cell_type": "markdown",
      "metadata": {
        "id": "jhm0MZzqmsEN"
      },
      "source": [
        "We will now split the dataset into normal and anomalous data. We will need to do this in order to be able to train GANs to generate Normal packets only and then predict the anomaly based on the Discriminator output. The details regarding this will be covered later in the lab."
      ]
    },
    {
      "cell_type": "code",
      "execution_count": 9,
      "metadata": {
        "id": "LxLUxJpQmsEN"
      },
      "outputs": [],
      "source": [
        "#Subsetting only Normal Network packets in our training set\n",
        "\n",
        "temp_df = x_train.copy()\n",
        "temp_df['label'] = y_train\n",
        "temp_df = temp_df.loc[temp_df['label'] == 0]\n",
        "temp_df = temp_df.drop('label', axis = 1)\n",
        "x_train = temp_df.copy()"
      ]
    },
    {
      "cell_type": "markdown",
      "metadata": {
        "id": "3r0Sz0NhmsEN"
      },
      "source": [
        "Similar to Lab 2, we scale the input training data between 0 and 1 before feeding it to the model."
      ]
    },
    {
      "cell_type": "code",
      "execution_count": 10,
      "metadata": {
        "id": "v0m8SbqimsEO"
      },
      "outputs": [],
      "source": [
        "# Normalize the above splits using the MinMaxScaler from the scikit learn package\n",
        "scaler = MinMaxScaler()\n",
        "\n",
        "# Make sure to only fit the scaler on the training data\n",
        "x_train = scaler.fit_transform(x_train)\n",
        "x_test = scaler.transform(x_test)\n",
        "\n",
        "#Creating dataset dictionary \n",
        "dataset = {}\n",
        "dataset['x_train'] = x_train.astype(np.float32)\n",
        "dataset['y_train'] = y_train.astype(np.float32)\n",
        "dataset['x_test']  = x_test.astype(np.float32)\n",
        "dataset['y_test']  = y_test.astype(np.float32)"
      ]
    },
    {
      "cell_type": "markdown",
      "metadata": {
        "id": "jUtt8QtYmsEO"
      },
      "source": [
        "**Summary of the datasets** :\n",
        "- The Training set consists of only normal network packets.\n",
        "- The Testing set comprises a small number of anomalous network packets of about 1%, reflecting what we see in the real world. \n"
      ]
    },
    {
      "cell_type": "code",
      "execution_count": 11,
      "metadata": {
        "colab": {
          "base_uri": "https://localhost:8080/"
        },
        "id": "XX4B29eNmsEO",
        "outputId": "a070cf3d-77ca-4387-b7e1-2339dae7673c"
      },
      "outputs": [
        {
          "output_type": "stream",
          "name": "stdout",
          "text": [
            "Number of Normal Network packets in the Training set: 77733\n",
            "Number of Normal Network packets in the Testing set: 25926\n",
            "Number of Anomalous Network packets in the Testing set: 19074\n"
          ]
        }
      ],
      "source": [
        "# check how many anomalies are in our Testing set\n",
        "print('Number of Normal Network packets in the Training set:', x_train.shape[0])\n",
        "print('Number of Normal Network packets in the Testing set:', collections.Counter(y_test)[0])\n",
        "print('Number of Anomalous Network packets in the Testing set:', collections.Counter(y_test)[1])"
      ]
    },
    {
      "cell_type": "markdown",
      "metadata": {
        "id": "w8jqr3RimsEO"
      },
      "source": [
        "## Section 2: Generative Adversarial Networks"
      ]
    },
    {
      "cell_type": "markdown",
      "metadata": {
        "id": "K6qMW0AEmsEO"
      },
      "source": [
        "Generative Adversarial Networks (GAN) were introduced by Ian Goodfellow in [Generative Adversarial Networks](https://arxiv.org/abs/1406.2661), Goodfellow, 2014.\n",
        "\n",
        "<br>\n",
        "<img src=\"https://drive.google.com/uc?id=14f7ZwXxyigpwx7bIVFxAOSb_aV28bFav\" alt=\"Alt text that describes the graphic\" title=\"Title text\" />\n",
        "<br>\n",
        "\n",
        "\n",
        "The GAN consists of two networks namely: \n",
        "- The generator `G` that produces fake samples\n",
        "- The discriminator `D` that that receives samples from both `G` and the dataset.\n",
        "\n",
        "During Training the two networks have competing goals. The generator tries to fool the discriminator by outputting values that resemble real data and the discriminator tries to become better at distinguishing between the real and fake data.\n",
        "\n",
        "Mathematically, this means that the Generator's weights are optimized to maximize the probability that fake data is classified as belonging to the real data. The discriminators's weights are optimized to maximize the probability that the real input data is classified as real while minimizing the probability of fake input data being classified as real.\n",
        "\n",
        "Optimality is reached when the generator produces an output that the disciminator cannot concretely label as real or fake and this, happens when either of the networks cannot improve anymore.\n",
        "\n",
        "<img src=./images/gan-optimality.PNG alt=\"Alt text that describes the graphic\" title=\"Title text\" />\n",
        "\n",
        "The first part of the above equation reflects the log probability of the discriminator predicting that the input sample is genuine and the second half reflects the probability of the Discriminator predicting that the Generator's output is not genuine.\n",
        "\n",
        "In this lab, we will be train our GAN on normal network packets. The generator inputs noise and as training progresses the GAN learns the mapping between these random values to the input distribution. The discriminator outputs a score of how likely the the generated output resembles the real data."
      ]
    },
    {
      "cell_type": "markdown",
      "metadata": {
        "id": "2kIXqOV8msEP"
      },
      "source": [
        "### 2.1 Generator Network "
      ]
    },
    {
      "cell_type": "markdown",
      "metadata": {
        "id": "dCEHYSNAmsEP"
      },
      "source": [
        "The Generator is used to synthesize fake data points. As shown below, it consists of 5 Dense Layers with a `tanh` activation function and uses `binary cross-entropy` for calculating the generator loss. Binary cross-entropy loss measures the performance of a two class classification model whose output is a probability value between 0 and 1. A perfect model would have a loss of 0."
      ]
    },
    {
      "cell_type": "markdown",
      "metadata": {
        "id": "EEohIjy2msEP"
      },
      "source": [
        "![layers](images/layers.png)"
      ]
    },
    {
      "cell_type": "code",
      "execution_count": 12,
      "metadata": {
        "id": "CPjZjr6NmsEP"
      },
      "outputs": [],
      "source": [
        "# Defining the Generator network\n",
        "\n",
        "def get_generator(optimizer):\n",
        "    \n",
        "    generator = Sequential()\n",
        "    generator.add(Dense(64, input_dim=114, kernel_initializer=initializers.glorot_normal(seed=42)))\n",
        "    generator.add(Activation('tanh'))\n",
        "    \n",
        "    generator.add(Dense(128))\n",
        "    generator.add(Activation('tanh'))\n",
        "    \n",
        "    generator.add(Dense(256))\n",
        "    generator.add(Activation('tanh'))\n",
        "    \n",
        "    generator.add(Dense(256))\n",
        "    generator.add(Activation('tanh'))\n",
        "       \n",
        "    generator.add(Dense(512))\n",
        "    generator.add(Activation('tanh'))\n",
        "   \n",
        "    generator.add(Dense(114, activation='tanh'))\n",
        "    \n",
        "    generator.compile(loss='binary_crossentropy', optimizer=optimizer)\n",
        "    \n",
        "    return generator"
      ]
    },
    {
      "cell_type": "markdown",
      "metadata": {
        "id": "LFcZzwjMmsEP"
      },
      "source": [
        "### 2.2 Discriminator Network"
      ]
    },
    {
      "cell_type": "markdown",
      "metadata": {
        "id": "_TOiTQsymsEP"
      },
      "source": [
        "![layers2](images/layers2.png)"
      ]
    },
    {
      "cell_type": "markdown",
      "metadata": {
        "id": "MzlF_OUOmsEQ"
      },
      "source": [
        "The Discriminator basically outputs the score of a sample belonging to the real dataset or the synthetic dataset. It consists of 6 dense layers-each followed by a dropout layer to help prevent overfitting. The sigmoid activation function is applied to the final layer to obtain a value in the range 0 to 1."
      ]
    },
    {
      "cell_type": "code",
      "execution_count": 13,
      "metadata": {
        "id": "9eTgqO_LmsEQ"
      },
      "outputs": [],
      "source": [
        "##### Defining the Discriminator network\n",
        "\n",
        "def get_discriminator(optimizer):\n",
        "    \n",
        "    discriminator = Sequential()\n",
        "    \n",
        "    discriminator.add(Dense(256, input_dim=114, kernel_initializer=initializers.glorot_normal(seed=42)))\n",
        "    discriminator.add(Activation('relu'))\n",
        "    discriminator.add(Dropout(0.2))\n",
        "\n",
        "    discriminator.add(Dense(128))\n",
        "    discriminator.add(Activation('relu'))\n",
        "    discriminator.add(Dropout(0.2))\n",
        "       \n",
        "    discriminator.add(Dense(128))\n",
        "    discriminator.add(Activation('relu'))\n",
        "    discriminator.add(Dropout(0.2))\n",
        "    \n",
        "    discriminator.add(Dense(128))\n",
        "    discriminator.add(Activation('relu'))\n",
        "    discriminator.add(Dropout(0.2))\n",
        "\n",
        "    discriminator.add(Dense(128))\n",
        "    discriminator.add(Activation('relu'))\n",
        "    discriminator.add(Dropout(0.2))\n",
        "    \n",
        "    discriminator.add(Dense(1))\n",
        "    discriminator.add(Activation('sigmoid'))\n",
        "   \n",
        "    discriminator.compile(loss='binary_crossentropy', optimizer=optimizer)\n",
        "\n",
        "    return discriminator"
      ]
    },
    {
      "cell_type": "markdown",
      "metadata": {
        "id": "PPmmC1zhmsEQ"
      },
      "source": [
        "### 2.3 Building the Network"
      ]
    },
    {
      "cell_type": "markdown",
      "metadata": {
        "id": "ljDHf_E_msEQ"
      },
      "source": [
        "Previously we built the individual networks that constitute the GAN. Let us now stich them together by using the generator and discriminator as individual layers of the overall generative adversarial network. We set the field `discriminator.trainable = False` as we want to alter the weights of only one of them during training."
      ]
    },
    {
      "cell_type": "code",
      "execution_count": 14,
      "metadata": {
        "id": "evtiZ_0WmsEQ"
      },
      "outputs": [],
      "source": [
        "def get_gan_network(discriminator, generator, optimizer,input_dim=114):\n",
        "\n",
        "    discriminator.trainable = False   \n",
        "    gan_input = Input(shape=(input_dim,))  \n",
        "    x = generator(gan_input)        \n",
        "    gan_output = discriminator(x)\n",
        "    \n",
        "    gan = Model(inputs=gan_input, outputs=gan_output)    \n",
        "    gan.compile(loss='binary_crossentropy', optimizer=optimizer)\n",
        "    \n",
        "    return gan"
      ]
    },
    {
      "cell_type": "markdown",
      "metadata": {
        "id": "4T4HbP1nmsEQ"
      },
      "source": [
        "### 2.4 Setting the Hyperparameters "
      ]
    },
    {
      "cell_type": "markdown",
      "metadata": {
        "id": "Dd3L2HAWmsEQ"
      },
      "source": [
        "Training a GAN can be quite tricky and time consuming. Refer to this <a href=\"https://github.com/soumith/ganhacks#authors\">  link </a> to get a few ideas on how you could get your models to converge faster by choosing appropriate hyperparameters."
      ]
    },
    {
      "cell_type": "code",
      "execution_count": 15,
      "metadata": {
        "id": "-8s8Xj0MmsER"
      },
      "outputs": [],
      "source": [
        "learning_rate = 0.00001\n",
        "batch_size = 512\n",
        "epochs = 10\n",
        "adam = Adam(learning_rate = learning_rate,beta_1 = 0.5)"
      ]
    },
    {
      "cell_type": "markdown",
      "metadata": {
        "id": "BKDZdehOmsER"
      },
      "source": [
        "### 2.5 Training the Model"
      ]
    },
    {
      "cell_type": "markdown",
      "metadata": {
        "id": "NaDU6wQMmsER"
      },
      "source": [
        "The generator first predicts on a batch of noise samples. As the generator has randomly initialized weights initially, the output of the generator at this stage is nothing but meaningless values.\n",
        "<br>\n",
        "<img src=./images/Gan-Page-04.jpg alt=\"Alt text that describes the graphic\" title=\"Title text\" />\n",
        "<br>\n",
        "The Discriminator inputs a stack of samples - the first half of which is the output of the generator and the second half is a batch of data samples from the real dataset. We train the Discriminator on this stack with the target labels  0 (Fake) for half the stack and 1 for the second half of the stack. The result of this is that the Discrimator is able to distinguish between the Real and Fake samples.\n",
        "<br>\n",
        "<img src=./images/Gan-Page-2.jpg alt=\"Alt text that describes the graphic\" title=\"Title text\" />\n",
        "<br>\n",
        "The weights of the discriminator are frozen by setting the trainable parameter to False.\n",
        "\n",
        "To train the Generator, We first feed it random noise and let the entire GAN output a probability with the Discriminator weights remaining frozen. As expected this value would be less than 0.5 since the Discriminator was previously set to output a value close to 0 if the input was not genuine .\n",
        "<br>\n",
        "<img src=./images/Gan-Page-3.jpg alt=\"Alt text that describes the graphic\" title=\"Title text\" />\n",
        "<br>\n",
        "\n",
        "Now comes the trick. We tell the GAN that the expected output is 1. This results in the errors being backpropagated only to the Generator. With every sample in the batch the generator's weights are tuned such that the output of the GAN is close to 1, meaning the Generator is now learning to produce samples that resemble the real data.\n",
        "\n",
        "This process loops back to the first step for each batch in the training set."
      ]
    },
    {
      "cell_type": "code",
      "execution_count": 16,
      "metadata": {
        "colab": {
          "base_uri": "https://localhost:8080/"
        },
        "id": "dTzw3MEOmsER",
        "outputId": "a6f49c08-75eb-44c0-b45a-ad6ce9ac6af9"
      },
      "outputs": [
        {
          "output_type": "stream",
          "name": "stderr",
          "text": [
            " 10%|█         | 157/1510 [00:12<00:33, 40.65it/s]"
          ]
        },
        {
          "output_type": "stream",
          "name": "stdout",
          "text": [
            "Epoch 0 Batch 150/151 [D loss: 0.635649] [G loss:0.547286]\n"
          ]
        },
        {
          "output_type": "stream",
          "name": "stderr",
          "text": [
            " 21%|██        | 310/1510 [00:16<00:30, 39.09it/s]"
          ]
        },
        {
          "output_type": "stream",
          "name": "stdout",
          "text": [
            "Epoch 1 Batch 150/151 [D loss: 0.487268] [G loss:0.432240]\n"
          ]
        },
        {
          "output_type": "stream",
          "name": "stderr",
          "text": [
            " 31%|███       | 461/1510 [00:20<00:26, 39.87it/s]"
          ]
        },
        {
          "output_type": "stream",
          "name": "stdout",
          "text": [
            "Epoch 2 Batch 150/151 [D loss: 0.311124] [G loss:0.447740]\n"
          ]
        },
        {
          "output_type": "stream",
          "name": "stderr",
          "text": [
            " 40%|████      | 611/1510 [00:24<00:25, 35.24it/s]"
          ]
        },
        {
          "output_type": "stream",
          "name": "stdout",
          "text": [
            "Epoch 3 Batch 150/151 [D loss: 0.183616] [G loss:0.263030]\n"
          ]
        },
        {
          "output_type": "stream",
          "name": "stderr",
          "text": [
            " 50%|█████     | 761/1510 [00:28<00:19, 39.01it/s]"
          ]
        },
        {
          "output_type": "stream",
          "name": "stdout",
          "text": [
            "Epoch 4 Batch 150/151 [D loss: 0.108550] [G loss:0.139469]\n"
          ]
        },
        {
          "output_type": "stream",
          "name": "stderr",
          "text": [
            " 60%|██████    | 912/1510 [00:32<00:16, 36.63it/s]"
          ]
        },
        {
          "output_type": "stream",
          "name": "stdout",
          "text": [
            "Epoch 5 Batch 150/151 [D loss: 0.074611] [G loss:0.069187]\n"
          ]
        },
        {
          "output_type": "stream",
          "name": "stderr",
          "text": [
            " 70%|███████   | 1064/1510 [00:36<00:11, 39.43it/s]"
          ]
        },
        {
          "output_type": "stream",
          "name": "stdout",
          "text": [
            "Epoch 6 Batch 150/151 [D loss: 0.054359] [G loss:0.042401]\n"
          ]
        },
        {
          "output_type": "stream",
          "name": "stderr",
          "text": [
            " 80%|████████  | 1215/1510 [00:40<00:07, 38.72it/s]"
          ]
        },
        {
          "output_type": "stream",
          "name": "stdout",
          "text": [
            "Epoch 7 Batch 150/151 [D loss: 0.033018] [G loss:0.029029]\n"
          ]
        },
        {
          "output_type": "stream",
          "name": "stderr",
          "text": [
            " 91%|█████████ | 1367/1510 [00:44<00:03, 35.93it/s]"
          ]
        },
        {
          "output_type": "stream",
          "name": "stdout",
          "text": [
            "Epoch 8 Batch 150/151 [D loss: 0.032720] [G loss:0.020169]\n"
          ]
        },
        {
          "output_type": "stream",
          "name": "stderr",
          "text": [
            "100%|█████████▉| 1508/1510 [00:48<00:00, 39.65it/s]"
          ]
        },
        {
          "output_type": "stream",
          "name": "stdout",
          "text": [
            "Epoch 9 Batch 150/151 [D loss: 0.017405] [G loss:0.014452]\n"
          ]
        }
      ],
      "source": [
        "#Training the GAN\n",
        "x_train, y_train, x_test, y_test = dataset['x_train'], dataset['y_train'],dataset['x_test'],dataset['y_test']\n",
        "\n",
        "#Calculating the number of batches based on the batch size\n",
        "batch_count = x_train.shape[0] // batch_size\n",
        "pbar = tqdm(total=epochs * batch_count)\n",
        "gan_loss = []\n",
        "discriminator_loss = []\n",
        "\n",
        "#Inititalizing the network\n",
        "generator = get_generator(adam)\n",
        "discriminator = get_discriminator(adam)\n",
        "gan = get_gan_network(discriminator, generator, adam,input_dim=114)\n",
        "\n",
        "\n",
        "for epoch in range(epochs):        \n",
        "    for index in range(batch_count):        \n",
        "        pbar.update(1)        \n",
        "        # Creating a random set of input noise and images\n",
        "        noise = np.random.normal(0, 1, size=[batch_size,114])\n",
        "        \n",
        "        # Generate fake samples\n",
        "        generated_images = generator.predict_on_batch(noise)\n",
        "        \n",
        "        #Obtain a batch of normal network packets\n",
        "        image_batch = x_train[index * batch_size: (index + 1) * batch_size]\n",
        "            \n",
        "        X = np.vstack((generated_images,image_batch))       \n",
        "        y_dis = np.ones(2*batch_size) \n",
        "        y_dis[:batch_size] = 0\n",
        "\n",
        "        # Train discriminator\n",
        "        discriminator.trainable = True\n",
        "        d_loss= discriminator.train_on_batch(X, y_dis)\n",
        "\n",
        "        # Train generator\n",
        "        noise = np.random.uniform(0, 1, size=[batch_size, 114])\n",
        "        y_gen = np.ones(batch_size)\n",
        "        discriminator.trainable = False\n",
        "        g_loss = gan.train_on_batch(noise, y_gen)\n",
        "        \n",
        "        #Record the losses\n",
        "        discriminator_loss.append(d_loss)\n",
        "        gan_loss.append(g_loss)\n",
        "        \n",
        "    print(\"Epoch %d Batch %d/%d [D loss: %f] [G loss:%f]\" % (epoch,index,batch_count, d_loss, g_loss))\n",
        "              "
      ]
    },
    {
      "cell_type": "markdown",
      "metadata": {
        "id": "vQPnal-UmsER"
      },
      "source": [
        "### 2.6 Training Loss"
      ]
    },
    {
      "cell_type": "markdown",
      "metadata": {
        "id": "Lu-xgiJDmsES"
      },
      "source": [
        "Let's visualize the generator and discriminator training losses!"
      ]
    },
    {
      "cell_type": "code",
      "execution_count": 17,
      "metadata": {
        "colab": {
          "base_uri": "https://localhost:8080/",
          "height": 299
        },
        "id": "oQFdbAthmsES",
        "outputId": "f6fdb2bd-edb0-462d-d21f-e7d89d5cfe6a"
      },
      "outputs": [
        {
          "output_type": "execute_result",
          "data": {
            "text/plain": [
              "<matplotlib.legend.Legend at 0x7f94863bd790>"
            ]
          },
          "metadata": {},
          "execution_count": 17
        },
        {
          "output_type": "display_data",
          "data": {
            "text/plain": [
              "<Figure size 432x288 with 1 Axes>"
            ],
            "image/png": "[encoded data removed]"
          },
          "metadata": {
            "needs_background": "light"
          }
        }
      ],
      "source": [
        "fig, ax = plt.subplots()\n",
        "plt.plot(discriminator_loss, label='Discriminator')\n",
        "plt.plot(gan_loss, label='Generator')\n",
        "plt.title(\"Training Losses\")\n",
        "plt.legend()"
      ]
    },
    {
      "cell_type": "markdown",
      "metadata": {
        "id": "XHGeZkd9msES"
      },
      "source": [
        "The loss convergence towards the end signifies that the GAN model has reached optimality"
      ]
    },
    {
      "cell_type": "markdown",
      "metadata": {
        "id": "ajAERuc1msES"
      },
      "source": [
        "### 2.7 Anomaly Detection"
      ]
    },
    {
      "cell_type": "markdown",
      "metadata": {
        "id": "q5FsBhcfmsES"
      },
      "source": [
        "What was the result of all the training we did?  \n",
        "\n",
        "We now have a generator that can input a random seed value and produce an output that closely resembles the data it was trained on. You can read about how this strategy was used to come up with imaginary celebrities <a href =\"https://research.nvidia.com/publication/2017-10_Progressive-Growing-of\" >here</a>\n",
        "\n",
        "The Discriminator that we trained ended up being a very powerful classifier that can tell if a sample point is representative of the true data distribution it was trained on or not and hence can be used for Anomaly Detection!\n",
        "\n",
        "Let us feed our test data into the discriminator and obtain scores."
      ]
    },
    {
      "cell_type": "code",
      "execution_count": 18,
      "metadata": {
        "id": "ON0IhclvmsES"
      },
      "outputs": [],
      "source": [
        "# Predictions on the test set\n",
        "\n",
        "nr_batches_test = np.ceil(x_test.shape[0] // batch_size).astype(np.int32)\n",
        "\n",
        "results =[]\n",
        "\n",
        "for t in range(nr_batches_test +1):    \n",
        "        ran_from = t * batch_size\n",
        "        ran_to = (t + 1) * batch_size\n",
        "        image_batch = x_test[ran_from:ran_to]             \n",
        "        tmp_rslt = discriminator.predict(x=image_batch,batch_size=128,verbose=0)        \n",
        "        results = np.append(results, tmp_rslt)   "
      ]
    },
    {
      "cell_type": "markdown",
      "metadata": {
        "id": "ZmksHNkumsES"
      },
      "source": [
        "Let us calculate the mean score for normal and anomalous samples in our test set. Ideally, we would like to see a score close to 1 for normal samples and 0 for anomalous samples. This would mean our classifier is doing well in distinguishing between the 2 classes.  "
      ]
    },
    {
      "cell_type": "code",
      "execution_count": 19,
      "metadata": {
        "colab": {
          "base_uri": "https://localhost:8080/"
        },
        "id": "iCWyZ-unmsES",
        "outputId": "3d730cc0-0873-4091-cae4-e8225a19f772"
      },
      "outputs": [
        {
          "output_type": "stream",
          "name": "stdout",
          "text": [
            "Mean score for normal packets : 0.996499120152686\n",
            "Mean score for anomalous packets : 8.68563203960666e-05\n"
          ]
        }
      ],
      "source": [
        "pd.options.display.float_format = '{:20,.7f}'.format\n",
        "results_df = pd.concat([pd.DataFrame(results),pd.DataFrame(y_test)], axis=1)\n",
        "results_df.columns = ['results','y_test']\n",
        "print ('Mean score for normal packets :', results_df.loc[results_df['y_test'] == 0, 'results'].mean() )\n",
        "print ('Mean score for anomalous packets :', results_df.loc[results_df['y_test'] == 1, 'results'].mean())"
      ]
    },
    {
      "cell_type": "markdown",
      "metadata": {
        "id": "-mH57bdFmsES"
      },
      "source": [
        "But how exaclty do we identify our Anomalies?\n",
        "\n",
        "Although there are several ways to do this, let us use a more straight forward way for detection. Remember 1% of our test set comprised of anomalies. So, the lowest 1% of the scores should ideally constitute anomalies. Let us test our hypothesis below."
      ]
    },
    {
      "cell_type": "code",
      "execution_count": 20,
      "metadata": {
        "id": "Sz5IIBa4msET"
      },
      "outputs": [],
      "source": [
        "#Obtaining the lowest 1% score\n",
        "per = np.percentile(results,1)\n",
        "y_pred = results.copy()\n",
        "y_pred = np.array(y_pred)\n",
        "\n",
        "#Thresholding based on the score\n",
        "inds = (y_pred > per)\n",
        "inds_comp = (y_pred <= per)\n",
        "y_pred[inds] = 0\n",
        "y_pred[inds_comp] = 1\n"
      ]
    },
    {
      "cell_type": "markdown",
      "metadata": {
        "id": "3qvaQRTlmsET"
      },
      "source": [
        "## Section 3: Evaluation"
      ]
    },
    {
      "cell_type": "markdown",
      "metadata": {
        "id": "a65c_oATmsET"
      },
      "source": [
        "The Accuracy, Precision and Recall values of our model on the test set are as follows:"
      ]
    },
    {
      "cell_type": "code",
      "execution_count": 21,
      "metadata": {
        "colab": {
          "base_uri": "https://localhost:8080/"
        },
        "id": "gk-LAYdvmsET",
        "outputId": "55653ca6-8b6e-473d-c3ca-7187c2385a0a"
      },
      "outputs": [
        {
          "output_type": "stream",
          "name": "stdout",
          "text": [
            "Accuracy Score : 0.7437111111111111\n",
            "Precision : 1.0\n",
            "Recall : 0.39535493341721717\n",
            "F1 : 0.5666729287995492\n"
          ]
        }
      ],
      "source": [
        "precision, recall, f1,_ = precision_recall_fscore_support(y_test,y_pred,average='binary')\n",
        "print ('Accuracy Score :',accuracy_score(y_test, y_pred) )\n",
        "print ('Precision :',precision )\n",
        "print ('Recall :',recall )\n",
        "print ('F1 :',f1 )"
      ]
    },
    {
      "cell_type": "markdown",
      "metadata": {
        "id": "bDNR0XjhmsET"
      },
      "source": [
        "### 3.1 Confusion Matrix"
      ]
    },
    {
      "cell_type": "markdown",
      "metadata": {
        "id": "6nyQwyaJmsET"
      },
      "source": [
        "The confusion matrix is a good way to understand if our predictions agree with the target labels. You've implemented one of these in both of the previous labs, so in this section, you'll get a chance to build your own. "
      ]
    },
    {
      "cell_type": "code",
      "execution_count": 22,
      "metadata": {
        "colab": {
          "base_uri": "https://localhost:8080/",
          "height": 747
        },
        "id": "2HsfUqwOmsET",
        "outputId": "5becc419-c328-4bc0-8dd1-0224d0d8e204"
      },
      "outputs": [
        {
          "output_type": "stream",
          "name": "stdout",
          "text": [
            "Confusion Matrix :\n"
          ]
        },
        {
          "output_type": "display_data",
          "data": {
            "text/plain": [
              "<Figure size 720x720 with 2 Axes>"
            ],
            "image/png": "[encoded data removed]"
          },
          "metadata": {
            "needs_background": "light"
          }
        }
      ],
      "source": [
        "cm = confusion_matrix(y_test, y_pred)\n",
        "\n",
        "print ('Confusion Matrix :')\n",
        "\n",
        "def plot_confusion_matrix(cm, title='Confusion matrix', cmap=plt.cm.Greens):\n",
        "    plt.figure(figsize=(10,10),)\n",
        "\n",
        "    plt.imshow(cm, interpolation='nearest', cmap=cmap)\n",
        "    plt.title(title)\n",
        "    plt.colorbar()\n",
        "    plt.tight_layout()\n",
        "\n",
        "    width, height = cm.shape\n",
        "\n",
        "    for x in range(width):\n",
        "        for y in range(height):\n",
        "            plt.annotate(str(cm[x][y]), xy=(y, x), \n",
        "                        horizontalalignment='center',\n",
        "                        verticalalignment='center')\n",
        "    plt.ylabel('True label')\n",
        "    plt.xlabel('Predicted label')\n",
        "\n",
        "\n",
        "plot_confusion_matrix(cm)"
      ]
    },
    {
      "cell_type": "markdown",
      "metadata": {
        "id": "S5FOXfkImsET"
      },
      "source": [
        "### 3.2 ROC Curve"
      ]
    },
    {
      "cell_type": "markdown",
      "metadata": {
        "id": "QKwbgDDJmsET"
      },
      "source": [
        "Let's see how our ROC curve looks with the predictions. The closer the AUC is to 1, the better the model."
      ]
    },
    {
      "cell_type": "code",
      "execution_count": 23,
      "metadata": {
        "colab": {
          "base_uri": "https://localhost:8080/",
          "height": 295
        },
        "id": "uRDC0Et5msEU",
        "outputId": "19d26ab3-8ae9-4f33-90a8-f328244d73a1"
      },
      "outputs": [
        {
          "output_type": "display_data",
          "data": {
            "text/plain": [
              "<Figure size 432x288 with 1 Axes>"
            ],
            "image/png": "[encoded data removed]"
          },
          "metadata": {
            "needs_background": "light"
          }
        }
      ],
      "source": [
        "fpr_keras, tpr_keras, thresholds_keras = roc_curve(y_test, y_pred)\n",
        "auc_keras = auc(fpr_keras, tpr_keras)\n",
        "plt.figure(1)\n",
        "plt.plot([0, 1], [0, 1], 'k--')\n",
        "plt.plot(fpr_keras, tpr_keras, label='Keras (area = {:.2f})'.format(auc_keras))\n",
        "\n",
        "plt.xlabel('False positive rate')\n",
        "plt.ylabel('True positive rate')\n",
        "plt.title('ROC curve')\n",
        "plt.legend(loc='best')\n",
        "plt.show()"
      ]
    },
    {
      "cell_type": "markdown",
      "metadata": {
        "id": "jtjlKFxDmsEU"
      },
      "source": [
        "## Conclusion"
      ]
    },
    {
      "cell_type": "markdown",
      "metadata": {
        "id": "6x9p-XhzmsEU"
      },
      "source": [
        "- We successfully employed state of the art Generative Adversarial Networks for anomaly detection on high dimensional data such as the KDD dataset.\n",
        "- The GAN is particularly interesting  because it sets up a supervised learning problem in order to do unsupervised learning. While it generates fake data, and tries to determine if a sample is fake or real based on trivial labels, it really does not know what the different classes in the dataset are.\n",
        "- On the downside, GANs can be tough to train and suffer from convergence issues particularly because, the discriminator during training does not learn as much from the true dataset as it learns to distinguish between the probability distributions."
      ]
    },
    {
      "cell_type": "markdown",
      "metadata": {
        "id": "yM11rFlfmsEU"
      },
      "source": [
        "Take a moment to consider how each of the three methods actually detected anomalies. If time, take a moment to attempt to articulate each to a partner or write in a notebook or the space below. Bonus. Reflect on how each responded to the rarity of anomalies and why."
      ]
    },
    {
      "cell_type": "raw",
      "metadata": {
        "id": "XV-QcJeNmsEU"
      },
      "source": [
        "Answer: "
      ]
    },
    {
      "cell_type": "markdown",
      "metadata": {
        "id": "m5BRz5ZNmsEU"
      },
      "source": [
        "## References"
      ]
    },
    {
      "cell_type": "markdown",
      "metadata": {
        "id": "ivlQirhLmsEV"
      },
      "source": [
        "<ol>\n",
        "<li>Zenati, H., Foo, C., Lecouat, B., Manek, G. and Chandrasekhar, V. (2018). Efficient GAN-Based Anomaly Detection. [online]   Arxiv.org. Available at: https://arxiv.org/abs/1802.06222</li>\n",
        "\n",
        "<li>Ben Poole Alex Lamb Martin Arjovsky Olivier Mastropietro Vincent Dumoulin, Ishmael Belghazi and Aaron Courville. Adversarially learned inference. International Conference on Learning Representations, 2017.</li>\n",
        "\n",
        "<li>Antonia Creswell, Tom White, Vincent Dumoulin, Kai Arulkumaran, Biswa Sengupta, and Anil A.Bharath. Generative adversarial networks: An overview. In the Proceedings of IEEE Signal Processing Magazine Special Issue on Deep Learning for Visual Understanding, accepted paper,2017.</li>\n",
        "\n",
        "<li>Martin Renqiang Min Wei Cheng Cristian Lumezanu Daeki Cho Haifeng Chen Bo Zong, Qi Song.Deep autoencoding gaussian mixture model for unsupervised anomaly detection. International Conference on Learning Representations, 2018.</li>\n",
        "\n",
        "<li>Shuangfei Zhai, Yu Cheng, Weining Lu, and Zhongfei Zhang. Deep structured energy based models for anomaly detection. International Conference on Machine Learning, pp. 1100-1109, 2016.</li>\n",
        "</ol>\n",
        "\n"
      ]
    },
    {
      "cell_type": "markdown",
      "metadata": {
        "id": "-W7-NLcumsEV"
      },
      "source": [
        "<a href=\"https://www.nvidia.com/en-us/deep-learning-ai/education/\"> <img src=\"images/DLI Header.png\" alt=\"Header\" style=\"width: 400px;\"/> </a>"
      ]
    },
    {
      "cell_type": "code",
      "source": [],
      "metadata": {
        "id": "V5Rbyrw4oQIs"
      },
      "execution_count": null,
      "outputs": []
    }
  ],
  "metadata": {
    "kernelspec": {
      "display_name": "Python 3 (ipykernel)",
      "language": "python",
      "name": "python3"
    },
    "language_info": {
      "codemirror_mode": {
        "name": "ipython",
        "version": 3
      },
      "file_extension": ".py",
      "mimetype": "text/x-python",
      "name": "python",
      "nbconvert_exporter": "python",
      "pygments_lexer": "ipython3",
      "version": "3.8.10"
    },
    "colab": {
      "provenance": [],
      "collapsed_sections": []
    },
    "accelerator": "GPU",
    "gpuClass": "premium"
  },
  "nbformat": 4,
  "nbformat_minor": 0
}