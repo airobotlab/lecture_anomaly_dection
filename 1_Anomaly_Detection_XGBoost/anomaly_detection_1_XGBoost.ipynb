{
  "cells": [
    {
      "cell_type": "markdown",
      "metadata": {
        "id": "80dEBJM9RY0a"
      },
      "source": [
        "<a href=\"https://www.nvidia.com/en-us/deep-learning-ai/education/\"> <img src=\"images/DLI Header.png\" alt=\"Header\" style=\"width: 400px;\"/> </a>"
      ]
    },
    {
      "cell_type": "markdown",
      "source": [
        "# Anomaly Detection with XGBoost\n",
        "\n",
        "221103\n",
        "\n",
        "- [ref](https://bit.ly/3FImhy0)"
      ],
      "metadata": {
        "id": "r5VXWjobZXF_"
      }
    },
    {
      "cell_type": "code",
      "source": [
        "#"
      ],
      "metadata": {
        "id": "uH3Q-RTMZWk4"
      },
      "execution_count": null,
      "outputs": []
    },
    {
      "cell_type": "code",
      "source": [
        "!git clone https://github.com/airobotlab/lecture_anomaly_dection.git\n",
        "!mv lecture_anomaly_dection/1_Anomaly_Detection_XGBoost/images ./\n",
        "!mv lecture_anomaly_dection/1_Anomaly_Detection_XGBoost/data ./\n",
        "!rm -rf lecture_anomaly_dection"
      ],
      "metadata": {
        "colab": {
          "base_uri": "https://localhost:8080/"
        },
        "id": "9x5LDa41XlJG",
        "outputId": "c4bc26e8-5654-42dd-b1ac-3bffd2b353ba"
      },
      "execution_count": 1,
      "outputs": [
        {
          "output_type": "stream",
          "name": "stdout",
          "text": [
            "Cloning into 'lecture_anomaly_dection'...\n",
            "remote: Enumerating objects: 24, done.\u001b[K\n",
            "remote: Counting objects: 100% (24/24), done.\u001b[K\n",
            "remote: Compressing objects: 100% (23/23), done.\u001b[K\n",
            "remote: Total 24 (delta 0), reused 0 (delta 0), pack-reused 0\n",
            "Unpacking objects: 100% (24/24), done.\n"
          ]
        }
      ]
    },
    {
      "cell_type": "markdown",
      "metadata": {
        "id": "Hf26JCRmRY0d"
      },
      "source": [
        "# Anomaly Detection in Network Data using GPU-Accelerated XGBoost\n",
        "\n",
        "- Ananth Sankar, Solutions Architect at NVIDIA.\n",
        "- Eric Harper, Solutions Architect, Global Telecoms at NVIDIA."
      ]
    },
    {
      "cell_type": "markdown",
      "metadata": {
        "id": "LtCLlIK-RY0e"
      },
      "source": [
        "As network traffic continues to grow exponentially, the number of network attacks and the different kinds of attacks is also growing. The ability to quickly and frequently train machine learning models to detect network intrusions is more important now than ever.\n",
        "\n",
        "In this series of labs, we will learn how to use machine learning and deep learning models for detecting network intrusions in the full KDD99 dataset. The data processing and model training techniques that will be learned in these labs can be applied to many datasets for anomaly detection problems.\n",
        "\n",
        "The KDD99 dataset consists of normal data points and points that have been labeled as Denial of Service (DoS), Remote to User (R2L), User to Root (U2R), and Probing (Probe) by logging network packet information. More information about the dataset can be found at https://kdd.ics.uci.edu/databases/kddcup99/task.html. \n",
        "\n",
        "\n",
        "We'll start off by exploring the dataset and then we will use the NVIDIA RAPIDS library to train GPU-accelerated XGBoost models for network intrusion detection. The RAPIDS suite of software libraries, built on CUDA-X AI, gives you the freedom to execute end-to-end data science and analytics pipelines entirely on GPUs. It relies on NVIDIA® CUDA® primitives for low-level compute optimization, but exposes that GPU parallelism and high-bandwidth memory speed through user-friendly Python interfaces.\n",
        "\n",
        "Notice that we will also be using the Pandas and Scikit-learn packages in this lab. "
      ]
    },
    {
      "cell_type": "code",
      "execution_count": 2,
      "metadata": {
        "id": "cDC45O_xRY0e"
      },
      "outputs": [],
      "source": [
        "# Import libraries that will be needed for the lab\n",
        "\n",
        "import xgboost as xgb\n",
        "import numpy as np\n",
        "from collections import OrderedDict\n",
        "import gc\n",
        "from glob import glob\n",
        "import os\n",
        "import pandas as pd\n",
        "from copy import copy\n",
        "from time import time\n",
        "from sklearn.metrics import roc_auc_score,confusion_matrix,accuracy_score,classification_report,roc_curve\n",
        "from sklearn.model_selection import train_test_split\n",
        "from sklearn.preprocessing import LabelEncoder\n",
        "from timeit import default_timer\n",
        "import matplotlib.pyplot as plt\n",
        "import pickle\n",
        "\n",
        "# Set the seed for numpy\n",
        "np.random.seed(123)\n",
        "\n",
        "# Display all columns of Pandas' dataframes by default\n",
        "pd.set_option('display.max_columns', None)\n",
        "\n",
        "# data_path = './data/kddcup.data.corrected'\n",
        "data_path = './data/small_kddcup.data.corrected'"
      ]
    },
    {
      "cell_type": "markdown",
      "metadata": {
        "id": "juqF53P-RY0g"
      },
      "source": [
        "## Section 1: Data"
      ]
    },
    {
      "cell_type": "markdown",
      "metadata": {
        "id": "PMa2ZmXXRY0g"
      },
      "source": [
        "### 1.1 Load the Dataset"
      ]
    },
    {
      "cell_type": "markdown",
      "metadata": {
        "id": "Jz6UoNvsRY0h"
      },
      "source": [
        "Let's begin by first importing the KDD99 Dataset using Pandas and then doing some basic data exploration."
      ]
    },
    {
      "cell_type": "code",
      "execution_count": 3,
      "metadata": {
        "colab": {
          "base_uri": "https://localhost:8080/",
          "height": 270
        },
        "id": "JraBJiFvRY0j",
        "outputId": "0ea41f8d-e116-47f4-a955-7859402b9ae4"
      },
      "outputs": [
        {
          "output_type": "execute_result",
          "data": {
            "text/plain": [
              "   duration protocol_type  service flag  src_bytes  dst_bytes  land  \\\n",
              "0         0           tcp  private   S0          0          0     0   \n",
              "1         0          icmp    ecr_i   SF        520          0     0   \n",
              "2         0           udp  private   SF        105        147     0   \n",
              "3      2630           udp    other   SF        147        105     0   \n",
              "4         0          icmp    ecr_i   SF       1032          0     0   \n",
              "\n",
              "   wrong_fragment  urgent  hot  num_failed_logins  logged_in  num_compromised  \\\n",
              "0               0       0    0                  0          0                0   \n",
              "1               0       0    0                  0          0                0   \n",
              "2               0       0    0                  0          0                0   \n",
              "3               0       0    0                  0          0                0   \n",
              "4               0       0    0                  0          0                0   \n",
              "\n",
              "   root_shell  su_attempted  num_root  num_file_creations  num_shells  \\\n",
              "0           0             0         0                   0           0   \n",
              "1           0             0         0                   0           0   \n",
              "2           0             0         0                   0           0   \n",
              "3           0             0         0                   0           0   \n",
              "4           0             0         0                   0           0   \n",
              "\n",
              "   num_access_files  num_outbound_cmds  is_host_login  is_guest_login  count  \\\n",
              "0                 0                  0              0               0    112   \n",
              "1                 0                  0              0               0    511   \n",
              "2                 0                  0              0               0      1   \n",
              "3                 0                  0              0               0      1   \n",
              "4                 0                  0              0               0    510   \n",
              "\n",
              "   srv_count  serror_rate  srv_serror_rate  rerror_rate  srv_rerror_rate  \\\n",
              "0         13          1.0              1.0          0.0              0.0   \n",
              "1        511          0.0              0.0          0.0              0.0   \n",
              "2          1          0.0              0.0          0.0              0.0   \n",
              "3          1          0.0              0.0          0.0              0.0   \n",
              "4        510          0.0              0.0          0.0              0.0   \n",
              "\n",
              "   same_srv_rate  diff_srv_rate  srv_diff_host_rate  dst_host_count  \\\n",
              "0           0.12           0.06                 0.0             255   \n",
              "1           1.00           0.00                 0.0             255   \n",
              "2           1.00           0.00                 0.0             255   \n",
              "3           1.00           0.00                 0.0             255   \n",
              "4           1.00           0.00                 0.0             255   \n",
              "\n",
              "   dst_host_srv_count  dst_host_same_srv_rate  dst_host_diff_srv_rate  \\\n",
              "0                  13                    0.05                    0.07   \n",
              "1                 255                    1.00                    0.00   \n",
              "2                 253                    0.99                    0.01   \n",
              "3                   2                    0.01                    0.68   \n",
              "4                 255                    1.00                    0.00   \n",
              "\n",
              "   dst_host_same_src_port_rate  dst_host_srv_diff_host_rate  \\\n",
              "0                         0.00                          0.0   \n",
              "1                         1.00                          0.0   \n",
              "2                         0.01                          0.0   \n",
              "3                         1.00                          0.0   \n",
              "4                         1.00                          0.0   \n",
              "\n",
              "   dst_host_serror_rate  dst_host_srv_serror_rate  dst_host_rerror_rate  \\\n",
              "0                   1.0                       1.0                   0.0   \n",
              "1                   0.0                       0.0                   0.0   \n",
              "2                   0.0                       0.0                   0.0   \n",
              "3                   0.0                       0.0                   0.0   \n",
              "4                   0.0                       0.0                   0.0   \n",
              "\n",
              "   dst_host_srv_rerror_rate     label  \n",
              "0                       0.0  neptune.  \n",
              "1                       0.0    smurf.  \n",
              "2                       0.0   normal.  \n",
              "3                       0.0   normal.  \n",
              "4                       0.0    smurf.  "
            ],
            "text/html": [
              "\n",
              "  <div id=\"df-d758cc86-afe0-4857-84fc-8be2e08dcb94\">\n",
              "    <div class=\"colab-df-container\">\n",
              "      <div>\n",
              "<style scoped>\n",
              "    .dataframe tbody tr th:only-of-type {\n",
              "        vertical-align: middle;\n",
              "    }\n",
              "\n",
              "    .dataframe tbody tr th {\n",
              "        vertical-align: top;\n",
              "    }\n",
              "\n",
              "    .dataframe thead th {\n",
              "        text-align: right;\n",
              "    }\n",
              "</style>\n",
              "<table border=\"1\" class=\"dataframe\">\n",
              "  <thead>\n",
              "    <tr style=\"text-align: right;\">\n",
              "      <th></th>\n",
              "      <th>duration</th>\n",
              "      <th>protocol_type</th>\n",
              "      <th>service</th>\n",
              "      <th>flag</th>\n",
              "      <th>src_bytes</th>\n",
              "      <th>dst_bytes</th>\n",
              "      <th>land</th>\n",
              "      <th>wrong_fragment</th>\n",
              "      <th>urgent</th>\n",
              "      <th>hot</th>\n",
              "      <th>num_failed_logins</th>\n",
              "      <th>logged_in</th>\n",
              "      <th>num_compromised</th>\n",
              "      <th>root_shell</th>\n",
              "      <th>su_attempted</th>\n",
              "      <th>num_root</th>\n",
              "      <th>num_file_creations</th>\n",
              "      <th>num_shells</th>\n",
              "      <th>num_access_files</th>\n",
              "      <th>num_outbound_cmds</th>\n",
              "      <th>is_host_login</th>\n",
              "      <th>is_guest_login</th>\n",
              "      <th>count</th>\n",
              "      <th>srv_count</th>\n",
              "      <th>serror_rate</th>\n",
              "      <th>srv_serror_rate</th>\n",
              "      <th>rerror_rate</th>\n",
              "      <th>srv_rerror_rate</th>\n",
              "      <th>same_srv_rate</th>\n",
              "      <th>diff_srv_rate</th>\n",
              "      <th>srv_diff_host_rate</th>\n",
              "      <th>dst_host_count</th>\n",
              "      <th>dst_host_srv_count</th>\n",
              "      <th>dst_host_same_srv_rate</th>\n",
              "      <th>dst_host_diff_srv_rate</th>\n",
              "      <th>dst_host_same_src_port_rate</th>\n",
              "      <th>dst_host_srv_diff_host_rate</th>\n",
              "      <th>dst_host_serror_rate</th>\n",
              "      <th>dst_host_srv_serror_rate</th>\n",
              "      <th>dst_host_rerror_rate</th>\n",
              "      <th>dst_host_srv_rerror_rate</th>\n",
              "      <th>label</th>\n",
              "    </tr>\n",
              "  </thead>\n",
              "  <tbody>\n",
              "    <tr>\n",
              "      <th>0</th>\n",
              "      <td>0</td>\n",
              "      <td>tcp</td>\n",
              "      <td>private</td>\n",
              "      <td>S0</td>\n",
              "      <td>0</td>\n",
              "      <td>0</td>\n",
              "      <td>0</td>\n",
              "      <td>0</td>\n",
              "      <td>0</td>\n",
              "      <td>0</td>\n",
              "      <td>0</td>\n",
              "      <td>0</td>\n",
              "      <td>0</td>\n",
              "      <td>0</td>\n",
              "      <td>0</td>\n",
              "      <td>0</td>\n",
              "      <td>0</td>\n",
              "      <td>0</td>\n",
              "      <td>0</td>\n",
              "      <td>0</td>\n",
              "      <td>0</td>\n",
              "      <td>0</td>\n",
              "      <td>112</td>\n",
              "      <td>13</td>\n",
              "      <td>1.0</td>\n",
              "      <td>1.0</td>\n",
              "      <td>0.0</td>\n",
              "      <td>0.0</td>\n",
              "      <td>0.12</td>\n",
              "      <td>0.06</td>\n",
              "      <td>0.0</td>\n",
              "      <td>255</td>\n",
              "      <td>13</td>\n",
              "      <td>0.05</td>\n",
              "      <td>0.07</td>\n",
              "      <td>0.00</td>\n",
              "      <td>0.0</td>\n",
              "      <td>1.0</td>\n",
              "      <td>1.0</td>\n",
              "      <td>0.0</td>\n",
              "      <td>0.0</td>\n",
              "      <td>neptune.</td>\n",
              "    </tr>\n",
              "    <tr>\n",
              "      <th>1</th>\n",
              "      <td>0</td>\n",
              "      <td>icmp</td>\n",
              "      <td>ecr_i</td>\n",
              "      <td>SF</td>\n",
              "      <td>520</td>\n",
              "      <td>0</td>\n",
              "      <td>0</td>\n",
              "      <td>0</td>\n",
              "      <td>0</td>\n",
              "      <td>0</td>\n",
              "      <td>0</td>\n",
              "      <td>0</td>\n",
              "      <td>0</td>\n",
              "      <td>0</td>\n",
              "      <td>0</td>\n",
              "      <td>0</td>\n",
              "      <td>0</td>\n",
              "      <td>0</td>\n",
              "      <td>0</td>\n",
              "      <td>0</td>\n",
              "      <td>0</td>\n",
              "      <td>0</td>\n",
              "      <td>511</td>\n",
              "      <td>511</td>\n",
              "      <td>0.0</td>\n",
              "      <td>0.0</td>\n",
              "      <td>0.0</td>\n",
              "      <td>0.0</td>\n",
              "      <td>1.00</td>\n",
              "      <td>0.00</td>\n",
              "      <td>0.0</td>\n",
              "      <td>255</td>\n",
              "      <td>255</td>\n",
              "      <td>1.00</td>\n",
              "      <td>0.00</td>\n",
              "      <td>1.00</td>\n",
              "      <td>0.0</td>\n",
              "      <td>0.0</td>\n",
              "      <td>0.0</td>\n",
              "      <td>0.0</td>\n",
              "      <td>0.0</td>\n",
              "      <td>smurf.</td>\n",
              "    </tr>\n",
              "    <tr>\n",
              "      <th>2</th>\n",
              "      <td>0</td>\n",
              "      <td>udp</td>\n",
              "      <td>private</td>\n",
              "      <td>SF</td>\n",
              "      <td>105</td>\n",
              "      <td>147</td>\n",
              "      <td>0</td>\n",
              "      <td>0</td>\n",
              "      <td>0</td>\n",
              "      <td>0</td>\n",
              "      <td>0</td>\n",
              "      <td>0</td>\n",
              "      <td>0</td>\n",
              "      <td>0</td>\n",
              "      <td>0</td>\n",
              "      <td>0</td>\n",
              "      <td>0</td>\n",
              "      <td>0</td>\n",
              "      <td>0</td>\n",
              "      <td>0</td>\n",
              "      <td>0</td>\n",
              "      <td>0</td>\n",
              "      <td>1</td>\n",
              "      <td>1</td>\n",
              "      <td>0.0</td>\n",
              "      <td>0.0</td>\n",
              "      <td>0.0</td>\n",
              "      <td>0.0</td>\n",
              "      <td>1.00</td>\n",
              "      <td>0.00</td>\n",
              "      <td>0.0</td>\n",
              "      <td>255</td>\n",
              "      <td>253</td>\n",
              "      <td>0.99</td>\n",
              "      <td>0.01</td>\n",
              "      <td>0.01</td>\n",
              "      <td>0.0</td>\n",
              "      <td>0.0</td>\n",
              "      <td>0.0</td>\n",
              "      <td>0.0</td>\n",
              "      <td>0.0</td>\n",
              "      <td>normal.</td>\n",
              "    </tr>\n",
              "    <tr>\n",
              "      <th>3</th>\n",
              "      <td>2630</td>\n",
              "      <td>udp</td>\n",
              "      <td>other</td>\n",
              "      <td>SF</td>\n",
              "      <td>147</td>\n",
              "      <td>105</td>\n",
              "      <td>0</td>\n",
              "      <td>0</td>\n",
              "      <td>0</td>\n",
              "      <td>0</td>\n",
              "      <td>0</td>\n",
              "      <td>0</td>\n",
              "      <td>0</td>\n",
              "      <td>0</td>\n",
              "      <td>0</td>\n",
              "      <td>0</td>\n",
              "      <td>0</td>\n",
              "      <td>0</td>\n",
              "      <td>0</td>\n",
              "      <td>0</td>\n",
              "      <td>0</td>\n",
              "      <td>0</td>\n",
              "      <td>1</td>\n",
              "      <td>1</td>\n",
              "      <td>0.0</td>\n",
              "      <td>0.0</td>\n",
              "      <td>0.0</td>\n",
              "      <td>0.0</td>\n",
              "      <td>1.00</td>\n",
              "      <td>0.00</td>\n",
              "      <td>0.0</td>\n",
              "      <td>255</td>\n",
              "      <td>2</td>\n",
              "      <td>0.01</td>\n",
              "      <td>0.68</td>\n",
              "      <td>1.00</td>\n",
              "      <td>0.0</td>\n",
              "      <td>0.0</td>\n",
              "      <td>0.0</td>\n",
              "      <td>0.0</td>\n",
              "      <td>0.0</td>\n",
              "      <td>normal.</td>\n",
              "    </tr>\n",
              "    <tr>\n",
              "      <th>4</th>\n",
              "      <td>0</td>\n",
              "      <td>icmp</td>\n",
              "      <td>ecr_i</td>\n",
              "      <td>SF</td>\n",
              "      <td>1032</td>\n",
              "      <td>0</td>\n",
              "      <td>0</td>\n",
              "      <td>0</td>\n",
              "      <td>0</td>\n",
              "      <td>0</td>\n",
              "      <td>0</td>\n",
              "      <td>0</td>\n",
              "      <td>0</td>\n",
              "      <td>0</td>\n",
              "      <td>0</td>\n",
              "      <td>0</td>\n",
              "      <td>0</td>\n",
              "      <td>0</td>\n",
              "      <td>0</td>\n",
              "      <td>0</td>\n",
              "      <td>0</td>\n",
              "      <td>0</td>\n",
              "      <td>510</td>\n",
              "      <td>510</td>\n",
              "      <td>0.0</td>\n",
              "      <td>0.0</td>\n",
              "      <td>0.0</td>\n",
              "      <td>0.0</td>\n",
              "      <td>1.00</td>\n",
              "      <td>0.00</td>\n",
              "      <td>0.0</td>\n",
              "      <td>255</td>\n",
              "      <td>255</td>\n",
              "      <td>1.00</td>\n",
              "      <td>0.00</td>\n",
              "      <td>1.00</td>\n",
              "      <td>0.0</td>\n",
              "      <td>0.0</td>\n",
              "      <td>0.0</td>\n",
              "      <td>0.0</td>\n",
              "      <td>0.0</td>\n",
              "      <td>smurf.</td>\n",
              "    </tr>\n",
              "  </tbody>\n",
              "</table>\n",
              "</div>\n",
              "      <button class=\"colab-df-convert\" onclick=\"convertToInteractive('df-d758cc86-afe0-4857-84fc-8be2e08dcb94')\"\n",
              "              title=\"Convert this dataframe to an interactive table.\"\n",
              "              style=\"display:none;\">\n",
              "        \n",
              "  <svg xmlns=\"http://www.w3.org/2000/svg\" height=\"24px\"viewBox=\"0 0 24 24\"\n",
              "       width=\"24px\">\n",
              "    <path d=\"M0 0h24v24H0V0z\" fill=\"none\"/>\n",
              "    <path d=\"M18.56 5.44l.94 2.06.94-2.06 2.06-.94-2.06-.94-.94-2.06-.94 2.06-2.06.94zm-11 1L8.5 8.5l.94-2.06 2.06-.94-2.06-.94L8.5 2.5l-.94 2.06-2.06.94zm10 10l.94 2.06.94-2.06 2.06-.94-2.06-.94-.94-2.06-.94 2.06-2.06.94z\"/><path d=\"M17.41 7.96l-1.37-1.37c-.4-.4-.92-.59-1.43-.59-.52 0-1.04.2-1.43.59L10.3 9.45l-7.72 7.72c-.78.78-.78 2.05 0 2.83L4 21.41c.39.39.9.59 1.41.59.51 0 1.02-.2 1.41-.59l7.78-7.78 2.81-2.81c.8-.78.8-2.07 0-2.86zM5.41 20L4 18.59l7.72-7.72 1.47 1.35L5.41 20z\"/>\n",
              "  </svg>\n",
              "      </button>\n",
              "      \n",
              "  <style>\n",
              "    .colab-df-container {\n",
              "      display:flex;\n",
              "      flex-wrap:wrap;\n",
              "      gap: 12px;\n",
              "    }\n",
              "\n",
              "    .colab-df-convert {\n",
              "      background-color: #E8F0FE;\n",
              "      border: none;\n",
              "      border-radius: 50%;\n",
              "      cursor: pointer;\n",
              "      display: none;\n",
              "      fill: #1967D2;\n",
              "      height: 32px;\n",
              "      padding: 0 0 0 0;\n",
              "      width: 32px;\n",
              "    }\n",
              "\n",
              "    .colab-df-convert:hover {\n",
              "      background-color: #E2EBFA;\n",
              "      box-shadow: 0px 1px 2px rgba(60, 64, 67, 0.3), 0px 1px 3px 1px rgba(60, 64, 67, 0.15);\n",
              "      fill: #174EA6;\n",
              "    }\n",
              "\n",
              "    [theme=dark] .colab-df-convert {\n",
              "      background-color: #3B4455;\n",
              "      fill: #D2E3FC;\n",
              "    }\n",
              "\n",
              "    [theme=dark] .colab-df-convert:hover {\n",
              "      background-color: #434B5C;\n",
              "      box-shadow: 0px 1px 3px 1px rgba(0, 0, 0, 0.15);\n",
              "      filter: drop-shadow(0px 1px 2px rgba(0, 0, 0, 0.3));\n",
              "      fill: #FFFFFF;\n",
              "    }\n",
              "  </style>\n",
              "\n",
              "      <script>\n",
              "        const buttonEl =\n",
              "          document.querySelector('#df-d758cc86-afe0-4857-84fc-8be2e08dcb94 button.colab-df-convert');\n",
              "        buttonEl.style.display =\n",
              "          google.colab.kernel.accessAllowed ? 'block' : 'none';\n",
              "\n",
              "        async function convertToInteractive(key) {\n",
              "          const element = document.querySelector('#df-d758cc86-afe0-4857-84fc-8be2e08dcb94');\n",
              "          const dataTable =\n",
              "            await google.colab.kernel.invokeFunction('convertToInteractive',\n",
              "                                                     [key], {});\n",
              "          if (!dataTable) return;\n",
              "\n",
              "          const docLinkHtml = 'Like what you see? Visit the ' +\n",
              "            '<a target=\"_blank\" href=https://colab.research.google.com/notebooks/data_table.ipynb>data table notebook</a>'\n",
              "            + ' to learn more about interactive tables.';\n",
              "          element.innerHTML = '';\n",
              "          dataTable['output_type'] = 'display_data';\n",
              "          await google.colab.output.renderOutput(dataTable, element);\n",
              "          const docLink = document.createElement('div');\n",
              "          docLink.innerHTML = docLinkHtml;\n",
              "          element.appendChild(docLink);\n",
              "        }\n",
              "      </script>\n",
              "    </div>\n",
              "  </div>\n",
              "  "
            ]
          },
          "metadata": {},
          "execution_count": 3
        }
      ],
      "source": [
        "col_names = [\"duration\",\"protocol_type\",\"service\",\"flag\",\"src_bytes\",\"dst_bytes\",\"land\",\"wrong_fragment\",\"urgent\",\"hot\",\"num_failed_logins\",\"logged_in\",\n",
        "             \"num_compromised\",\"root_shell\",\"su_attempted\",\"num_root\",\"num_file_creations\",\"num_shells\",\"num_access_files\",\"num_outbound_cmds\",\n",
        "             \"is_host_login\",\"is_guest_login\",\"count\",\"srv_count\",\"serror_rate\",\"srv_serror_rate\",\"rerror_rate\",\"srv_rerror_rate\",\"same_srv_rate\",\n",
        "             \"diff_srv_rate\",\"srv_diff_host_rate\",\"dst_host_count\",\"dst_host_srv_count\",\"dst_host_same_srv_rate\",\"dst_host_diff_srv_rate\",\n",
        "             \"dst_host_same_src_port_rate\",\"dst_host_srv_diff_host_rate\",\"dst_host_serror_rate\",\"dst_host_srv_serror_rate\",\"dst_host_rerror_rate\",\n",
        "             \"dst_host_srv_rerror_rate\",\"label\"]\n",
        "\n",
        "df =  pd.read_csv(data_path, header=None, names=col_names, index_col=False)\n",
        "\n",
        "# Display the first few rows of the dataset\n",
        "df.head(5)"
      ]
    },
    {
      "cell_type": "markdown",
      "metadata": {
        "id": "wOwW98fnRY0n"
      },
      "source": [
        "Each row of the KDD Cup 99 dataset is a network connection, with a total of 41 independent variables and 1 dependent variable. The independent variables can be broadly divided into three groups:\n",
        "\n",
        "1. Basic input features of network connections such as duration, protocol type, and number of bytes from source IP addresses \n",
        "2. Content input features of network connections\n",
        "3. The statistical input features computed over a time window\n",
        "\n",
        "Scroll to the right of the above cell to see all of the features.  The last column on the right is the \"Label\" column. This indicates whether the row is normal or some type of anomalous network traffic.\n",
        "\n",
        "Let's see what types of anomalies are in our dataset."
      ]
    },
    {
      "cell_type": "code",
      "execution_count": 4,
      "metadata": {
        "colab": {
          "base_uri": "https://localhost:8080/",
          "height": 551
        },
        "id": "oxhZxW7oRY0o",
        "outputId": "5c8db293-13ae-4992-e01d-56837928a71a"
      },
      "outputs": [
        {
          "output_type": "execute_result",
          "data": {
            "text/plain": [
              "                  label\n",
              "smurf.            91676\n",
              "neptune.          35057\n",
              "normal.           31721\n",
              "satan.              535\n",
              "ipsweep.            414\n",
              "portsweep.          364\n",
              "nmap.                81\n",
              "back.                77\n",
              "warezclient.         32\n",
              "teardrop.            29\n",
              "pod.                  6\n",
              "guess_passwd.         3\n",
              "land.                 2\n",
              "spy.                  1\n",
              "loadmodule.           1\n",
              "buffer_overflow.      1"
            ],
            "text/html": [
              "\n",
              "  <div id=\"df-2c2b9178-e8e8-4303-bfe7-c683666648d6\">\n",
              "    <div class=\"colab-df-container\">\n",
              "      <div>\n",
              "<style scoped>\n",
              "    .dataframe tbody tr th:only-of-type {\n",
              "        vertical-align: middle;\n",
              "    }\n",
              "\n",
              "    .dataframe tbody tr th {\n",
              "        vertical-align: top;\n",
              "    }\n",
              "\n",
              "    .dataframe thead th {\n",
              "        text-align: right;\n",
              "    }\n",
              "</style>\n",
              "<table border=\"1\" class=\"dataframe\">\n",
              "  <thead>\n",
              "    <tr style=\"text-align: right;\">\n",
              "      <th></th>\n",
              "      <th>label</th>\n",
              "    </tr>\n",
              "  </thead>\n",
              "  <tbody>\n",
              "    <tr>\n",
              "      <th>smurf.</th>\n",
              "      <td>91676</td>\n",
              "    </tr>\n",
              "    <tr>\n",
              "      <th>neptune.</th>\n",
              "      <td>35057</td>\n",
              "    </tr>\n",
              "    <tr>\n",
              "      <th>normal.</th>\n",
              "      <td>31721</td>\n",
              "    </tr>\n",
              "    <tr>\n",
              "      <th>satan.</th>\n",
              "      <td>535</td>\n",
              "    </tr>\n",
              "    <tr>\n",
              "      <th>ipsweep.</th>\n",
              "      <td>414</td>\n",
              "    </tr>\n",
              "    <tr>\n",
              "      <th>portsweep.</th>\n",
              "      <td>364</td>\n",
              "    </tr>\n",
              "    <tr>\n",
              "      <th>nmap.</th>\n",
              "      <td>81</td>\n",
              "    </tr>\n",
              "    <tr>\n",
              "      <th>back.</th>\n",
              "      <td>77</td>\n",
              "    </tr>\n",
              "    <tr>\n",
              "      <th>warezclient.</th>\n",
              "      <td>32</td>\n",
              "    </tr>\n",
              "    <tr>\n",
              "      <th>teardrop.</th>\n",
              "      <td>29</td>\n",
              "    </tr>\n",
              "    <tr>\n",
              "      <th>pod.</th>\n",
              "      <td>6</td>\n",
              "    </tr>\n",
              "    <tr>\n",
              "      <th>guess_passwd.</th>\n",
              "      <td>3</td>\n",
              "    </tr>\n",
              "    <tr>\n",
              "      <th>land.</th>\n",
              "      <td>2</td>\n",
              "    </tr>\n",
              "    <tr>\n",
              "      <th>spy.</th>\n",
              "      <td>1</td>\n",
              "    </tr>\n",
              "    <tr>\n",
              "      <th>loadmodule.</th>\n",
              "      <td>1</td>\n",
              "    </tr>\n",
              "    <tr>\n",
              "      <th>buffer_overflow.</th>\n",
              "      <td>1</td>\n",
              "    </tr>\n",
              "  </tbody>\n",
              "</table>\n",
              "</div>\n",
              "      <button class=\"colab-df-convert\" onclick=\"convertToInteractive('df-2c2b9178-e8e8-4303-bfe7-c683666648d6')\"\n",
              "              title=\"Convert this dataframe to an interactive table.\"\n",
              "              style=\"display:none;\">\n",
              "        \n",
              "  <svg xmlns=\"http://www.w3.org/2000/svg\" height=\"24px\"viewBox=\"0 0 24 24\"\n",
              "       width=\"24px\">\n",
              "    <path d=\"M0 0h24v24H0V0z\" fill=\"none\"/>\n",
              "    <path d=\"M18.56 5.44l.94 2.06.94-2.06 2.06-.94-2.06-.94-.94-2.06-.94 2.06-2.06.94zm-11 1L8.5 8.5l.94-2.06 2.06-.94-2.06-.94L8.5 2.5l-.94 2.06-2.06.94zm10 10l.94 2.06.94-2.06 2.06-.94-2.06-.94-.94-2.06-.94 2.06-2.06.94z\"/><path d=\"M17.41 7.96l-1.37-1.37c-.4-.4-.92-.59-1.43-.59-.52 0-1.04.2-1.43.59L10.3 9.45l-7.72 7.72c-.78.78-.78 2.05 0 2.83L4 21.41c.39.39.9.59 1.41.59.51 0 1.02-.2 1.41-.59l7.78-7.78 2.81-2.81c.8-.78.8-2.07 0-2.86zM5.41 20L4 18.59l7.72-7.72 1.47 1.35L5.41 20z\"/>\n",
              "  </svg>\n",
              "      </button>\n",
              "      \n",
              "  <style>\n",
              "    .colab-df-container {\n",
              "      display:flex;\n",
              "      flex-wrap:wrap;\n",
              "      gap: 12px;\n",
              "    }\n",
              "\n",
              "    .colab-df-convert {\n",
              "      background-color: #E8F0FE;\n",
              "      border: none;\n",
              "      border-radius: 50%;\n",
              "      cursor: pointer;\n",
              "      display: none;\n",
              "      fill: #1967D2;\n",
              "      height: 32px;\n",
              "      padding: 0 0 0 0;\n",
              "      width: 32px;\n",
              "    }\n",
              "\n",
              "    .colab-df-convert:hover {\n",
              "      background-color: #E2EBFA;\n",
              "      box-shadow: 0px 1px 2px rgba(60, 64, 67, 0.3), 0px 1px 3px 1px rgba(60, 64, 67, 0.15);\n",
              "      fill: #174EA6;\n",
              "    }\n",
              "\n",
              "    [theme=dark] .colab-df-convert {\n",
              "      background-color: #3B4455;\n",
              "      fill: #D2E3FC;\n",
              "    }\n",
              "\n",
              "    [theme=dark] .colab-df-convert:hover {\n",
              "      background-color: #434B5C;\n",
              "      box-shadow: 0px 1px 3px 1px rgba(0, 0, 0, 0.15);\n",
              "      filter: drop-shadow(0px 1px 2px rgba(0, 0, 0, 0.3));\n",
              "      fill: #FFFFFF;\n",
              "    }\n",
              "  </style>\n",
              "\n",
              "      <script>\n",
              "        const buttonEl =\n",
              "          document.querySelector('#df-2c2b9178-e8e8-4303-bfe7-c683666648d6 button.colab-df-convert');\n",
              "        buttonEl.style.display =\n",
              "          google.colab.kernel.accessAllowed ? 'block' : 'none';\n",
              "\n",
              "        async function convertToInteractive(key) {\n",
              "          const element = document.querySelector('#df-2c2b9178-e8e8-4303-bfe7-c683666648d6');\n",
              "          const dataTable =\n",
              "            await google.colab.kernel.invokeFunction('convertToInteractive',\n",
              "                                                     [key], {});\n",
              "          if (!dataTable) return;\n",
              "\n",
              "          const docLinkHtml = 'Like what you see? Visit the ' +\n",
              "            '<a target=\"_blank\" href=https://colab.research.google.com/notebooks/data_table.ipynb>data table notebook</a>'\n",
              "            + ' to learn more about interactive tables.';\n",
              "          element.innerHTML = '';\n",
              "          dataTable['output_type'] = 'display_data';\n",
              "          await google.colab.output.renderOutput(dataTable, element);\n",
              "          const docLink = document.createElement('div');\n",
              "          docLink.innerHTML = docLinkHtml;\n",
              "          element.appendChild(docLink);\n",
              "        }\n",
              "      </script>\n",
              "    </div>\n",
              "  </div>\n",
              "  "
            ]
          },
          "metadata": {},
          "execution_count": 4
        }
      ],
      "source": [
        "pd.DataFrame(df['label'].value_counts())"
      ]
    },
    {
      "cell_type": "code",
      "execution_count": 5,
      "metadata": {
        "colab": {
          "base_uri": "https://localhost:8080/"
        },
        "id": "Ow-nzOybRY0p",
        "outputId": "33efcc86-94be-4c77-ffb3-71ef1f048bed"
      },
      "outputs": [
        {
          "output_type": "stream",
          "name": "stdout",
          "text": [
            "['back.' 'buffer_overflow.' 'guess_passwd.' 'ipsweep.' 'land.'\n",
            " 'loadmodule.' 'neptune.' 'nmap.' 'normal.' 'pod.' 'portsweep.' 'satan.'\n",
            " 'smurf.' 'spy.' 'teardrop.' 'warezclient.']\n"
          ]
        }
      ],
      "source": [
        "# here we train a label encoder so that we can map our classes to integers later for model training\n",
        "le = LabelEncoder()\n",
        "le.fit(df.label)\n",
        "print(le.classes_)"
      ]
    },
    {
      "cell_type": "markdown",
      "metadata": {
        "id": "HoVR3LEGRY0p"
      },
      "source": [
        "### 1.2 Dataset Modification"
      ]
    },
    {
      "cell_type": "markdown",
      "metadata": {
        "id": "r2EeMLieRY0q"
      },
      "source": [
        "Notice that the dataset has more anomalies than normal data. Reflect for a moment about the implications of having more anomalies might be. Reflect either here in the notebook, on a piece of paper, or with a peer sitting next to you."
      ]
    },
    {
      "cell_type": "raw",
      "metadata": {
        "id": "w0jwcAwkRY0r"
      },
      "source": [
        "Reflection:"
      ]
    },
    {
      "cell_type": "markdown",
      "metadata": {
        "id": "f_Ou-nrgRY0r"
      },
      "source": [
        "We'll come back to test your hypothesis shortly. \n",
        "\n",
        "<a id='return'></a>"
      ]
    },
    {
      "cell_type": "markdown",
      "metadata": {
        "id": "TPbsUl-DRY0s"
      },
      "source": [
        "### 1.3 Data Preprocessing"
      ]
    },
    {
      "cell_type": "markdown",
      "metadata": {
        "id": "zCAtU5vdRY0s"
      },
      "source": [
        "In order to train an XGBoost model, we have to encode the strings in categorical variables to numeric terms. \n",
        "\n",
        "We will use one-hot encoding to translate each of the 7 categorical features:  `protocol type`, `service`, `flag`, `land`, `logged_in`, `is_host_login`, `is_guest_login` using the Pandas function `get_dummies()`. One-hot encoding will transform the categorical variable into a numerical variable for each category. If a category takes ten values, then that categorical variable will be transformed into 10 numerical variables."
      ]
    },
    {
      "cell_type": "markdown",
      "metadata": {
        "id": "r9sna3bZRY0t"
      },
      "source": [
        "### 1.4 One-hot Encode the Categorical Data"
      ]
    },
    {
      "cell_type": "code",
      "execution_count": 6,
      "metadata": {
        "colab": {
          "base_uri": "https://localhost:8080/",
          "height": 270
        },
        "id": "KPxTMG0hRY0t",
        "outputId": "26943eaa-252b-4467-abe9-9bd4b3a4bcc9"
      },
      "outputs": [
        {
          "output_type": "execute_result",
          "data": {
            "text/plain": [
              "   land  logged_in  is_host_login  is_guest_login  protocol_type_icmp  \\\n",
              "0     0          0              0               0                   0   \n",
              "1     0          0              0               0                   1   \n",
              "2     0          0              0               0                   0   \n",
              "3     0          0              0               0                   0   \n",
              "4     0          0              0               0                   1   \n",
              "\n",
              "   protocol_type_tcp  protocol_type_udp  service_IRC  service_X11  \\\n",
              "0                  1                  0            0            0   \n",
              "1                  0                  0            0            0   \n",
              "2                  0                  1            0            0   \n",
              "3                  0                  1            0            0   \n",
              "4                  0                  0            0            0   \n",
              "\n",
              "   service_Z39_50  service_aol  service_auth  service_bgp  service_courier  \\\n",
              "0               0            0             0            0                0   \n",
              "1               0            0             0            0                0   \n",
              "2               0            0             0            0                0   \n",
              "3               0            0             0            0                0   \n",
              "4               0            0             0            0                0   \n",
              "\n",
              "   service_csnet_ns  service_ctf  service_daytime  service_discard  \\\n",
              "0                 0            0                0                0   \n",
              "1                 0            0                0                0   \n",
              "2                 0            0                0                0   \n",
              "3                 0            0                0                0   \n",
              "4                 0            0                0                0   \n",
              "\n",
              "   service_domain  service_domain_u  service_echo  service_eco_i  \\\n",
              "0               0                 0             0              0   \n",
              "1               0                 0             0              0   \n",
              "2               0                 0             0              0   \n",
              "3               0                 0             0              0   \n",
              "4               0                 0             0              0   \n",
              "\n",
              "   service_ecr_i  service_efs  service_exec  service_finger  service_ftp  \\\n",
              "0              0            0             0               0            0   \n",
              "1              1            0             0               0            0   \n",
              "2              0            0             0               0            0   \n",
              "3              0            0             0               0            0   \n",
              "4              1            0             0               0            0   \n",
              "\n",
              "   service_ftp_data  service_gopher  service_hostnames  service_http  \\\n",
              "0                 0               0                  0             0   \n",
              "1                 0               0                  0             0   \n",
              "2                 0               0                  0             0   \n",
              "3                 0               0                  0             0   \n",
              "4                 0               0                  0             0   \n",
              "\n",
              "   service_http_443  service_imap4  service_iso_tsap  service_klogin  \\\n",
              "0                 0              0                 0               0   \n",
              "1                 0              0                 0               0   \n",
              "2                 0              0                 0               0   \n",
              "3                 0              0                 0               0   \n",
              "4                 0              0                 0               0   \n",
              "\n",
              "   service_kshell  service_ldap  service_link  service_login  service_mtp  \\\n",
              "0               0             0             0              0            0   \n",
              "1               0             0             0              0            0   \n",
              "2               0             0             0              0            0   \n",
              "3               0             0             0              0            0   \n",
              "4               0             0             0              0            0   \n",
              "\n",
              "   service_name  service_netbios_dgm  service_netbios_ns  service_netbios_ssn  \\\n",
              "0             0                    0                   0                    0   \n",
              "1             0                    0                   0                    0   \n",
              "2             0                    0                   0                    0   \n",
              "3             0                    0                   0                    0   \n",
              "4             0                    0                   0                    0   \n",
              "\n",
              "   service_netstat  service_nnsp  service_nntp  service_ntp_u  service_other  \\\n",
              "0                0             0             0              0              0   \n",
              "1                0             0             0              0              0   \n",
              "2                0             0             0              0              0   \n",
              "3                0             0             0              0              1   \n",
              "4                0             0             0              0              0   \n",
              "\n",
              "   service_pop_2  service_pop_3  service_printer  service_private  \\\n",
              "0              0              0                0                1   \n",
              "1              0              0                0                0   \n",
              "2              0              0                0                1   \n",
              "3              0              0                0                0   \n",
              "4              0              0                0                0   \n",
              "\n",
              "   service_remote_job  service_rje  service_shell  service_smtp  \\\n",
              "0                   0            0              0             0   \n",
              "1                   0            0              0             0   \n",
              "2                   0            0              0             0   \n",
              "3                   0            0              0             0   \n",
              "4                   0            0              0             0   \n",
              "\n",
              "   service_sql_net  service_ssh  service_sunrpc  service_supdup  \\\n",
              "0                0            0               0               0   \n",
              "1                0            0               0               0   \n",
              "2                0            0               0               0   \n",
              "3                0            0               0               0   \n",
              "4                0            0               0               0   \n",
              "\n",
              "   service_systat  service_telnet  service_time  service_urh_i  service_urp_i  \\\n",
              "0               0               0             0              0              0   \n",
              "1               0               0             0              0              0   \n",
              "2               0               0             0              0              0   \n",
              "3               0               0             0              0              0   \n",
              "4               0               0             0              0              0   \n",
              "\n",
              "   service_uucp  service_uucp_path  service_vmnet  service_whois  flag_OTH  \\\n",
              "0             0                  0              0              0         0   \n",
              "1             0                  0              0              0         0   \n",
              "2             0                  0              0              0         0   \n",
              "3             0                  0              0              0         0   \n",
              "4             0                  0              0              0         0   \n",
              "\n",
              "   flag_REJ  flag_RSTO  flag_RSTOS0  flag_RSTR  flag_S0  flag_S1  flag_S2  \\\n",
              "0         0          0            0          0        1        0        0   \n",
              "1         0          0            0          0        0        0        0   \n",
              "2         0          0            0          0        0        0        0   \n",
              "3         0          0            0          0        0        0        0   \n",
              "4         0          0            0          0        0        0        0   \n",
              "\n",
              "   flag_S3  flag_SF  flag_SH  \n",
              "0        0        0        0  \n",
              "1        0        1        0  \n",
              "2        0        1        0  \n",
              "3        0        1        0  \n",
              "4        0        1        0  "
            ],
            "text/html": [
              "\n",
              "  <div id=\"df-32755b8c-38ac-4d64-9103-8ad1067bfcca\">\n",
              "    <div class=\"colab-df-container\">\n",
              "      <div>\n",
              "<style scoped>\n",
              "    .dataframe tbody tr th:only-of-type {\n",
              "        vertical-align: middle;\n",
              "    }\n",
              "\n",
              "    .dataframe tbody tr th {\n",
              "        vertical-align: top;\n",
              "    }\n",
              "\n",
              "    .dataframe thead th {\n",
              "        text-align: right;\n",
              "    }\n",
              "</style>\n",
              "<table border=\"1\" class=\"dataframe\">\n",
              "  <thead>\n",
              "    <tr style=\"text-align: right;\">\n",
              "      <th></th>\n",
              "      <th>land</th>\n",
              "      <th>logged_in</th>\n",
              "      <th>is_host_login</th>\n",
              "      <th>is_guest_login</th>\n",
              "      <th>protocol_type_icmp</th>\n",
              "      <th>protocol_type_tcp</th>\n",
              "      <th>protocol_type_udp</th>\n",
              "      <th>service_IRC</th>\n",
              "      <th>service_X11</th>\n",
              "      <th>service_Z39_50</th>\n",
              "      <th>service_aol</th>\n",
              "      <th>service_auth</th>\n",
              "      <th>service_bgp</th>\n",
              "      <th>service_courier</th>\n",
              "      <th>service_csnet_ns</th>\n",
              "      <th>service_ctf</th>\n",
              "      <th>service_daytime</th>\n",
              "      <th>service_discard</th>\n",
              "      <th>service_domain</th>\n",
              "      <th>service_domain_u</th>\n",
              "      <th>service_echo</th>\n",
              "      <th>service_eco_i</th>\n",
              "      <th>service_ecr_i</th>\n",
              "      <th>service_efs</th>\n",
              "      <th>service_exec</th>\n",
              "      <th>service_finger</th>\n",
              "      <th>service_ftp</th>\n",
              "      <th>service_ftp_data</th>\n",
              "      <th>service_gopher</th>\n",
              "      <th>service_hostnames</th>\n",
              "      <th>service_http</th>\n",
              "      <th>service_http_443</th>\n",
              "      <th>service_imap4</th>\n",
              "      <th>service_iso_tsap</th>\n",
              "      <th>service_klogin</th>\n",
              "      <th>service_kshell</th>\n",
              "      <th>service_ldap</th>\n",
              "      <th>service_link</th>\n",
              "      <th>service_login</th>\n",
              "      <th>service_mtp</th>\n",
              "      <th>service_name</th>\n",
              "      <th>service_netbios_dgm</th>\n",
              "      <th>service_netbios_ns</th>\n",
              "      <th>service_netbios_ssn</th>\n",
              "      <th>service_netstat</th>\n",
              "      <th>service_nnsp</th>\n",
              "      <th>service_nntp</th>\n",
              "      <th>service_ntp_u</th>\n",
              "      <th>service_other</th>\n",
              "      <th>service_pop_2</th>\n",
              "      <th>service_pop_3</th>\n",
              "      <th>service_printer</th>\n",
              "      <th>service_private</th>\n",
              "      <th>service_remote_job</th>\n",
              "      <th>service_rje</th>\n",
              "      <th>service_shell</th>\n",
              "      <th>service_smtp</th>\n",
              "      <th>service_sql_net</th>\n",
              "      <th>service_ssh</th>\n",
              "      <th>service_sunrpc</th>\n",
              "      <th>service_supdup</th>\n",
              "      <th>service_systat</th>\n",
              "      <th>service_telnet</th>\n",
              "      <th>service_time</th>\n",
              "      <th>service_urh_i</th>\n",
              "      <th>service_urp_i</th>\n",
              "      <th>service_uucp</th>\n",
              "      <th>service_uucp_path</th>\n",
              "      <th>service_vmnet</th>\n",
              "      <th>service_whois</th>\n",
              "      <th>flag_OTH</th>\n",
              "      <th>flag_REJ</th>\n",
              "      <th>flag_RSTO</th>\n",
              "      <th>flag_RSTOS0</th>\n",
              "      <th>flag_RSTR</th>\n",
              "      <th>flag_S0</th>\n",
              "      <th>flag_S1</th>\n",
              "      <th>flag_S2</th>\n",
              "      <th>flag_S3</th>\n",
              "      <th>flag_SF</th>\n",
              "      <th>flag_SH</th>\n",
              "    </tr>\n",
              "  </thead>\n",
              "  <tbody>\n",
              "    <tr>\n",
              "      <th>0</th>\n",
              "      <td>0</td>\n",
              "      <td>0</td>\n",
              "      <td>0</td>\n",
              "      <td>0</td>\n",
              "      <td>0</td>\n",
              "      <td>1</td>\n",
              "      <td>0</td>\n",
              "      <td>0</td>\n",
              "      <td>0</td>\n",
              "      <td>0</td>\n",
              "      <td>0</td>\n",
              "      <td>0</td>\n",
              "      <td>0</td>\n",
              "      <td>0</td>\n",
              "      <td>0</td>\n",
              "      <td>0</td>\n",
              "      <td>0</td>\n",
              "      <td>0</td>\n",
              "      <td>0</td>\n",
              "      <td>0</td>\n",
              "      <td>0</td>\n",
              "      <td>0</td>\n",
              "      <td>0</td>\n",
              "      <td>0</td>\n",
              "      <td>0</td>\n",
              "      <td>0</td>\n",
              "      <td>0</td>\n",
              "      <td>0</td>\n",
              "      <td>0</td>\n",
              "      <td>0</td>\n",
              "      <td>0</td>\n",
              "      <td>0</td>\n",
              "      <td>0</td>\n",
              "      <td>0</td>\n",
              "      <td>0</td>\n",
              "      <td>0</td>\n",
              "      <td>0</td>\n",
              "      <td>0</td>\n",
              "      <td>0</td>\n",
              "      <td>0</td>\n",
              "      <td>0</td>\n",
              "      <td>0</td>\n",
              "      <td>0</td>\n",
              "      <td>0</td>\n",
              "      <td>0</td>\n",
              "      <td>0</td>\n",
              "      <td>0</td>\n",
              "      <td>0</td>\n",
              "      <td>0</td>\n",
              "      <td>0</td>\n",
              "      <td>0</td>\n",
              "      <td>0</td>\n",
              "      <td>1</td>\n",
              "      <td>0</td>\n",
              "      <td>0</td>\n",
              "      <td>0</td>\n",
              "      <td>0</td>\n",
              "      <td>0</td>\n",
              "      <td>0</td>\n",
              "      <td>0</td>\n",
              "      <td>0</td>\n",
              "      <td>0</td>\n",
              "      <td>0</td>\n",
              "      <td>0</td>\n",
              "      <td>0</td>\n",
              "      <td>0</td>\n",
              "      <td>0</td>\n",
              "      <td>0</td>\n",
              "      <td>0</td>\n",
              "      <td>0</td>\n",
              "      <td>0</td>\n",
              "      <td>0</td>\n",
              "      <td>0</td>\n",
              "      <td>0</td>\n",
              "      <td>0</td>\n",
              "      <td>1</td>\n",
              "      <td>0</td>\n",
              "      <td>0</td>\n",
              "      <td>0</td>\n",
              "      <td>0</td>\n",
              "      <td>0</td>\n",
              "    </tr>\n",
              "    <tr>\n",
              "      <th>1</th>\n",
              "      <td>0</td>\n",
              "      <td>0</td>\n",
              "      <td>0</td>\n",
              "      <td>0</td>\n",
              "      <td>1</td>\n",
              "      <td>0</td>\n",
              "      <td>0</td>\n",
              "      <td>0</td>\n",
              "      <td>0</td>\n",
              "      <td>0</td>\n",
              "      <td>0</td>\n",
              "      <td>0</td>\n",
              "      <td>0</td>\n",
              "      <td>0</td>\n",
              "      <td>0</td>\n",
              "      <td>0</td>\n",
              "      <td>0</td>\n",
              "      <td>0</td>\n",
              "      <td>0</td>\n",
              "      <td>0</td>\n",
              "      <td>0</td>\n",
              "      <td>0</td>\n",
              "      <td>1</td>\n",
              "      <td>0</td>\n",
              "      <td>0</td>\n",
              "      <td>0</td>\n",
              "      <td>0</td>\n",
              "      <td>0</td>\n",
              "      <td>0</td>\n",
              "      <td>0</td>\n",
              "      <td>0</td>\n",
              "      <td>0</td>\n",
              "      <td>0</td>\n",
              "      <td>0</td>\n",
              "      <td>0</td>\n",
              "      <td>0</td>\n",
              "      <td>0</td>\n",
              "      <td>0</td>\n",
              "      <td>0</td>\n",
              "      <td>0</td>\n",
              "      <td>0</td>\n",
              "      <td>0</td>\n",
              "      <td>0</td>\n",
              "      <td>0</td>\n",
              "      <td>0</td>\n",
              "      <td>0</td>\n",
              "      <td>0</td>\n",
              "      <td>0</td>\n",
              "      <td>0</td>\n",
              "      <td>0</td>\n",
              "      <td>0</td>\n",
              "      <td>0</td>\n",
              "      <td>0</td>\n",
              "      <td>0</td>\n",
              "      <td>0</td>\n",
              "      <td>0</td>\n",
              "      <td>0</td>\n",
              "      <td>0</td>\n",
              "      <td>0</td>\n",
              "      <td>0</td>\n",
              "      <td>0</td>\n",
              "      <td>0</td>\n",
              "      <td>0</td>\n",
              "      <td>0</td>\n",
              "      <td>0</td>\n",
              "      <td>0</td>\n",
              "      <td>0</td>\n",
              "      <td>0</td>\n",
              "      <td>0</td>\n",
              "      <td>0</td>\n",
              "      <td>0</td>\n",
              "      <td>0</td>\n",
              "      <td>0</td>\n",
              "      <td>0</td>\n",
              "      <td>0</td>\n",
              "      <td>0</td>\n",
              "      <td>0</td>\n",
              "      <td>0</td>\n",
              "      <td>0</td>\n",
              "      <td>1</td>\n",
              "      <td>0</td>\n",
              "    </tr>\n",
              "    <tr>\n",
              "      <th>2</th>\n",
              "      <td>0</td>\n",
              "      <td>0</td>\n",
              "      <td>0</td>\n",
              "      <td>0</td>\n",
              "      <td>0</td>\n",
              "      <td>0</td>\n",
              "      <td>1</td>\n",
              "      <td>0</td>\n",
              "      <td>0</td>\n",
              "      <td>0</td>\n",
              "      <td>0</td>\n",
              "      <td>0</td>\n",
              "      <td>0</td>\n",
              "      <td>0</td>\n",
              "      <td>0</td>\n",
              "      <td>0</td>\n",
              "      <td>0</td>\n",
              "      <td>0</td>\n",
              "      <td>0</td>\n",
              "      <td>0</td>\n",
              "      <td>0</td>\n",
              "      <td>0</td>\n",
              "      <td>0</td>\n",
              "      <td>0</td>\n",
              "      <td>0</td>\n",
              "      <td>0</td>\n",
              "      <td>0</td>\n",
              "      <td>0</td>\n",
              "      <td>0</td>\n",
              "      <td>0</td>\n",
              "      <td>0</td>\n",
              "      <td>0</td>\n",
              "      <td>0</td>\n",
              "      <td>0</td>\n",
              "      <td>0</td>\n",
              "      <td>0</td>\n",
              "      <td>0</td>\n",
              "      <td>0</td>\n",
              "      <td>0</td>\n",
              "      <td>0</td>\n",
              "      <td>0</td>\n",
              "      <td>0</td>\n",
              "      <td>0</td>\n",
              "      <td>0</td>\n",
              "      <td>0</td>\n",
              "      <td>0</td>\n",
              "      <td>0</td>\n",
              "      <td>0</td>\n",
              "      <td>0</td>\n",
              "      <td>0</td>\n",
              "      <td>0</td>\n",
              "      <td>0</td>\n",
              "      <td>1</td>\n",
              "      <td>0</td>\n",
              "      <td>0</td>\n",
              "      <td>0</td>\n",
              "      <td>0</td>\n",
              "      <td>0</td>\n",
              "      <td>0</td>\n",
              "      <td>0</td>\n",
              "      <td>0</td>\n",
              "      <td>0</td>\n",
              "      <td>0</td>\n",
              "      <td>0</td>\n",
              "      <td>0</td>\n",
              "      <td>0</td>\n",
              "      <td>0</td>\n",
              "      <td>0</td>\n",
              "      <td>0</td>\n",
              "      <td>0</td>\n",
              "      <td>0</td>\n",
              "      <td>0</td>\n",
              "      <td>0</td>\n",
              "      <td>0</td>\n",
              "      <td>0</td>\n",
              "      <td>0</td>\n",
              "      <td>0</td>\n",
              "      <td>0</td>\n",
              "      <td>0</td>\n",
              "      <td>1</td>\n",
              "      <td>0</td>\n",
              "    </tr>\n",
              "    <tr>\n",
              "      <th>3</th>\n",
              "      <td>0</td>\n",
              "      <td>0</td>\n",
              "      <td>0</td>\n",
              "      <td>0</td>\n",
              "      <td>0</td>\n",
              "      <td>0</td>\n",
              "      <td>1</td>\n",
              "      <td>0</td>\n",
              "      <td>0</td>\n",
              "      <td>0</td>\n",
              "      <td>0</td>\n",
              "      <td>0</td>\n",
              "      <td>0</td>\n",
              "      <td>0</td>\n",
              "      <td>0</td>\n",
              "      <td>0</td>\n",
              "      <td>0</td>\n",
              "      <td>0</td>\n",
              "      <td>0</td>\n",
              "      <td>0</td>\n",
              "      <td>0</td>\n",
              "      <td>0</td>\n",
              "      <td>0</td>\n",
              "      <td>0</td>\n",
              "      <td>0</td>\n",
              "      <td>0</td>\n",
              "      <td>0</td>\n",
              "      <td>0</td>\n",
              "      <td>0</td>\n",
              "      <td>0</td>\n",
              "      <td>0</td>\n",
              "      <td>0</td>\n",
              "      <td>0</td>\n",
              "      <td>0</td>\n",
              "      <td>0</td>\n",
              "      <td>0</td>\n",
              "      <td>0</td>\n",
              "      <td>0</td>\n",
              "      <td>0</td>\n",
              "      <td>0</td>\n",
              "      <td>0</td>\n",
              "      <td>0</td>\n",
              "      <td>0</td>\n",
              "      <td>0</td>\n",
              "      <td>0</td>\n",
              "      <td>0</td>\n",
              "      <td>0</td>\n",
              "      <td>0</td>\n",
              "      <td>1</td>\n",
              "      <td>0</td>\n",
              "      <td>0</td>\n",
              "      <td>0</td>\n",
              "      <td>0</td>\n",
              "      <td>0</td>\n",
              "      <td>0</td>\n",
              "      <td>0</td>\n",
              "      <td>0</td>\n",
              "      <td>0</td>\n",
              "      <td>0</td>\n",
              "      <td>0</td>\n",
              "      <td>0</td>\n",
              "      <td>0</td>\n",
              "      <td>0</td>\n",
              "      <td>0</td>\n",
              "      <td>0</td>\n",
              "      <td>0</td>\n",
              "      <td>0</td>\n",
              "      <td>0</td>\n",
              "      <td>0</td>\n",
              "      <td>0</td>\n",
              "      <td>0</td>\n",
              "      <td>0</td>\n",
              "      <td>0</td>\n",
              "      <td>0</td>\n",
              "      <td>0</td>\n",
              "      <td>0</td>\n",
              "      <td>0</td>\n",
              "      <td>0</td>\n",
              "      <td>0</td>\n",
              "      <td>1</td>\n",
              "      <td>0</td>\n",
              "    </tr>\n",
              "    <tr>\n",
              "      <th>4</th>\n",
              "      <td>0</td>\n",
              "      <td>0</td>\n",
              "      <td>0</td>\n",
              "      <td>0</td>\n",
              "      <td>1</td>\n",
              "      <td>0</td>\n",
              "      <td>0</td>\n",
              "      <td>0</td>\n",
              "      <td>0</td>\n",
              "      <td>0</td>\n",
              "      <td>0</td>\n",
              "      <td>0</td>\n",
              "      <td>0</td>\n",
              "      <td>0</td>\n",
              "      <td>0</td>\n",
              "      <td>0</td>\n",
              "      <td>0</td>\n",
              "      <td>0</td>\n",
              "      <td>0</td>\n",
              "      <td>0</td>\n",
              "      <td>0</td>\n",
              "      <td>0</td>\n",
              "      <td>1</td>\n",
              "      <td>0</td>\n",
              "      <td>0</td>\n",
              "      <td>0</td>\n",
              "      <td>0</td>\n",
              "      <td>0</td>\n",
              "      <td>0</td>\n",
              "      <td>0</td>\n",
              "      <td>0</td>\n",
              "      <td>0</td>\n",
              "      <td>0</td>\n",
              "      <td>0</td>\n",
              "      <td>0</td>\n",
              "      <td>0</td>\n",
              "      <td>0</td>\n",
              "      <td>0</td>\n",
              "      <td>0</td>\n",
              "      <td>0</td>\n",
              "      <td>0</td>\n",
              "      <td>0</td>\n",
              "      <td>0</td>\n",
              "      <td>0</td>\n",
              "      <td>0</td>\n",
              "      <td>0</td>\n",
              "      <td>0</td>\n",
              "      <td>0</td>\n",
              "      <td>0</td>\n",
              "      <td>0</td>\n",
              "      <td>0</td>\n",
              "      <td>0</td>\n",
              "      <td>0</td>\n",
              "      <td>0</td>\n",
              "      <td>0</td>\n",
              "      <td>0</td>\n",
              "      <td>0</td>\n",
              "      <td>0</td>\n",
              "      <td>0</td>\n",
              "      <td>0</td>\n",
              "      <td>0</td>\n",
              "      <td>0</td>\n",
              "      <td>0</td>\n",
              "      <td>0</td>\n",
              "      <td>0</td>\n",
              "      <td>0</td>\n",
              "      <td>0</td>\n",
              "      <td>0</td>\n",
              "      <td>0</td>\n",
              "      <td>0</td>\n",
              "      <td>0</td>\n",
              "      <td>0</td>\n",
              "      <td>0</td>\n",
              "      <td>0</td>\n",
              "      <td>0</td>\n",
              "      <td>0</td>\n",
              "      <td>0</td>\n",
              "      <td>0</td>\n",
              "      <td>0</td>\n",
              "      <td>1</td>\n",
              "      <td>0</td>\n",
              "    </tr>\n",
              "  </tbody>\n",
              "</table>\n",
              "</div>\n",
              "      <button class=\"colab-df-convert\" onclick=\"convertToInteractive('df-32755b8c-38ac-4d64-9103-8ad1067bfcca')\"\n",
              "              title=\"Convert this dataframe to an interactive table.\"\n",
              "              style=\"display:none;\">\n",
              "        \n",
              "  <svg xmlns=\"http://www.w3.org/2000/svg\" height=\"24px\"viewBox=\"0 0 24 24\"\n",
              "       width=\"24px\">\n",
              "    <path d=\"M0 0h24v24H0V0z\" fill=\"none\"/>\n",
              "    <path d=\"M18.56 5.44l.94 2.06.94-2.06 2.06-.94-2.06-.94-.94-2.06-.94 2.06-2.06.94zm-11 1L8.5 8.5l.94-2.06 2.06-.94-2.06-.94L8.5 2.5l-.94 2.06-2.06.94zm10 10l.94 2.06.94-2.06 2.06-.94-2.06-.94-.94-2.06-.94 2.06-2.06.94z\"/><path d=\"M17.41 7.96l-1.37-1.37c-.4-.4-.92-.59-1.43-.59-.52 0-1.04.2-1.43.59L10.3 9.45l-7.72 7.72c-.78.78-.78 2.05 0 2.83L4 21.41c.39.39.9.59 1.41.59.51 0 1.02-.2 1.41-.59l7.78-7.78 2.81-2.81c.8-.78.8-2.07 0-2.86zM5.41 20L4 18.59l7.72-7.72 1.47 1.35L5.41 20z\"/>\n",
              "  </svg>\n",
              "      </button>\n",
              "      \n",
              "  <style>\n",
              "    .colab-df-container {\n",
              "      display:flex;\n",
              "      flex-wrap:wrap;\n",
              "      gap: 12px;\n",
              "    }\n",
              "\n",
              "    .colab-df-convert {\n",
              "      background-color: #E8F0FE;\n",
              "      border: none;\n",
              "      border-radius: 50%;\n",
              "      cursor: pointer;\n",
              "      display: none;\n",
              "      fill: #1967D2;\n",
              "      height: 32px;\n",
              "      padding: 0 0 0 0;\n",
              "      width: 32px;\n",
              "    }\n",
              "\n",
              "    .colab-df-convert:hover {\n",
              "      background-color: #E2EBFA;\n",
              "      box-shadow: 0px 1px 2px rgba(60, 64, 67, 0.3), 0px 1px 3px 1px rgba(60, 64, 67, 0.15);\n",
              "      fill: #174EA6;\n",
              "    }\n",
              "\n",
              "    [theme=dark] .colab-df-convert {\n",
              "      background-color: #3B4455;\n",
              "      fill: #D2E3FC;\n",
              "    }\n",
              "\n",
              "    [theme=dark] .colab-df-convert:hover {\n",
              "      background-color: #434B5C;\n",
              "      box-shadow: 0px 1px 3px 1px rgba(0, 0, 0, 0.15);\n",
              "      filter: drop-shadow(0px 1px 2px rgba(0, 0, 0, 0.3));\n",
              "      fill: #FFFFFF;\n",
              "    }\n",
              "  </style>\n",
              "\n",
              "      <script>\n",
              "        const buttonEl =\n",
              "          document.querySelector('#df-32755b8c-38ac-4d64-9103-8ad1067bfcca button.colab-df-convert');\n",
              "        buttonEl.style.display =\n",
              "          google.colab.kernel.accessAllowed ? 'block' : 'none';\n",
              "\n",
              "        async function convertToInteractive(key) {\n",
              "          const element = document.querySelector('#df-32755b8c-38ac-4d64-9103-8ad1067bfcca');\n",
              "          const dataTable =\n",
              "            await google.colab.kernel.invokeFunction('convertToInteractive',\n",
              "                                                     [key], {});\n",
              "          if (!dataTable) return;\n",
              "\n",
              "          const docLinkHtml = 'Like what you see? Visit the ' +\n",
              "            '<a target=\"_blank\" href=https://colab.research.google.com/notebooks/data_table.ipynb>data table notebook</a>'\n",
              "            + ' to learn more about interactive tables.';\n",
              "          element.innerHTML = '';\n",
              "          dataTable['output_type'] = 'display_data';\n",
              "          await google.colab.output.renderOutput(dataTable, element);\n",
              "          const docLink = document.createElement('div');\n",
              "          docLink.innerHTML = docLinkHtml;\n",
              "          element.appendChild(docLink);\n",
              "        }\n",
              "      </script>\n",
              "    </div>\n",
              "  </div>\n",
              "  "
            ]
          },
          "metadata": {},
          "execution_count": 6
        }
      ],
      "source": [
        "# capture the categorical variables and one-hot encode them\n",
        "cat_vars = ['protocol_type', 'service', 'flag', 'land', 'logged_in','is_host_login', 'is_guest_login']\n",
        "\n",
        "# find unique labels for each category\n",
        "cat_data = pd.get_dummies(df[cat_vars])\n",
        "\n",
        "# check that the categorical variables were created correctly\n",
        "cat_data.head()"
      ]
    },
    {
      "cell_type": "markdown",
      "metadata": {
        "id": "oU1rW3oORY0t"
      },
      "source": [
        "<br>\n",
        "Scroll to the right to notice the new categories that were created. For example, the categorical variable \"protocol_type\" is split into three categories, protocol_type_icmp, protocol_type_tcp and protocol_type_udp. Now that the one hot encoding of the categorical data is done, we need to merge the numerical data from the original data. \n",
        "<br>\n",
        "<br>"
      ]
    },
    {
      "cell_type": "code",
      "execution_count": 7,
      "metadata": {
        "colab": {
          "base_uri": "https://localhost:8080/",
          "height": 270
        },
        "id": "CN_RieciRY0u",
        "outputId": "f3e82e11-27f1-4811-b2bd-d372e7ce584e"
      },
      "outputs": [
        {
          "output_type": "execute_result",
          "data": {
            "text/plain": [
              "   src_bytes  srv_rerror_rate  num_outbound_cmds  dst_host_serror_rate  \\\n",
              "0          0              0.0                  0                   1.0   \n",
              "1        520              0.0                  0                   0.0   \n",
              "2        105              0.0                  0                   0.0   \n",
              "3        147              0.0                  0                   0.0   \n",
              "4       1032              0.0                  0                   0.0   \n",
              "\n",
              "   root_shell  same_srv_rate  num_shells  wrong_fragment  duration  dst_bytes  \\\n",
              "0           0           0.12           0               0         0          0   \n",
              "1           0           1.00           0               0         0          0   \n",
              "2           0           1.00           0               0         0        147   \n",
              "3           0           1.00           0               0      2630        105   \n",
              "4           0           1.00           0               0         0          0   \n",
              "\n",
              "   hot  serror_rate  num_root  srv_count  urgent  dst_host_count  \\\n",
              "0    0          1.0         0         13       0             255   \n",
              "1    0          0.0         0        511       0             255   \n",
              "2    0          0.0         0          1       0             255   \n",
              "3    0          0.0         0          1       0             255   \n",
              "4    0          0.0         0        510       0             255   \n",
              "\n",
              "   dst_host_rerror_rate  dst_host_srv_serror_rate  srv_diff_host_rate  \\\n",
              "0                   0.0                       1.0                 0.0   \n",
              "1                   0.0                       0.0                 0.0   \n",
              "2                   0.0                       0.0                 0.0   \n",
              "3                   0.0                       0.0                 0.0   \n",
              "4                   0.0                       0.0                 0.0   \n",
              "\n",
              "   diff_srv_rate  dst_host_srv_count  dst_host_srv_rerror_rate  su_attempted  \\\n",
              "0           0.06                  13                       0.0             0   \n",
              "1           0.00                 255                       0.0             0   \n",
              "2           0.00                 253                       0.0             0   \n",
              "3           0.00                   2                       0.0             0   \n",
              "4           0.00                 255                       0.0             0   \n",
              "\n",
              "   dst_host_diff_srv_rate  dst_host_same_srv_rate  count  \\\n",
              "0                    0.07                    0.05    112   \n",
              "1                    0.00                    1.00    511   \n",
              "2                    0.01                    0.99      1   \n",
              "3                    0.68                    0.01      1   \n",
              "4                    0.00                    1.00    510   \n",
              "\n",
              "   dst_host_same_src_port_rate  rerror_rate  num_failed_logins  \\\n",
              "0                         0.00          0.0                  0   \n",
              "1                         1.00          0.0                  0   \n",
              "2                         0.01          0.0                  0   \n",
              "3                         1.00          0.0                  0   \n",
              "4                         1.00          0.0                  0   \n",
              "\n",
              "   num_file_creations  dst_host_srv_diff_host_rate  srv_serror_rate  \\\n",
              "0                   0                          0.0              1.0   \n",
              "1                   0                          0.0              0.0   \n",
              "2                   0                          0.0              0.0   \n",
              "3                   0                          0.0              0.0   \n",
              "4                   0                          0.0              0.0   \n",
              "\n",
              "   num_access_files  num_compromised  \n",
              "0                 0                0  \n",
              "1                 0                0  \n",
              "2                 0                0  \n",
              "3                 0                0  \n",
              "4                 0                0  "
            ],
            "text/html": [
              "\n",
              "  <div id=\"df-d3d594bd-9b5f-4d62-9b2e-91e3c9d4ddcb\">\n",
              "    <div class=\"colab-df-container\">\n",
              "      <div>\n",
              "<style scoped>\n",
              "    .dataframe tbody tr th:only-of-type {\n",
              "        vertical-align: middle;\n",
              "    }\n",
              "\n",
              "    .dataframe tbody tr th {\n",
              "        vertical-align: top;\n",
              "    }\n",
              "\n",
              "    .dataframe thead th {\n",
              "        text-align: right;\n",
              "    }\n",
              "</style>\n",
              "<table border=\"1\" class=\"dataframe\">\n",
              "  <thead>\n",
              "    <tr style=\"text-align: right;\">\n",
              "      <th></th>\n",
              "      <th>src_bytes</th>\n",
              "      <th>srv_rerror_rate</th>\n",
              "      <th>num_outbound_cmds</th>\n",
              "      <th>dst_host_serror_rate</th>\n",
              "      <th>root_shell</th>\n",
              "      <th>same_srv_rate</th>\n",
              "      <th>num_shells</th>\n",
              "      <th>wrong_fragment</th>\n",
              "      <th>duration</th>\n",
              "      <th>dst_bytes</th>\n",
              "      <th>hot</th>\n",
              "      <th>serror_rate</th>\n",
              "      <th>num_root</th>\n",
              "      <th>srv_count</th>\n",
              "      <th>urgent</th>\n",
              "      <th>dst_host_count</th>\n",
              "      <th>dst_host_rerror_rate</th>\n",
              "      <th>dst_host_srv_serror_rate</th>\n",
              "      <th>srv_diff_host_rate</th>\n",
              "      <th>diff_srv_rate</th>\n",
              "      <th>dst_host_srv_count</th>\n",
              "      <th>dst_host_srv_rerror_rate</th>\n",
              "      <th>su_attempted</th>\n",
              "      <th>dst_host_diff_srv_rate</th>\n",
              "      <th>dst_host_same_srv_rate</th>\n",
              "      <th>count</th>\n",
              "      <th>dst_host_same_src_port_rate</th>\n",
              "      <th>rerror_rate</th>\n",
              "      <th>num_failed_logins</th>\n",
              "      <th>num_file_creations</th>\n",
              "      <th>dst_host_srv_diff_host_rate</th>\n",
              "      <th>srv_serror_rate</th>\n",
              "      <th>num_access_files</th>\n",
              "      <th>num_compromised</th>\n",
              "    </tr>\n",
              "  </thead>\n",
              "  <tbody>\n",
              "    <tr>\n",
              "      <th>0</th>\n",
              "      <td>0</td>\n",
              "      <td>0.0</td>\n",
              "      <td>0</td>\n",
              "      <td>1.0</td>\n",
              "      <td>0</td>\n",
              "      <td>0.12</td>\n",
              "      <td>0</td>\n",
              "      <td>0</td>\n",
              "      <td>0</td>\n",
              "      <td>0</td>\n",
              "      <td>0</td>\n",
              "      <td>1.0</td>\n",
              "      <td>0</td>\n",
              "      <td>13</td>\n",
              "      <td>0</td>\n",
              "      <td>255</td>\n",
              "      <td>0.0</td>\n",
              "      <td>1.0</td>\n",
              "      <td>0.0</td>\n",
              "      <td>0.06</td>\n",
              "      <td>13</td>\n",
              "      <td>0.0</td>\n",
              "      <td>0</td>\n",
              "      <td>0.07</td>\n",
              "      <td>0.05</td>\n",
              "      <td>112</td>\n",
              "      <td>0.00</td>\n",
              "      <td>0.0</td>\n",
              "      <td>0</td>\n",
              "      <td>0</td>\n",
              "      <td>0.0</td>\n",
              "      <td>1.0</td>\n",
              "      <td>0</td>\n",
              "      <td>0</td>\n",
              "    </tr>\n",
              "    <tr>\n",
              "      <th>1</th>\n",
              "      <td>520</td>\n",
              "      <td>0.0</td>\n",
              "      <td>0</td>\n",
              "      <td>0.0</td>\n",
              "      <td>0</td>\n",
              "      <td>1.00</td>\n",
              "      <td>0</td>\n",
              "      <td>0</td>\n",
              "      <td>0</td>\n",
              "      <td>0</td>\n",
              "      <td>0</td>\n",
              "      <td>0.0</td>\n",
              "      <td>0</td>\n",
              "      <td>511</td>\n",
              "      <td>0</td>\n",
              "      <td>255</td>\n",
              "      <td>0.0</td>\n",
              "      <td>0.0</td>\n",
              "      <td>0.0</td>\n",
              "      <td>0.00</td>\n",
              "      <td>255</td>\n",
              "      <td>0.0</td>\n",
              "      <td>0</td>\n",
              "      <td>0.00</td>\n",
              "      <td>1.00</td>\n",
              "      <td>511</td>\n",
              "      <td>1.00</td>\n",
              "      <td>0.0</td>\n",
              "      <td>0</td>\n",
              "      <td>0</td>\n",
              "      <td>0.0</td>\n",
              "      <td>0.0</td>\n",
              "      <td>0</td>\n",
              "      <td>0</td>\n",
              "    </tr>\n",
              "    <tr>\n",
              "      <th>2</th>\n",
              "      <td>105</td>\n",
              "      <td>0.0</td>\n",
              "      <td>0</td>\n",
              "      <td>0.0</td>\n",
              "      <td>0</td>\n",
              "      <td>1.00</td>\n",
              "      <td>0</td>\n",
              "      <td>0</td>\n",
              "      <td>0</td>\n",
              "      <td>147</td>\n",
              "      <td>0</td>\n",
              "      <td>0.0</td>\n",
              "      <td>0</td>\n",
              "      <td>1</td>\n",
              "      <td>0</td>\n",
              "      <td>255</td>\n",
              "      <td>0.0</td>\n",
              "      <td>0.0</td>\n",
              "      <td>0.0</td>\n",
              "      <td>0.00</td>\n",
              "      <td>253</td>\n",
              "      <td>0.0</td>\n",
              "      <td>0</td>\n",
              "      <td>0.01</td>\n",
              "      <td>0.99</td>\n",
              "      <td>1</td>\n",
              "      <td>0.01</td>\n",
              "      <td>0.0</td>\n",
              "      <td>0</td>\n",
              "      <td>0</td>\n",
              "      <td>0.0</td>\n",
              "      <td>0.0</td>\n",
              "      <td>0</td>\n",
              "      <td>0</td>\n",
              "    </tr>\n",
              "    <tr>\n",
              "      <th>3</th>\n",
              "      <td>147</td>\n",
              "      <td>0.0</td>\n",
              "      <td>0</td>\n",
              "      <td>0.0</td>\n",
              "      <td>0</td>\n",
              "      <td>1.00</td>\n",
              "      <td>0</td>\n",
              "      <td>0</td>\n",
              "      <td>2630</td>\n",
              "      <td>105</td>\n",
              "      <td>0</td>\n",
              "      <td>0.0</td>\n",
              "      <td>0</td>\n",
              "      <td>1</td>\n",
              "      <td>0</td>\n",
              "      <td>255</td>\n",
              "      <td>0.0</td>\n",
              "      <td>0.0</td>\n",
              "      <td>0.0</td>\n",
              "      <td>0.00</td>\n",
              "      <td>2</td>\n",
              "      <td>0.0</td>\n",
              "      <td>0</td>\n",
              "      <td>0.68</td>\n",
              "      <td>0.01</td>\n",
              "      <td>1</td>\n",
              "      <td>1.00</td>\n",
              "      <td>0.0</td>\n",
              "      <td>0</td>\n",
              "      <td>0</td>\n",
              "      <td>0.0</td>\n",
              "      <td>0.0</td>\n",
              "      <td>0</td>\n",
              "      <td>0</td>\n",
              "    </tr>\n",
              "    <tr>\n",
              "      <th>4</th>\n",
              "      <td>1032</td>\n",
              "      <td>0.0</td>\n",
              "      <td>0</td>\n",
              "      <td>0.0</td>\n",
              "      <td>0</td>\n",
              "      <td>1.00</td>\n",
              "      <td>0</td>\n",
              "      <td>0</td>\n",
              "      <td>0</td>\n",
              "      <td>0</td>\n",
              "      <td>0</td>\n",
              "      <td>0.0</td>\n",
              "      <td>0</td>\n",
              "      <td>510</td>\n",
              "      <td>0</td>\n",
              "      <td>255</td>\n",
              "      <td>0.0</td>\n",
              "      <td>0.0</td>\n",
              "      <td>0.0</td>\n",
              "      <td>0.00</td>\n",
              "      <td>255</td>\n",
              "      <td>0.0</td>\n",
              "      <td>0</td>\n",
              "      <td>0.00</td>\n",
              "      <td>1.00</td>\n",
              "      <td>510</td>\n",
              "      <td>1.00</td>\n",
              "      <td>0.0</td>\n",
              "      <td>0</td>\n",
              "      <td>0</td>\n",
              "      <td>0.0</td>\n",
              "      <td>0.0</td>\n",
              "      <td>0</td>\n",
              "      <td>0</td>\n",
              "    </tr>\n",
              "  </tbody>\n",
              "</table>\n",
              "</div>\n",
              "      <button class=\"colab-df-convert\" onclick=\"convertToInteractive('df-d3d594bd-9b5f-4d62-9b2e-91e3c9d4ddcb')\"\n",
              "              title=\"Convert this dataframe to an interactive table.\"\n",
              "              style=\"display:none;\">\n",
              "        \n",
              "  <svg xmlns=\"http://www.w3.org/2000/svg\" height=\"24px\"viewBox=\"0 0 24 24\"\n",
              "       width=\"24px\">\n",
              "    <path d=\"M0 0h24v24H0V0z\" fill=\"none\"/>\n",
              "    <path d=\"M18.56 5.44l.94 2.06.94-2.06 2.06-.94-2.06-.94-.94-2.06-.94 2.06-2.06.94zm-11 1L8.5 8.5l.94-2.06 2.06-.94-2.06-.94L8.5 2.5l-.94 2.06-2.06.94zm10 10l.94 2.06.94-2.06 2.06-.94-2.06-.94-.94-2.06-.94 2.06-2.06.94z\"/><path d=\"M17.41 7.96l-1.37-1.37c-.4-.4-.92-.59-1.43-.59-.52 0-1.04.2-1.43.59L10.3 9.45l-7.72 7.72c-.78.78-.78 2.05 0 2.83L4 21.41c.39.39.9.59 1.41.59.51 0 1.02-.2 1.41-.59l7.78-7.78 2.81-2.81c.8-.78.8-2.07 0-2.86zM5.41 20L4 18.59l7.72-7.72 1.47 1.35L5.41 20z\"/>\n",
              "  </svg>\n",
              "      </button>\n",
              "      \n",
              "  <style>\n",
              "    .colab-df-container {\n",
              "      display:flex;\n",
              "      flex-wrap:wrap;\n",
              "      gap: 12px;\n",
              "    }\n",
              "\n",
              "    .colab-df-convert {\n",
              "      background-color: #E8F0FE;\n",
              "      border: none;\n",
              "      border-radius: 50%;\n",
              "      cursor: pointer;\n",
              "      display: none;\n",
              "      fill: #1967D2;\n",
              "      height: 32px;\n",
              "      padding: 0 0 0 0;\n",
              "      width: 32px;\n",
              "    }\n",
              "\n",
              "    .colab-df-convert:hover {\n",
              "      background-color: #E2EBFA;\n",
              "      box-shadow: 0px 1px 2px rgba(60, 64, 67, 0.3), 0px 1px 3px 1px rgba(60, 64, 67, 0.15);\n",
              "      fill: #174EA6;\n",
              "    }\n",
              "\n",
              "    [theme=dark] .colab-df-convert {\n",
              "      background-color: #3B4455;\n",
              "      fill: #D2E3FC;\n",
              "    }\n",
              "\n",
              "    [theme=dark] .colab-df-convert:hover {\n",
              "      background-color: #434B5C;\n",
              "      box-shadow: 0px 1px 3px 1px rgba(0, 0, 0, 0.15);\n",
              "      filter: drop-shadow(0px 1px 2px rgba(0, 0, 0, 0.3));\n",
              "      fill: #FFFFFF;\n",
              "    }\n",
              "  </style>\n",
              "\n",
              "      <script>\n",
              "        const buttonEl =\n",
              "          document.querySelector('#df-d3d594bd-9b5f-4d62-9b2e-91e3c9d4ddcb button.colab-df-convert');\n",
              "        buttonEl.style.display =\n",
              "          google.colab.kernel.accessAllowed ? 'block' : 'none';\n",
              "\n",
              "        async function convertToInteractive(key) {\n",
              "          const element = document.querySelector('#df-d3d594bd-9b5f-4d62-9b2e-91e3c9d4ddcb');\n",
              "          const dataTable =\n",
              "            await google.colab.kernel.invokeFunction('convertToInteractive',\n",
              "                                                     [key], {});\n",
              "          if (!dataTable) return;\n",
              "\n",
              "          const docLinkHtml = 'Like what you see? Visit the ' +\n",
              "            '<a target=\"_blank\" href=https://colab.research.google.com/notebooks/data_table.ipynb>data table notebook</a>'\n",
              "            + ' to learn more about interactive tables.';\n",
              "          element.innerHTML = '';\n",
              "          dataTable['output_type'] = 'display_data';\n",
              "          await google.colab.output.renderOutput(dataTable, element);\n",
              "          const docLink = document.createElement('div');\n",
              "          docLink.innerHTML = docLinkHtml;\n",
              "          element.appendChild(docLink);\n",
              "        }\n",
              "      </script>\n",
              "    </div>\n",
              "  </div>\n",
              "  "
            ]
          },
          "metadata": {},
          "execution_count": 7
        }
      ],
      "source": [
        "numeric_vars = list(set(df.columns.values.tolist()) - set(cat_vars))\n",
        "numeric_vars.remove('label')\n",
        "numeric_data = df[numeric_vars].copy()\n",
        "\n",
        "# check that the numeric data has been captured accurately\n",
        "numeric_data.head()"
      ]
    },
    {
      "cell_type": "code",
      "execution_count": 8,
      "metadata": {
        "colab": {
          "base_uri": "https://localhost:8080/"
        },
        "id": "f9NfMuJnRY0v",
        "outputId": "9421f894-2086-47f4-b527-80df08b10522"
      },
      "outputs": [
        {
          "output_type": "stream",
          "name": "stdout",
          "text": [
            "(160000, 81)\n",
            "(160000, 34)\n",
            "(160000, 115)\n"
          ]
        }
      ],
      "source": [
        "# concat numeric and the encoded categorical variables\n",
        "numeric_cat_data = pd.concat([numeric_data, cat_data], axis=1)\n",
        "\n",
        "# here we do a quick sanity check that the data has been concatenated correctly by checking the dimension of the vectors\n",
        "print(cat_data.shape)\n",
        "print(numeric_data.shape)\n",
        "print(numeric_cat_data.shape)"
      ]
    },
    {
      "cell_type": "markdown",
      "metadata": {
        "id": "UDv2T2gcRY0v"
      },
      "source": [
        "<br>\n",
        "Now let's split the data into training set and test set in the ratio of 75:25. We will be using <a href=\"https://scikit-learn.org/stable/modules/generated/sklearn.preprocessing.LabelEncoder.html\">LabelEncoder</a>, <a href=\"https://scikit-learn.org/stable/modules/generated/sklearn.preprocessing.StandardScaler.html#sklearn.preprocessing.StandardScaler.fit_transform\">fit_transform</a> and <a href=\"https://scikit-https://scikit-learn.org/stable/modules/generated/sklearn.model_selection.train_test_split.html\">train_test_split</a> from scikit-learn.\n",
        "<br>"
      ]
    },
    {
      "cell_type": "code",
      "execution_count": 9,
      "metadata": {
        "id": "3ItODLb_RY0w"
      },
      "outputs": [],
      "source": [
        "# capture the labels\n",
        "labels = df['label'].copy()\n",
        "\n",
        "# convert labels to integers\n",
        "integer_labels = le.transform(labels)\n",
        "\n",
        "# split data into test and train\n",
        "x_train, x_test, y_train, y_test = train_test_split(numeric_cat_data,\n",
        "                                                    integer_labels,\n",
        "                                                    test_size=.25, \n",
        "                                                    random_state=42)"
      ]
    },
    {
      "cell_type": "markdown",
      "metadata": {
        "id": "9dDETbCpRY0w"
      },
      "source": [
        "<br>\n",
        "We can inspect the dimension of the testing set and the training set to confirm that the data has been split correctly. We will also save the dataset to be used in the later portion of this lab and in lab-2 by \"pickling\" the data. Pickling allows us to save a python object as a binary file.\n",
        "<br>"
      ]
    },
    {
      "cell_type": "code",
      "execution_count": 10,
      "metadata": {
        "colab": {
          "base_uri": "https://localhost:8080/"
        },
        "id": "w15PFANIRY0w",
        "outputId": "21951d94-cc8c-498f-e84c-dc39719cc41f"
      },
      "outputs": [
        {
          "output_type": "stream",
          "name": "stdout",
          "text": [
            "(120000, 115)\n",
            "(120000,)\n",
            "(40000, 115)\n",
            "(40000,)\n"
          ]
        }
      ],
      "source": [
        "# check that the dimensions of our train and test sets are okay\n",
        "print(x_train.shape)\n",
        "print(y_train.shape)\n",
        "print(x_test.shape)\n",
        "print(y_test.shape)"
      ]
    },
    {
      "cell_type": "code",
      "execution_count": 11,
      "metadata": {
        "id": "9fcqET9iRY0y"
      },
      "outputs": [],
      "source": [
        "# save the datasets for later use\n",
        "preprocessed_data = {\n",
        "    'x_train':x_train,\n",
        "    'y_train':y_train,\n",
        "    'x_test':x_test,\n",
        "    'y_test':y_test,\n",
        "    'le':le\n",
        "}\n",
        "\n",
        "# pickle the preprocessed_data\n",
        "path = 'preprocessed_data_full.pkl'\n",
        "out = open(path, 'wb')\n",
        "pickle.dump(preprocessed_data, out)\n",
        "out.close()"
      ]
    },
    {
      "cell_type": "markdown",
      "metadata": {
        "id": "v4-JhwrGRY0y"
      },
      "source": [
        "We will approach this anomaly detection problem in two ways:\n",
        "\n",
        "1. Implementing binary classification where we will label the Normal frames as '0' and Anomalous frames as '1' and use a 'one vs all' approach to detect an anomalous frame\n",
        "2. Implementing multi-class classification where we will be able to detect the *type* of anomaly as well using our original y_train and y_test labels"
      ]
    },
    {
      "cell_type": "markdown",
      "metadata": {
        "id": "ICZbaXSXRY0z"
      },
      "source": [
        "## Section 2: Training a Binary Classifier"
      ]
    },
    {
      "cell_type": "markdown",
      "metadata": {
        "id": "NQw8VxOPRY0z"
      },
      "source": [
        "In the following cell, you will convert to binary labels. Remember what you do here as you will implement the multi-class solution yourself later."
      ]
    },
    {
      "cell_type": "code",
      "execution_count": 12,
      "metadata": {
        "colab": {
          "base_uri": "https://localhost:8080/"
        },
        "id": "Wl3hamYPRY0z",
        "outputId": "8caff7bb-4c5d-49dd-db5e-29ff46d68fd9"
      },
      "outputs": [
        {
          "output_type": "stream",
          "name": "stdout",
          "text": [
            "Number of anomalies in y_train:  96131\n",
            "Number of anomalies in y_test:   32148\n"
          ]
        }
      ],
      "source": [
        "def convert_label_to_binary(label_encoder, labels):\n",
        "    normal_idx = np.where(label_encoder.classes_ == 'normal.')[0][0]\n",
        "    my_labels = labels.copy()\n",
        "    my_labels[my_labels != normal_idx] = 1 \n",
        "    my_labels[my_labels == normal_idx] = 0\n",
        "    return my_labels\n",
        "\n",
        "binary_y_train = convert_label_to_binary(le, y_train)\n",
        "binary_y_test = convert_label_to_binary(le, y_test)\n",
        "\n",
        "# check how many anomalies are in our labels\n",
        "print('Number of anomalies in y_train: ', binary_y_train.sum())\n",
        "print('Number of anomalies in y_test:  ', binary_y_test.sum())\n"
      ]
    },
    {
      "cell_type": "code",
      "execution_count": 13,
      "metadata": {
        "colab": {
          "base_uri": "https://localhost:8080/"
        },
        "id": "YFk1E0lCRY0z",
        "outputId": "8d944792-1ea2-4d60-d066-4e99506134ac"
      },
      "outputs": [
        {
          "output_type": "execute_result",
          "data": {
            "text/plain": [
              "array([0, 0, 1, ..., 1, 1, 1])"
            ]
          },
          "metadata": {},
          "execution_count": 13
        }
      ],
      "source": [
        "binary_y_train"
      ]
    },
    {
      "cell_type": "code",
      "execution_count": 14,
      "metadata": {
        "colab": {
          "base_uri": "https://localhost:8080/"
        },
        "id": "JEuev7-ORY01",
        "outputId": "91d17bb1-76a2-4821-a8dc-6681e356e5eb"
      },
      "outputs": [
        {
          "output_type": "execute_result",
          "data": {
            "text/plain": [
              "array([1, 1, 1, ..., 0, 1, 1])"
            ]
          },
          "metadata": {},
          "execution_count": 14
        }
      ],
      "source": [
        "binary_y_test"
      ]
    },
    {
      "cell_type": "code",
      "execution_count": 14,
      "metadata": {
        "id": "bVzjdqQGRY01"
      },
      "outputs": [],
      "source": []
    },
    {
      "cell_type": "markdown",
      "metadata": {
        "id": "uDp7tQr7RY02"
      },
      "source": [
        "We see that the anomalies are optimally split between the training set and the testing set. Now that we have prepared the data, we are ready to train an XGBoost model to detect anomalies. \n",
        "<br>"
      ]
    },
    {
      "cell_type": "markdown",
      "metadata": {
        "id": "AVnLC9ZSRY04"
      },
      "source": [
        "### 2.1 Training GPU XGBoost Models with RAPIDS"
      ]
    },
    {
      "cell_type": "markdown",
      "metadata": {
        "id": "0c4GvYXwRY04"
      },
      "source": [
        "#### XGBoost"
      ]
    },
    {
      "cell_type": "markdown",
      "metadata": {
        "id": "Psgsc5bJRY04"
      },
      "source": [
        "XGBoost is widely known today as a \"go to\" model when working with structured data such as the KDD99 dataset. In fact, there are a disproportionately large number of XGBoost-based winning entries of Kaggle competitions.\n",
        "\n",
        "What is XGBoost and why is it so popular?\n",
        "\n",
        "Traditionally, in tree-based ensemble methods such as Random Forests, we train each tree independently. The predictions of multiple trees are summed to obtain the final score. The figure below classifies whether someone would like to play computer games or not."
      ]
    },
    {
      "cell_type": "markdown",
      "metadata": {
        "id": "PCSGQ12oRY05"
      },
      "source": [
        "<img src=\"images/twocart.png\" alt=\"Alt text that describes the graphic\" title=\"Title text\" width=700px>"
      ]
    },
    {
      "cell_type": "markdown",
      "metadata": {
        "id": "iIftJdHNRY05"
      },
      "source": [
        "<div align=\"center\" style=\"color:gray;\">\n",
        "    <em>Image courtesy <a href=\"https://goo.gl/eTxVtA\">goo.gl/eTxVtA<a/></em>\n",
        "</div>\n",
        "<hr>"
      ]
    },
    {
      "cell_type": "markdown",
      "metadata": {
        "id": "k4PwpLImRY05"
      },
      "source": [
        "In the case of XGBoost, an implementation of Gradient Boosted Decision Trees, we repeatedly build new models and combine them into an ensemble. Unlike Random Forests, we build trees one at a time, where each new tree helps to correct errors made by previously trained tree."
      ]
    },
    {
      "cell_type": "markdown",
      "metadata": {
        "id": "dOKQUdkzRY06"
      },
      "source": [
        "<img src=\"https://drive.google.com/uc?id=1WDN-kDMOsIhY3vWy8UBOR0qgBRHqbf-2\" alt=\"Alt text that describes the graphic\" title=\"Title text\" width=700px>"
      ]
    },
    {
      "cell_type": "markdown",
      "metadata": {
        "id": "4Hd9UFjCRY06"
      },
      "source": [
        "*The objective of the XGBoost model is as follows:*"
      ]
    },
    {
      "cell_type": "markdown",
      "metadata": {
        "id": "uVQpAg_cRY07"
      },
      "source": [
        "<img src=images/xgboost-objective.PNG alt=\"Alt text that describes the graphic\" title=\"Title text\" />"
      ]
    },
    {
      "cell_type": "markdown",
      "metadata": {
        "id": "ClozZMVNRY07"
      },
      "source": [
        "The loss function controls the predictive power of the model, and the XGBoost regularization term ensures simplicity and manages overfitting.\n",
        "\n",
        "Since Boosting focuses step by step on the difficult examples it gives it a nice strategy to deal with unbalanced datasets by strengthening the impact of the positive class."
      ]
    },
    {
      "cell_type": "markdown",
      "metadata": {
        "id": "4xcM9dz9RY07"
      },
      "source": [
        "### 2.2 Why Use GPU to Accelerate XGBoost?"
      ]
    },
    {
      "cell_type": "markdown",
      "metadata": {
        "id": "Zc2fBxDZRY08"
      },
      "source": [
        "Generally, GPU accelerated XGBoost models will train much faster. It's also extremely easy.  In order to use the GPU version of XGBoost, only one parameter in the code has to be set (see below): ```{'tree_method': 'gpu_hist'```} Also, the environment must have the GPU version of XGBoost: https://xgboost.readthedocs.io/en/latest/gpu/index.html. The easiest way to use GPU XGBoost is to use NVIDIA's RAPIDS container: https://hub.docker.com/r/rapidsai/rapidsai/. \n",
        "\n",
        "Machine learning models using XGBoost on large datasets can take several hours to train and achieve the best predictions. Oftentimes, models have to be trained for 1000s of iterations, and usually many different combinations of hyperparameters must be tested.\n",
        "\n",
        "The more models that can be trained, the better the accuracy will be."
      ]
    },
    {
      "cell_type": "markdown",
      "metadata": {
        "id": "eZALjKrWRY08"
      },
      "source": [
        "<img src=images/moremodels.PNG alt=\"Alt text that describes the graphic\" title=\"Title text\" />"
      ]
    },
    {
      "cell_type": "markdown",
      "metadata": {
        "id": "VNCBaelARY08"
      },
      "source": [
        "Fortunately, the XGBoost algorithm is highly parallelizable by virtue of requiring scans across gradient values and using these partial sums to evaluate the quality of splits at every possible split in the training set. By utilizing fast parallel prefix operations to scan through all possible splits as well as parallel radix sorting to repartition data, the GPU accelerated version builds a decision tree for a given boosting iteration one level at a time, processing the entire dataset concurrently on the GPU."
      ]
    },
    {
      "cell_type": "markdown",
      "metadata": {
        "id": "vifu3APhRY09"
      },
      "source": [
        "### 2.3 Hyperparameter Tuning"
      ]
    },
    {
      "cell_type": "markdown",
      "metadata": {
        "id": "lp6P_sSMRY0_"
      },
      "source": [
        "Hyperparameters can have a huge impact on the performance of XGBoost models.\n",
        "Some of the more important ones are listed below. See [here](https://xgboost.readthedocs.io/en/latest/parameter.html) for a description of all parameters and see [here](https://xgboost.readthedocs.io/en/latest/tutorials/param_tuning.html) for a guide to tuning XGBoost models. Feel free to try out different combinations: \n",
        "<ul>\n",
        "<li>\n",
        "<b>objective:</b>\n",
        "Depending on whether we treat our problem as a binary classification problem or as a multi-class classification problem this parameter would be either binary:logistic or multi:softmax respectively.\n",
        "    </li>\n",
        "<li>\n",
        "<b>tree_method:</b>\n",
        "gpu_exact to use the GPU optimized exact greedy algorithm and gpu_hist to use the histogram optimized approximate greedy algorithm. For GPU accelerated XGBoost it is best to use gpu_hist.\n",
        "    </li>\n",
        "<li>\n",
        "<b>n_gpus:</b>\n",
        "The number of GPUs to use for training.  Note, if using GPU DASK, n_gpus should be set to 1.\n",
        "    </li>\n",
        "    \n",
        "<li>\n",
        "<b>max_depth:</b>\n",
        "Increasing this value will give the model more capacity to learn and it will also be more likely to overfit. If using a large max_depth value, make sure to increase the regularization.\n",
        "</li>\n",
        "\n",
        "<li>\n",
        "<b>learning_rate:</b>\n",
        "Used to control the weighting of new trees added to the model. If using a low value here, then the number of rounds of training should be high.\n",
        "</li>\n",
        "\n",
        "<li>\n",
        "<b>num_class:</b>\n",
        "    Indicates the number of classes in the label column. For a binary classification problem this should be 2 and the number of classes in the case of a multi-class problem.\n",
        "</li>"
      ]
    },
    {
      "cell_type": "code",
      "execution_count": 15,
      "metadata": {
        "id": "E7jmhMZHRY1F"
      },
      "outputs": [],
      "source": [
        "params = {\n",
        "    'num_rounds':        10,\n",
        "    'max_depth':         8,\n",
        "    'max_leaves':        2**8,\n",
        "    'alpha':             0.9,\n",
        "    'eta':               0.1,\n",
        "    'gamma':             0.1,\n",
        "    'learning_rate':     0.1,\n",
        "    'subsample':         1,\n",
        "    'reg_lambda':        1,\n",
        "    'scale_pos_weight':  2,\n",
        "    'tree_method':       'gpu_hist',\n",
        "    'n_gpus':            1,\n",
        "    'objective':         'binary:logistic',\n",
        "    'verbose':           True\n",
        "}"
      ]
    },
    {
      "cell_type": "markdown",
      "metadata": {
        "id": "BMZtA_YERY1F"
      },
      "source": [
        "### 2.4 Binary Classification Model Training"
      ]
    },
    {
      "cell_type": "markdown",
      "metadata": {
        "id": "UPUNuFDpRY1G"
      },
      "source": [
        "Let us look at the feature and label columns of our training set before we start training our XGBoost model."
      ]
    },
    {
      "cell_type": "code",
      "execution_count": 16,
      "metadata": {
        "colab": {
          "base_uri": "https://localhost:8080/",
          "height": 0
        },
        "id": "5suxy2MkRY1G",
        "outputId": "0d87854d-dc08-4538-a8d1-808848aaa19e"
      },
      "outputs": [
        {
          "output_type": "execute_result",
          "data": {
            "text/plain": [
              "        src_bytes  srv_rerror_rate  num_outbound_cmds  dst_host_serror_rate  \\\n",
              "75421         167              0.0                  0                   0.0   \n",
              "52167         304              0.0                  0                   0.0   \n",
              "67885           0              0.0                  0                   1.0   \n",
              "77730        1032              0.0                  0                   0.0   \n",
              "128742          0              0.0                  0                   1.0   \n",
              "\n",
              "        root_shell  same_srv_rate  num_shells  wrong_fragment  duration  \\\n",
              "75421            0           1.00           0               0         0   \n",
              "52167            0           1.00           0               0         0   \n",
              "67885            0           0.02           0               0         0   \n",
              "77730            0           1.00           0               0         0   \n",
              "128742           0           0.01           0               0         0   \n",
              "\n",
              "        dst_bytes  hot  serror_rate  num_root  srv_count  urgent  \\\n",
              "75421       21006    0          0.0         0          9       0   \n",
              "52167        1358    0          0.0         0         12       0   \n",
              "67885           0    0          1.0         0          4       0   \n",
              "77730           0    0          0.0         0        511       0   \n",
              "128742          0    0          1.0         0          3       0   \n",
              "\n",
              "        dst_host_count  dst_host_rerror_rate  dst_host_srv_serror_rate  \\\n",
              "75421              255                   0.0                       0.0   \n",
              "52167                4                   0.0                       0.0   \n",
              "67885              255                   0.0                       1.0   \n",
              "77730              255                   0.0                       0.0   \n",
              "128742             255                   0.0                       1.0   \n",
              "\n",
              "        srv_diff_host_rate  diff_srv_rate  dst_host_srv_count  \\\n",
              "75421                 0.22           0.00                 255   \n",
              "52167                 0.17           0.00                 255   \n",
              "67885                 0.00           0.06                  16   \n",
              "77730                 0.00           0.00                 255   \n",
              "128742                0.00           0.06                   3   \n",
              "\n",
              "        dst_host_srv_rerror_rate  su_attempted  dst_host_diff_srv_rate  \\\n",
              "75421                        0.0             0                    0.00   \n",
              "52167                        0.0             0                    0.00   \n",
              "67885                        0.0             0                    0.06   \n",
              "77730                        0.0             0                    0.00   \n",
              "128742                       0.0             0                    0.06   \n",
              "\n",
              "        dst_host_same_srv_rate  count  dst_host_same_src_port_rate  \\\n",
              "75421                     1.00      2                         0.00   \n",
              "52167                     1.00      4                         0.25   \n",
              "67885                     0.06    228                         0.00   \n",
              "77730                     1.00    511                         1.00   \n",
              "128742                    0.01    233                         0.00   \n",
              "\n",
              "        rerror_rate  num_failed_logins  num_file_creations  \\\n",
              "75421           0.0                  0                   0   \n",
              "52167           0.0                  0                   0   \n",
              "67885           0.0                  0                   0   \n",
              "77730           0.0                  0                   0   \n",
              "128742          0.0                  0                   0   \n",
              "\n",
              "        dst_host_srv_diff_host_rate  srv_serror_rate  num_access_files  \\\n",
              "75421                          0.00              0.0                 0   \n",
              "52167                          0.03              0.0                 0   \n",
              "67885                          0.00              1.0                 0   \n",
              "77730                          0.00              0.0                 0   \n",
              "128742                         0.00              1.0                 0   \n",
              "\n",
              "        num_compromised  land  logged_in  is_host_login  is_guest_login  \\\n",
              "75421                 0     0          1              0               0   \n",
              "52167                 0     0          1              0               0   \n",
              "67885                 0     0          0              0               0   \n",
              "77730                 0     0          0              0               0   \n",
              "128742                0     0          0              0               0   \n",
              "\n",
              "        protocol_type_icmp  protocol_type_tcp  protocol_type_udp  service_IRC  \\\n",
              "75421                    0                  1                  0            0   \n",
              "52167                    0                  1                  0            0   \n",
              "67885                    0                  1                  0            0   \n",
              "77730                    1                  0                  0            0   \n",
              "128742                   0                  1                  0            0   \n",
              "\n",
              "        service_X11  service_Z39_50  service_aol  service_auth  service_bgp  \\\n",
              "75421             0               0            0             0            0   \n",
              "52167             0               0            0             0            0   \n",
              "67885             0               0            0             0            0   \n",
              "77730             0               0            0             0            0   \n",
              "128742            0               0            0             0            0   \n",
              "\n",
              "        service_courier  service_csnet_ns  service_ctf  service_daytime  \\\n",
              "75421                 0                 0            0                0   \n",
              "52167                 0                 0            0                0   \n",
              "67885                 0                 0            0                0   \n",
              "77730                 0                 0            0                0   \n",
              "128742                0                 0            0                0   \n",
              "\n",
              "        service_discard  service_domain  service_domain_u  service_echo  \\\n",
              "75421                 0               0                 0             0   \n",
              "52167                 0               0                 0             0   \n",
              "67885                 0               0                 0             0   \n",
              "77730                 0               0                 0             0   \n",
              "128742                0               0                 0             0   \n",
              "\n",
              "        service_eco_i  service_ecr_i  service_efs  service_exec  \\\n",
              "75421               0              0            0             0   \n",
              "52167               0              0            0             0   \n",
              "67885               0              0            0             0   \n",
              "77730               0              1            0             0   \n",
              "128742              0              0            0             0   \n",
              "\n",
              "        service_finger  service_ftp  service_ftp_data  service_gopher  \\\n",
              "75421                0            0                 0               0   \n",
              "52167                0            0                 0               0   \n",
              "67885                0            0                 0               0   \n",
              "77730                0            0                 0               0   \n",
              "128742               0            0                 0               0   \n",
              "\n",
              "        service_hostnames  service_http  service_http_443  service_imap4  \\\n",
              "75421                   0             1                 0              0   \n",
              "52167                   0             1                 0              0   \n",
              "67885                   0             0                 0              0   \n",
              "77730                   0             0                 0              0   \n",
              "128742                  0             0                 0              0   \n",
              "\n",
              "        service_iso_tsap  service_klogin  service_kshell  service_ldap  \\\n",
              "75421                  0               0               0             0   \n",
              "52167                  0               0               0             0   \n",
              "67885                  0               0               0             0   \n",
              "77730                  0               0               0             0   \n",
              "128742                 0               0               0             0   \n",
              "\n",
              "        service_link  service_login  service_mtp  service_name  \\\n",
              "75421              0              0            0             0   \n",
              "52167              0              0            0             0   \n",
              "67885              0              0            0             0   \n",
              "77730              0              0            0             0   \n",
              "128742             0              0            0             0   \n",
              "\n",
              "        service_netbios_dgm  service_netbios_ns  service_netbios_ssn  \\\n",
              "75421                     0                   0                    0   \n",
              "52167                     0                   0                    0   \n",
              "67885                     0                   0                    0   \n",
              "77730                     0                   0                    0   \n",
              "128742                    0                   0                    0   \n",
              "\n",
              "        service_netstat  service_nnsp  service_nntp  service_ntp_u  \\\n",
              "75421                 0             0             0              0   \n",
              "52167                 0             0             0              0   \n",
              "67885                 0             0             0              0   \n",
              "77730                 0             0             0              0   \n",
              "128742                0             0             0              0   \n",
              "\n",
              "        service_other  service_pop_2  service_pop_3  service_printer  \\\n",
              "75421               0              0              0                0   \n",
              "52167               0              0              0                0   \n",
              "67885               0              0              0                0   \n",
              "77730               0              0              0                0   \n",
              "128742              0              0              0                0   \n",
              "\n",
              "        service_private  service_remote_job  service_rje  service_shell  \\\n",
              "75421                 0                   0            0              0   \n",
              "52167                 0                   0            0              0   \n",
              "67885                 1                   0            0              0   \n",
              "77730                 0                   0            0              0   \n",
              "128742                1                   0            0              0   \n",
              "\n",
              "        service_smtp  service_sql_net  service_ssh  service_sunrpc  \\\n",
              "75421              0                0            0               0   \n",
              "52167              0                0            0               0   \n",
              "67885              0                0            0               0   \n",
              "77730              0                0            0               0   \n",
              "128742             0                0            0               0   \n",
              "\n",
              "        service_supdup  service_systat  service_telnet  service_time  \\\n",
              "75421                0               0               0             0   \n",
              "52167                0               0               0             0   \n",
              "67885                0               0               0             0   \n",
              "77730                0               0               0             0   \n",
              "128742               0               0               0             0   \n",
              "\n",
              "        service_urh_i  service_urp_i  service_uucp  service_uucp_path  \\\n",
              "75421               0              0             0                  0   \n",
              "52167               0              0             0                  0   \n",
              "67885               0              0             0                  0   \n",
              "77730               0              0             0                  0   \n",
              "128742              0              0             0                  0   \n",
              "\n",
              "        service_vmnet  service_whois  flag_OTH  flag_REJ  flag_RSTO  \\\n",
              "75421               0              0         0         0          0   \n",
              "52167               0              0         0         0          0   \n",
              "67885               0              0         0         0          0   \n",
              "77730               0              0         0         0          0   \n",
              "128742              0              0         0         0          0   \n",
              "\n",
              "        flag_RSTOS0  flag_RSTR  flag_S0  flag_S1  flag_S2  flag_S3  flag_SF  \\\n",
              "75421             0          0        0        0        0        0        1   \n",
              "52167             0          0        0        0        0        0        1   \n",
              "67885             0          0        1        0        0        0        0   \n",
              "77730             0          0        0        0        0        0        1   \n",
              "128742            0          0        1        0        0        0        0   \n",
              "\n",
              "        flag_SH  \n",
              "75421         0  \n",
              "52167         0  \n",
              "67885         0  \n",
              "77730         0  \n",
              "128742        0  "
            ],
            "text/html": [
              "\n",
              "  <div id=\"df-b613e7cd-7d49-47d5-ab98-d0e1e06e9444\">\n",
              "    <div class=\"colab-df-container\">\n",
              "      <div>\n",
              "<style scoped>\n",
              "    .dataframe tbody tr th:only-of-type {\n",
              "        vertical-align: middle;\n",
              "    }\n",
              "\n",
              "    .dataframe tbody tr th {\n",
              "        vertical-align: top;\n",
              "    }\n",
              "\n",
              "    .dataframe thead th {\n",
              "        text-align: right;\n",
              "    }\n",
              "</style>\n",
              "<table border=\"1\" class=\"dataframe\">\n",
              "  <thead>\n",
              "    <tr style=\"text-align: right;\">\n",
              "      <th></th>\n",
              "      <th>src_bytes</th>\n",
              "      <th>srv_rerror_rate</th>\n",
              "      <th>num_outbound_cmds</th>\n",
              "      <th>dst_host_serror_rate</th>\n",
              "      <th>root_shell</th>\n",
              "      <th>same_srv_rate</th>\n",
              "      <th>num_shells</th>\n",
              "      <th>wrong_fragment</th>\n",
              "      <th>duration</th>\n",
              "      <th>dst_bytes</th>\n",
              "      <th>hot</th>\n",
              "      <th>serror_rate</th>\n",
              "      <th>num_root</th>\n",
              "      <th>srv_count</th>\n",
              "      <th>urgent</th>\n",
              "      <th>dst_host_count</th>\n",
              "      <th>dst_host_rerror_rate</th>\n",
              "      <th>dst_host_srv_serror_rate</th>\n",
              "      <th>srv_diff_host_rate</th>\n",
              "      <th>diff_srv_rate</th>\n",
              "      <th>dst_host_srv_count</th>\n",
              "      <th>dst_host_srv_rerror_rate</th>\n",
              "      <th>su_attempted</th>\n",
              "      <th>dst_host_diff_srv_rate</th>\n",
              "      <th>dst_host_same_srv_rate</th>\n",
              "      <th>count</th>\n",
              "      <th>dst_host_same_src_port_rate</th>\n",
              "      <th>rerror_rate</th>\n",
              "      <th>num_failed_logins</th>\n",
              "      <th>num_file_creations</th>\n",
              "      <th>dst_host_srv_diff_host_rate</th>\n",
              "      <th>srv_serror_rate</th>\n",
              "      <th>num_access_files</th>\n",
              "      <th>num_compromised</th>\n",
              "      <th>land</th>\n",
              "      <th>logged_in</th>\n",
              "      <th>is_host_login</th>\n",
              "      <th>is_guest_login</th>\n",
              "      <th>protocol_type_icmp</th>\n",
              "      <th>protocol_type_tcp</th>\n",
              "      <th>protocol_type_udp</th>\n",
              "      <th>service_IRC</th>\n",
              "      <th>service_X11</th>\n",
              "      <th>service_Z39_50</th>\n",
              "      <th>service_aol</th>\n",
              "      <th>service_auth</th>\n",
              "      <th>service_bgp</th>\n",
              "      <th>service_courier</th>\n",
              "      <th>service_csnet_ns</th>\n",
              "      <th>service_ctf</th>\n",
              "      <th>service_daytime</th>\n",
              "      <th>service_discard</th>\n",
              "      <th>service_domain</th>\n",
              "      <th>service_domain_u</th>\n",
              "      <th>service_echo</th>\n",
              "      <th>service_eco_i</th>\n",
              "      <th>service_ecr_i</th>\n",
              "      <th>service_efs</th>\n",
              "      <th>service_exec</th>\n",
              "      <th>service_finger</th>\n",
              "      <th>service_ftp</th>\n",
              "      <th>service_ftp_data</th>\n",
              "      <th>service_gopher</th>\n",
              "      <th>service_hostnames</th>\n",
              "      <th>service_http</th>\n",
              "      <th>service_http_443</th>\n",
              "      <th>service_imap4</th>\n",
              "      <th>service_iso_tsap</th>\n",
              "      <th>service_klogin</th>\n",
              "      <th>service_kshell</th>\n",
              "      <th>service_ldap</th>\n",
              "      <th>service_link</th>\n",
              "      <th>service_login</th>\n",
              "      <th>service_mtp</th>\n",
              "      <th>service_name</th>\n",
              "      <th>service_netbios_dgm</th>\n",
              "      <th>service_netbios_ns</th>\n",
              "      <th>service_netbios_ssn</th>\n",
              "      <th>service_netstat</th>\n",
              "      <th>service_nnsp</th>\n",
              "      <th>service_nntp</th>\n",
              "      <th>service_ntp_u</th>\n",
              "      <th>service_other</th>\n",
              "      <th>service_pop_2</th>\n",
              "      <th>service_pop_3</th>\n",
              "      <th>service_printer</th>\n",
              "      <th>service_private</th>\n",
              "      <th>service_remote_job</th>\n",
              "      <th>service_rje</th>\n",
              "      <th>service_shell</th>\n",
              "      <th>service_smtp</th>\n",
              "      <th>service_sql_net</th>\n",
              "      <th>service_ssh</th>\n",
              "      <th>service_sunrpc</th>\n",
              "      <th>service_supdup</th>\n",
              "      <th>service_systat</th>\n",
              "      <th>service_telnet</th>\n",
              "      <th>service_time</th>\n",
              "      <th>service_urh_i</th>\n",
              "      <th>service_urp_i</th>\n",
              "      <th>service_uucp</th>\n",
              "      <th>service_uucp_path</th>\n",
              "      <th>service_vmnet</th>\n",
              "      <th>service_whois</th>\n",
              "      <th>flag_OTH</th>\n",
              "      <th>flag_REJ</th>\n",
              "      <th>flag_RSTO</th>\n",
              "      <th>flag_RSTOS0</th>\n",
              "      <th>flag_RSTR</th>\n",
              "      <th>flag_S0</th>\n",
              "      <th>flag_S1</th>\n",
              "      <th>flag_S2</th>\n",
              "      <th>flag_S3</th>\n",
              "      <th>flag_SF</th>\n",
              "      <th>flag_SH</th>\n",
              "    </tr>\n",
              "  </thead>\n",
              "  <tbody>\n",
              "    <tr>\n",
              "      <th>75421</th>\n",
              "      <td>167</td>\n",
              "      <td>0.0</td>\n",
              "      <td>0</td>\n",
              "      <td>0.0</td>\n",
              "      <td>0</td>\n",
              "      <td>1.00</td>\n",
              "      <td>0</td>\n",
              "      <td>0</td>\n",
              "      <td>0</td>\n",
              "      <td>21006</td>\n",
              "      <td>0</td>\n",
              "      <td>0.0</td>\n",
              "      <td>0</td>\n",
              "      <td>9</td>\n",
              "      <td>0</td>\n",
              "      <td>255</td>\n",
              "      <td>0.0</td>\n",
              "      <td>0.0</td>\n",
              "      <td>0.22</td>\n",
              "      <td>0.00</td>\n",
              "      <td>255</td>\n",
              "      <td>0.0</td>\n",
              "      <td>0</td>\n",
              "      <td>0.00</td>\n",
              "      <td>1.00</td>\n",
              "      <td>2</td>\n",
              "      <td>0.00</td>\n",
              "      <td>0.0</td>\n",
              "      <td>0</td>\n",
              "      <td>0</td>\n",
              "      <td>0.00</td>\n",
              "      <td>0.0</td>\n",
              "      <td>0</td>\n",
              "      <td>0</td>\n",
              "      <td>0</td>\n",
              "      <td>1</td>\n",
              "      <td>0</td>\n",
              "      <td>0</td>\n",
              "      <td>0</td>\n",
              "      <td>1</td>\n",
              "      <td>0</td>\n",
              "      <td>0</td>\n",
              "      <td>0</td>\n",
              "      <td>0</td>\n",
              "      <td>0</td>\n",
              "      <td>0</td>\n",
              "      <td>0</td>\n",
              "      <td>0</td>\n",
              "      <td>0</td>\n",
              "      <td>0</td>\n",
              "      <td>0</td>\n",
              "      <td>0</td>\n",
              "      <td>0</td>\n",
              "      <td>0</td>\n",
              "      <td>0</td>\n",
              "      <td>0</td>\n",
              "      <td>0</td>\n",
              "      <td>0</td>\n",
              "      <td>0</td>\n",
              "      <td>0</td>\n",
              "      <td>0</td>\n",
              "      <td>0</td>\n",
              "      <td>0</td>\n",
              "      <td>0</td>\n",
              "      <td>1</td>\n",
              "      <td>0</td>\n",
              "      <td>0</td>\n",
              "      <td>0</td>\n",
              "      <td>0</td>\n",
              "      <td>0</td>\n",
              "      <td>0</td>\n",
              "      <td>0</td>\n",
              "      <td>0</td>\n",
              "      <td>0</td>\n",
              "      <td>0</td>\n",
              "      <td>0</td>\n",
              "      <td>0</td>\n",
              "      <td>0</td>\n",
              "      <td>0</td>\n",
              "      <td>0</td>\n",
              "      <td>0</td>\n",
              "      <td>0</td>\n",
              "      <td>0</td>\n",
              "      <td>0</td>\n",
              "      <td>0</td>\n",
              "      <td>0</td>\n",
              "      <td>0</td>\n",
              "      <td>0</td>\n",
              "      <td>0</td>\n",
              "      <td>0</td>\n",
              "      <td>0</td>\n",
              "      <td>0</td>\n",
              "      <td>0</td>\n",
              "      <td>0</td>\n",
              "      <td>0</td>\n",
              "      <td>0</td>\n",
              "      <td>0</td>\n",
              "      <td>0</td>\n",
              "      <td>0</td>\n",
              "      <td>0</td>\n",
              "      <td>0</td>\n",
              "      <td>0</td>\n",
              "      <td>0</td>\n",
              "      <td>0</td>\n",
              "      <td>0</td>\n",
              "      <td>0</td>\n",
              "      <td>0</td>\n",
              "      <td>0</td>\n",
              "      <td>0</td>\n",
              "      <td>0</td>\n",
              "      <td>0</td>\n",
              "      <td>0</td>\n",
              "      <td>0</td>\n",
              "      <td>1</td>\n",
              "      <td>0</td>\n",
              "    </tr>\n",
              "    <tr>\n",
              "      <th>52167</th>\n",
              "      <td>304</td>\n",
              "      <td>0.0</td>\n",
              "      <td>0</td>\n",
              "      <td>0.0</td>\n",
              "      <td>0</td>\n",
              "      <td>1.00</td>\n",
              "      <td>0</td>\n",
              "      <td>0</td>\n",
              "      <td>0</td>\n",
              "      <td>1358</td>\n",
              "      <td>0</td>\n",
              "      <td>0.0</td>\n",
              "      <td>0</td>\n",
              "      <td>12</td>\n",
              "      <td>0</td>\n",
              "      <td>4</td>\n",
              "      <td>0.0</td>\n",
              "      <td>0.0</td>\n",
              "      <td>0.17</td>\n",
              "      <td>0.00</td>\n",
              "      <td>255</td>\n",
              "      <td>0.0</td>\n",
              "      <td>0</td>\n",
              "      <td>0.00</td>\n",
              "      <td>1.00</td>\n",
              "      <td>4</td>\n",
              "      <td>0.25</td>\n",
              "      <td>0.0</td>\n",
              "      <td>0</td>\n",
              "      <td>0</td>\n",
              "      <td>0.03</td>\n",
              "      <td>0.0</td>\n",
              "      <td>0</td>\n",
              "      <td>0</td>\n",
              "      <td>0</td>\n",
              "      <td>1</td>\n",
              "      <td>0</td>\n",
              "      <td>0</td>\n",
              "      <td>0</td>\n",
              "      <td>1</td>\n",
              "      <td>0</td>\n",
              "      <td>0</td>\n",
              "      <td>0</td>\n",
              "      <td>0</td>\n",
              "      <td>0</td>\n",
              "      <td>0</td>\n",
              "      <td>0</td>\n",
              "      <td>0</td>\n",
              "      <td>0</td>\n",
              "      <td>0</td>\n",
              "      <td>0</td>\n",
              "      <td>0</td>\n",
              "      <td>0</td>\n",
              "      <td>0</td>\n",
              "      <td>0</td>\n",
              "      <td>0</td>\n",
              "      <td>0</td>\n",
              "      <td>0</td>\n",
              "      <td>0</td>\n",
              "      <td>0</td>\n",
              "      <td>0</td>\n",
              "      <td>0</td>\n",
              "      <td>0</td>\n",
              "      <td>0</td>\n",
              "      <td>1</td>\n",
              "      <td>0</td>\n",
              "      <td>0</td>\n",
              "      <td>0</td>\n",
              "      <td>0</td>\n",
              "      <td>0</td>\n",
              "      <td>0</td>\n",
              "      <td>0</td>\n",
              "      <td>0</td>\n",
              "      <td>0</td>\n",
              "      <td>0</td>\n",
              "      <td>0</td>\n",
              "      <td>0</td>\n",
              "      <td>0</td>\n",
              "      <td>0</td>\n",
              "      <td>0</td>\n",
              "      <td>0</td>\n",
              "      <td>0</td>\n",
              "      <td>0</td>\n",
              "      <td>0</td>\n",
              "      <td>0</td>\n",
              "      <td>0</td>\n",
              "      <td>0</td>\n",
              "      <td>0</td>\n",
              "      <td>0</td>\n",
              "      <td>0</td>\n",
              "      <td>0</td>\n",
              "      <td>0</td>\n",
              "      <td>0</td>\n",
              "      <td>0</td>\n",
              "      <td>0</td>\n",
              "      <td>0</td>\n",
              "      <td>0</td>\n",
              "      <td>0</td>\n",
              "      <td>0</td>\n",
              "      <td>0</td>\n",
              "      <td>0</td>\n",
              "      <td>0</td>\n",
              "      <td>0</td>\n",
              "      <td>0</td>\n",
              "      <td>0</td>\n",
              "      <td>0</td>\n",
              "      <td>0</td>\n",
              "      <td>0</td>\n",
              "      <td>0</td>\n",
              "      <td>0</td>\n",
              "      <td>0</td>\n",
              "      <td>0</td>\n",
              "      <td>0</td>\n",
              "      <td>1</td>\n",
              "      <td>0</td>\n",
              "    </tr>\n",
              "    <tr>\n",
              "      <th>67885</th>\n",
              "      <td>0</td>\n",
              "      <td>0.0</td>\n",
              "      <td>0</td>\n",
              "      <td>1.0</td>\n",
              "      <td>0</td>\n",
              "      <td>0.02</td>\n",
              "      <td>0</td>\n",
              "      <td>0</td>\n",
              "      <td>0</td>\n",
              "      <td>0</td>\n",
              "      <td>0</td>\n",
              "      <td>1.0</td>\n",
              "      <td>0</td>\n",
              "      <td>4</td>\n",
              "      <td>0</td>\n",
              "      <td>255</td>\n",
              "      <td>0.0</td>\n",
              "      <td>1.0</td>\n",
              "      <td>0.00</td>\n",
              "      <td>0.06</td>\n",
              "      <td>16</td>\n",
              "      <td>0.0</td>\n",
              "      <td>0</td>\n",
              "      <td>0.06</td>\n",
              "      <td>0.06</td>\n",
              "      <td>228</td>\n",
              "      <td>0.00</td>\n",
              "      <td>0.0</td>\n",
              "      <td>0</td>\n",
              "      <td>0</td>\n",
              "      <td>0.00</td>\n",
              "      <td>1.0</td>\n",
              "      <td>0</td>\n",
              "      <td>0</td>\n",
              "      <td>0</td>\n",
              "      <td>0</td>\n",
              "      <td>0</td>\n",
              "      <td>0</td>\n",
              "      <td>0</td>\n",
              "      <td>1</td>\n",
              "      <td>0</td>\n",
              "      <td>0</td>\n",
              "      <td>0</td>\n",
              "      <td>0</td>\n",
              "      <td>0</td>\n",
              "      <td>0</td>\n",
              "      <td>0</td>\n",
              "      <td>0</td>\n",
              "      <td>0</td>\n",
              "      <td>0</td>\n",
              "      <td>0</td>\n",
              "      <td>0</td>\n",
              "      <td>0</td>\n",
              "      <td>0</td>\n",
              "      <td>0</td>\n",
              "      <td>0</td>\n",
              "      <td>0</td>\n",
              "      <td>0</td>\n",
              "      <td>0</td>\n",
              "      <td>0</td>\n",
              "      <td>0</td>\n",
              "      <td>0</td>\n",
              "      <td>0</td>\n",
              "      <td>0</td>\n",
              "      <td>0</td>\n",
              "      <td>0</td>\n",
              "      <td>0</td>\n",
              "      <td>0</td>\n",
              "      <td>0</td>\n",
              "      <td>0</td>\n",
              "      <td>0</td>\n",
              "      <td>0</td>\n",
              "      <td>0</td>\n",
              "      <td>0</td>\n",
              "      <td>0</td>\n",
              "      <td>0</td>\n",
              "      <td>0</td>\n",
              "      <td>0</td>\n",
              "      <td>0</td>\n",
              "      <td>0</td>\n",
              "      <td>0</td>\n",
              "      <td>0</td>\n",
              "      <td>0</td>\n",
              "      <td>0</td>\n",
              "      <td>0</td>\n",
              "      <td>0</td>\n",
              "      <td>1</td>\n",
              "      <td>0</td>\n",
              "      <td>0</td>\n",
              "      <td>0</td>\n",
              "      <td>0</td>\n",
              "      <td>0</td>\n",
              "      <td>0</td>\n",
              "      <td>0</td>\n",
              "      <td>0</td>\n",
              "      <td>0</td>\n",
              "      <td>0</td>\n",
              "      <td>0</td>\n",
              "      <td>0</td>\n",
              "      <td>0</td>\n",
              "      <td>0</td>\n",
              "      <td>0</td>\n",
              "      <td>0</td>\n",
              "      <td>0</td>\n",
              "      <td>0</td>\n",
              "      <td>0</td>\n",
              "      <td>0</td>\n",
              "      <td>0</td>\n",
              "      <td>0</td>\n",
              "      <td>1</td>\n",
              "      <td>0</td>\n",
              "      <td>0</td>\n",
              "      <td>0</td>\n",
              "      <td>0</td>\n",
              "      <td>0</td>\n",
              "    </tr>\n",
              "    <tr>\n",
              "      <th>77730</th>\n",
              "      <td>1032</td>\n",
              "      <td>0.0</td>\n",
              "      <td>0</td>\n",
              "      <td>0.0</td>\n",
              "      <td>0</td>\n",
              "      <td>1.00</td>\n",
              "      <td>0</td>\n",
              "      <td>0</td>\n",
              "      <td>0</td>\n",
              "      <td>0</td>\n",
              "      <td>0</td>\n",
              "      <td>0.0</td>\n",
              "      <td>0</td>\n",
              "      <td>511</td>\n",
              "      <td>0</td>\n",
              "      <td>255</td>\n",
              "      <td>0.0</td>\n",
              "      <td>0.0</td>\n",
              "      <td>0.00</td>\n",
              "      <td>0.00</td>\n",
              "      <td>255</td>\n",
              "      <td>0.0</td>\n",
              "      <td>0</td>\n",
              "      <td>0.00</td>\n",
              "      <td>1.00</td>\n",
              "      <td>511</td>\n",
              "      <td>1.00</td>\n",
              "      <td>0.0</td>\n",
              "      <td>0</td>\n",
              "      <td>0</td>\n",
              "      <td>0.00</td>\n",
              "      <td>0.0</td>\n",
              "      <td>0</td>\n",
              "      <td>0</td>\n",
              "      <td>0</td>\n",
              "      <td>0</td>\n",
              "      <td>0</td>\n",
              "      <td>0</td>\n",
              "      <td>1</td>\n",
              "      <td>0</td>\n",
              "      <td>0</td>\n",
              "      <td>0</td>\n",
              "      <td>0</td>\n",
              "      <td>0</td>\n",
              "      <td>0</td>\n",
              "      <td>0</td>\n",
              "      <td>0</td>\n",
              "      <td>0</td>\n",
              "      <td>0</td>\n",
              "      <td>0</td>\n",
              "      <td>0</td>\n",
              "      <td>0</td>\n",
              "      <td>0</td>\n",
              "      <td>0</td>\n",
              "      <td>0</td>\n",
              "      <td>0</td>\n",
              "      <td>1</td>\n",
              "      <td>0</td>\n",
              "      <td>0</td>\n",
              "      <td>0</td>\n",
              "      <td>0</td>\n",
              "      <td>0</td>\n",
              "      <td>0</td>\n",
              "      <td>0</td>\n",
              "      <td>0</td>\n",
              "      <td>0</td>\n",
              "      <td>0</td>\n",
              "      <td>0</td>\n",
              "      <td>0</td>\n",
              "      <td>0</td>\n",
              "      <td>0</td>\n",
              "      <td>0</td>\n",
              "      <td>0</td>\n",
              "      <td>0</td>\n",
              "      <td>0</td>\n",
              "      <td>0</td>\n",
              "      <td>0</td>\n",
              "      <td>0</td>\n",
              "      <td>0</td>\n",
              "      <td>0</td>\n",
              "      <td>0</td>\n",
              "      <td>0</td>\n",
              "      <td>0</td>\n",
              "      <td>0</td>\n",
              "      <td>0</td>\n",
              "      <td>0</td>\n",
              "      <td>0</td>\n",
              "      <td>0</td>\n",
              "      <td>0</td>\n",
              "      <td>0</td>\n",
              "      <td>0</td>\n",
              "      <td>0</td>\n",
              "      <td>0</td>\n",
              "      <td>0</td>\n",
              "      <td>0</td>\n",
              "      <td>0</td>\n",
              "      <td>0</td>\n",
              "      <td>0</td>\n",
              "      <td>0</td>\n",
              "      <td>0</td>\n",
              "      <td>0</td>\n",
              "      <td>0</td>\n",
              "      <td>0</td>\n",
              "      <td>0</td>\n",
              "      <td>0</td>\n",
              "      <td>0</td>\n",
              "      <td>0</td>\n",
              "      <td>0</td>\n",
              "      <td>0</td>\n",
              "      <td>0</td>\n",
              "      <td>0</td>\n",
              "      <td>0</td>\n",
              "      <td>0</td>\n",
              "      <td>1</td>\n",
              "      <td>0</td>\n",
              "    </tr>\n",
              "    <tr>\n",
              "      <th>128742</th>\n",
              "      <td>0</td>\n",
              "      <td>0.0</td>\n",
              "      <td>0</td>\n",
              "      <td>1.0</td>\n",
              "      <td>0</td>\n",
              "      <td>0.01</td>\n",
              "      <td>0</td>\n",
              "      <td>0</td>\n",
              "      <td>0</td>\n",
              "      <td>0</td>\n",
              "      <td>0</td>\n",
              "      <td>1.0</td>\n",
              "      <td>0</td>\n",
              "      <td>3</td>\n",
              "      <td>0</td>\n",
              "      <td>255</td>\n",
              "      <td>0.0</td>\n",
              "      <td>1.0</td>\n",
              "      <td>0.00</td>\n",
              "      <td>0.06</td>\n",
              "      <td>3</td>\n",
              "      <td>0.0</td>\n",
              "      <td>0</td>\n",
              "      <td>0.06</td>\n",
              "      <td>0.01</td>\n",
              "      <td>233</td>\n",
              "      <td>0.00</td>\n",
              "      <td>0.0</td>\n",
              "      <td>0</td>\n",
              "      <td>0</td>\n",
              "      <td>0.00</td>\n",
              "      <td>1.0</td>\n",
              "      <td>0</td>\n",
              "      <td>0</td>\n",
              "      <td>0</td>\n",
              "      <td>0</td>\n",
              "      <td>0</td>\n",
              "      <td>0</td>\n",
              "      <td>0</td>\n",
              "      <td>1</td>\n",
              "      <td>0</td>\n",
              "      <td>0</td>\n",
              "      <td>0</td>\n",
              "      <td>0</td>\n",
              "      <td>0</td>\n",
              "      <td>0</td>\n",
              "      <td>0</td>\n",
              "      <td>0</td>\n",
              "      <td>0</td>\n",
              "      <td>0</td>\n",
              "      <td>0</td>\n",
              "      <td>0</td>\n",
              "      <td>0</td>\n",
              "      <td>0</td>\n",
              "      <td>0</td>\n",
              "      <td>0</td>\n",
              "      <td>0</td>\n",
              "      <td>0</td>\n",
              "      <td>0</td>\n",
              "      <td>0</td>\n",
              "      <td>0</td>\n",
              "      <td>0</td>\n",
              "      <td>0</td>\n",
              "      <td>0</td>\n",
              "      <td>0</td>\n",
              "      <td>0</td>\n",
              "      <td>0</td>\n",
              "      <td>0</td>\n",
              "      <td>0</td>\n",
              "      <td>0</td>\n",
              "      <td>0</td>\n",
              "      <td>0</td>\n",
              "      <td>0</td>\n",
              "      <td>0</td>\n",
              "      <td>0</td>\n",
              "      <td>0</td>\n",
              "      <td>0</td>\n",
              "      <td>0</td>\n",
              "      <td>0</td>\n",
              "      <td>0</td>\n",
              "      <td>0</td>\n",
              "      <td>0</td>\n",
              "      <td>0</td>\n",
              "      <td>0</td>\n",
              "      <td>0</td>\n",
              "      <td>0</td>\n",
              "      <td>1</td>\n",
              "      <td>0</td>\n",
              "      <td>0</td>\n",
              "      <td>0</td>\n",
              "      <td>0</td>\n",
              "      <td>0</td>\n",
              "      <td>0</td>\n",
              "      <td>0</td>\n",
              "      <td>0</td>\n",
              "      <td>0</td>\n",
              "      <td>0</td>\n",
              "      <td>0</td>\n",
              "      <td>0</td>\n",
              "      <td>0</td>\n",
              "      <td>0</td>\n",
              "      <td>0</td>\n",
              "      <td>0</td>\n",
              "      <td>0</td>\n",
              "      <td>0</td>\n",
              "      <td>0</td>\n",
              "      <td>0</td>\n",
              "      <td>0</td>\n",
              "      <td>0</td>\n",
              "      <td>1</td>\n",
              "      <td>0</td>\n",
              "      <td>0</td>\n",
              "      <td>0</td>\n",
              "      <td>0</td>\n",
              "      <td>0</td>\n",
              "    </tr>\n",
              "  </tbody>\n",
              "</table>\n",
              "</div>\n",
              "      <button class=\"colab-df-convert\" onclick=\"convertToInteractive('df-b613e7cd-7d49-47d5-ab98-d0e1e06e9444')\"\n",
              "              title=\"Convert this dataframe to an interactive table.\"\n",
              "              style=\"display:none;\">\n",
              "        \n",
              "  <svg xmlns=\"http://www.w3.org/2000/svg\" height=\"24px\"viewBox=\"0 0 24 24\"\n",
              "       width=\"24px\">\n",
              "    <path d=\"M0 0h24v24H0V0z\" fill=\"none\"/>\n",
              "    <path d=\"M18.56 5.44l.94 2.06.94-2.06 2.06-.94-2.06-.94-.94-2.06-.94 2.06-2.06.94zm-11 1L8.5 8.5l.94-2.06 2.06-.94-2.06-.94L8.5 2.5l-.94 2.06-2.06.94zm10 10l.94 2.06.94-2.06 2.06-.94-2.06-.94-.94-2.06-.94 2.06-2.06.94z\"/><path d=\"M17.41 7.96l-1.37-1.37c-.4-.4-.92-.59-1.43-.59-.52 0-1.04.2-1.43.59L10.3 9.45l-7.72 7.72c-.78.78-.78 2.05 0 2.83L4 21.41c.39.39.9.59 1.41.59.51 0 1.02-.2 1.41-.59l7.78-7.78 2.81-2.81c.8-.78.8-2.07 0-2.86zM5.41 20L4 18.59l7.72-7.72 1.47 1.35L5.41 20z\"/>\n",
              "  </svg>\n",
              "      </button>\n",
              "      \n",
              "  <style>\n",
              "    .colab-df-container {\n",
              "      display:flex;\n",
              "      flex-wrap:wrap;\n",
              "      gap: 12px;\n",
              "    }\n",
              "\n",
              "    .colab-df-convert {\n",
              "      background-color: #E8F0FE;\n",
              "      border: none;\n",
              "      border-radius: 50%;\n",
              "      cursor: pointer;\n",
              "      display: none;\n",
              "      fill: #1967D2;\n",
              "      height: 32px;\n",
              "      padding: 0 0 0 0;\n",
              "      width: 32px;\n",
              "    }\n",
              "\n",
              "    .colab-df-convert:hover {\n",
              "      background-color: #E2EBFA;\n",
              "      box-shadow: 0px 1px 2px rgba(60, 64, 67, 0.3), 0px 1px 3px 1px rgba(60, 64, 67, 0.15);\n",
              "      fill: #174EA6;\n",
              "    }\n",
              "\n",
              "    [theme=dark] .colab-df-convert {\n",
              "      background-color: #3B4455;\n",
              "      fill: #D2E3FC;\n",
              "    }\n",
              "\n",
              "    [theme=dark] .colab-df-convert:hover {\n",
              "      background-color: #434B5C;\n",
              "      box-shadow: 0px 1px 3px 1px rgba(0, 0, 0, 0.15);\n",
              "      filter: drop-shadow(0px 1px 2px rgba(0, 0, 0, 0.3));\n",
              "      fill: #FFFFFF;\n",
              "    }\n",
              "  </style>\n",
              "\n",
              "      <script>\n",
              "        const buttonEl =\n",
              "          document.querySelector('#df-b613e7cd-7d49-47d5-ab98-d0e1e06e9444 button.colab-df-convert');\n",
              "        buttonEl.style.display =\n",
              "          google.colab.kernel.accessAllowed ? 'block' : 'none';\n",
              "\n",
              "        async function convertToInteractive(key) {\n",
              "          const element = document.querySelector('#df-b613e7cd-7d49-47d5-ab98-d0e1e06e9444');\n",
              "          const dataTable =\n",
              "            await google.colab.kernel.invokeFunction('convertToInteractive',\n",
              "                                                     [key], {});\n",
              "          if (!dataTable) return;\n",
              "\n",
              "          const docLinkHtml = 'Like what you see? Visit the ' +\n",
              "            '<a target=\"_blank\" href=https://colab.research.google.com/notebooks/data_table.ipynb>data table notebook</a>'\n",
              "            + ' to learn more about interactive tables.';\n",
              "          element.innerHTML = '';\n",
              "          dataTable['output_type'] = 'display_data';\n",
              "          await google.colab.output.renderOutput(dataTable, element);\n",
              "          const docLink = document.createElement('div');\n",
              "          docLink.innerHTML = docLinkHtml;\n",
              "          element.appendChild(docLink);\n",
              "        }\n",
              "      </script>\n",
              "    </div>\n",
              "  </div>\n",
              "  "
            ]
          },
          "metadata": {},
          "execution_count": 16
        }
      ],
      "source": [
        "x_train.head()"
      ]
    },
    {
      "cell_type": "code",
      "execution_count": 17,
      "metadata": {
        "colab": {
          "base_uri": "https://localhost:8080/"
        },
        "id": "MtwDqjA0RY1H",
        "outputId": "4e15b43b-4d9e-48dc-d67a-58d5c8bbb356"
      },
      "outputs": [
        {
          "output_type": "execute_result",
          "data": {
            "text/plain": [
              "array([ 8,  8,  6, 12,  6, 12,  6, 12,  6,  8, 12, 12,  8, 12, 12, 12, 12,\n",
              "        6, 12,  8, 12, 12, 12, 12, 12,  8, 12, 12, 12, 12, 12, 12, 12,  8,\n",
              "        8,  8, 12, 12,  6, 12, 12, 12, 12,  8, 12,  8, 12,  6, 12,  8, 12,\n",
              "        8, 12,  6, 12, 12, 12,  6, 12,  6,  6, 12, 12, 12, 12, 12,  6, 12,\n",
              "       12,  8, 12, 12,  8,  8, 12,  8, 12, 12,  8,  6, 12,  6,  8, 12,  8,\n",
              "        8,  6,  8, 12, 12, 12,  8, 12, 12, 12, 12, 12, 12, 12,  8])"
            ]
          },
          "metadata": {},
          "execution_count": 17
        }
      ],
      "source": [
        "y_train[0:100]"
      ]
    },
    {
      "cell_type": "code",
      "execution_count": 18,
      "metadata": {
        "colab": {
          "base_uri": "https://localhost:8080/"
        },
        "id": "NYkARaA-RY1J",
        "outputId": "77905ae9-3dc8-4966-b9f1-2c5127038cd4"
      },
      "outputs": [
        {
          "output_type": "stream",
          "name": "stdout",
          "text": [
            "CPU times: user 191 ms, sys: 51.5 ms, total: 243 ms\n",
            "Wall time: 241 ms\n"
          ]
        }
      ],
      "source": [
        "%%time \n",
        "\n",
        "dtrain = xgb.DMatrix(x_train, label=binary_y_train)\n",
        "dtest = xgb.DMatrix(x_test, label=binary_y_test)\n",
        "evals = [(dtest, 'test',), (dtrain, 'train')]"
      ]
    },
    {
      "cell_type": "code",
      "execution_count": 19,
      "metadata": {
        "id": "DR3JD7PJRY1J"
      },
      "outputs": [],
      "source": [
        "num_rounds = params['num_rounds']"
      ]
    },
    {
      "cell_type": "code",
      "execution_count": 20,
      "metadata": {
        "colab": {
          "base_uri": "https://localhost:8080/"
        },
        "id": "IA2gA8ZNRY1J",
        "outputId": "e665777d-5d68-4ed3-9986-36bf02a7944f"
      },
      "outputs": [
        {
          "output_type": "stream",
          "name": "stdout",
          "text": [
            "[0]\ttest-error:0.000625\ttrain-error:0.000383\n",
            "[1]\ttest-error:0.0007\ttrain-error:0.000433\n",
            "[2]\ttest-error:0.0007\ttrain-error:0.000433\n",
            "[3]\ttest-error:0.0007\ttrain-error:0.000433\n",
            "[4]\ttest-error:0.0007\ttrain-error:0.000433\n",
            "[5]\ttest-error:0.0007\ttrain-error:0.000433\n",
            "[6]\ttest-error:0.0007\ttrain-error:0.000433\n",
            "[7]\ttest-error:0.0007\ttrain-error:0.000433\n",
            "[8]\ttest-error:0.0007\ttrain-error:0.000433\n",
            "[9]\ttest-error:0.00055\ttrain-error:0.000333\n"
          ]
        }
      ],
      "source": [
        "model = xgb.train(params, dtrain, num_rounds, evals=evals)"
      ]
    },
    {
      "cell_type": "code",
      "execution_count": 20,
      "metadata": {
        "id": "61k5PSIqRY1K"
      },
      "outputs": [],
      "source": []
    },
    {
      "cell_type": "markdown",
      "metadata": {
        "id": "sza-Otz8RY1K"
      },
      "source": [
        "We can use the `nvidia-smi` shell command to see that data has been moved automatically to the GPU for training. Note the memory utilization under the column *Memory-Usage* after running the following cell."
      ]
    },
    {
      "cell_type": "code",
      "execution_count": 21,
      "metadata": {
        "colab": {
          "base_uri": "https://localhost:8080/"
        },
        "id": "Pepsuat6RY1K",
        "outputId": "198ae7d4-4f5e-45b4-e636-d3247926b89c"
      },
      "outputs": [
        {
          "output_type": "stream",
          "name": "stdout",
          "text": [
            "Thu Nov  3 07:28:37 2022       \n",
            "+-----------------------------------------------------------------------------+\n",
            "| NVIDIA-SMI 460.32.03    Driver Version: 460.32.03    CUDA Version: 11.2     |\n",
            "|-------------------------------+----------------------+----------------------+\n",
            "| GPU  Name        Persistence-M| Bus-Id        Disp.A | Volatile Uncorr. ECC |\n",
            "| Fan  Temp  Perf  Pwr:Usage/Cap|         Memory-Usage | GPU-Util  Compute M. |\n",
            "|                               |                      |               MIG M. |\n",
            "|===============================+======================+======================|\n",
            "|   0  A100-SXM4-40GB      Off  | 00000000:00:04.0 Off |                    0 |\n",
            "| N/A   31C    P0    67W / 400W |   1240MiB / 40536MiB |     67%      Default |\n",
            "|                               |                      |             Disabled |\n",
            "+-------------------------------+----------------------+----------------------+\n",
            "                                                                               \n",
            "+-----------------------------------------------------------------------------+\n",
            "| Processes:                                                                  |\n",
            "|  GPU   GI   CI        PID   Type   Process name                  GPU Memory |\n",
            "|        ID   ID                                                   Usage      |\n",
            "|=============================================================================|\n",
            "+-----------------------------------------------------------------------------+\n"
          ]
        }
      ],
      "source": [
        "!nvidia-smi"
      ]
    },
    {
      "cell_type": "markdown",
      "metadata": {
        "id": "cg7_rkuDRY1L"
      },
      "source": [
        "### 2.5 Testing and Evaluation"
      ]
    },
    {
      "cell_type": "markdown",
      "metadata": {
        "id": "qhL9btK6RY1L"
      },
      "source": [
        "If you scroll to the section where we declared our XGboost parameters, we see that we have set the objective to be `binary:logistic`.\n",
        "\n",
        "In a binary logistic classifier we usually set the threshold at 0.5 meaning all probability scores >= 0.5 will be assigned 1 (Anomaly) and those with scores < 0.5 will be assigned 0 (Normal).\n",
        "\n",
        "This will help us calculate the accuracy as we will see in the coming sections."
      ]
    },
    {
      "cell_type": "markdown",
      "metadata": {
        "id": "rGpN2_erRY1M"
      },
      "source": [
        "First let's look at our predictions."
      ]
    },
    {
      "cell_type": "code",
      "execution_count": 22,
      "metadata": {
        "colab": {
          "base_uri": "https://localhost:8080/"
        },
        "id": "6qy8eO4mRY1M",
        "outputId": "2253b0dd-7c3e-4535-ac05-a3cffaba5c24"
      },
      "outputs": [
        {
          "output_type": "execute_result",
          "data": {
            "text/plain": [
              "32148"
            ]
          },
          "metadata": {},
          "execution_count": 22
        }
      ],
      "source": [
        "threshold = .5\n",
        "true_labels = binary_y_test.astype(int)\n",
        "true_labels.sum()"
      ]
    },
    {
      "cell_type": "code",
      "execution_count": 23,
      "metadata": {
        "colab": {
          "base_uri": "https://localhost:8080/"
        },
        "id": "7Z4ZXkgPRY1N",
        "outputId": "2d2b1b48-5750-41c1-ac74-acf8414b1261"
      },
      "outputs": [
        {
          "output_type": "stream",
          "name": "stdout",
          "text": [
            "[0.8207116  0.8207116  0.8207116  ... 0.18018803 0.8207116  0.8207116 ]\n"
          ]
        }
      ],
      "source": [
        "# make predictions on the test set using our trained model\n",
        "preds = model.predict(dtest)\n",
        "print(preds)"
      ]
    },
    {
      "cell_type": "code",
      "execution_count": 24,
      "metadata": {
        "colab": {
          "base_uri": "https://localhost:8080/"
        },
        "id": "91VXRSoORY1O",
        "outputId": "317ced39-d347-471c-ca17-f0df8bd1d35d"
      },
      "outputs": [
        {
          "output_type": "stream",
          "name": "stdout",
          "text": [
            "[1 1 1 ... 0 1 1]\n"
          ]
        }
      ],
      "source": [
        "pred_labels = (preds > threshold).astype(int)\n",
        "print(pred_labels)"
      ]
    },
    {
      "cell_type": "code",
      "execution_count": 25,
      "metadata": {
        "colab": {
          "base_uri": "https://localhost:8080/"
        },
        "id": "plCIKPhwRY1O",
        "outputId": "d8fbadad-2e66-4d5c-ffad-de7db19113c4"
      },
      "outputs": [
        {
          "output_type": "execute_result",
          "data": {
            "text/plain": [
              "32154"
            ]
          },
          "metadata": {},
          "execution_count": 25
        }
      ],
      "source": [
        "pred_labels.sum()"
      ]
    },
    {
      "cell_type": "markdown",
      "metadata": {
        "id": "QCJ09YO9RY1P"
      },
      "source": [
        "### 2.6 Area under the Curve (AUC)\n",
        "\n",
        "The area under the ROC curve is a great metric for determining how well your classification model is performing, even in the case of imbalanced classes. A score of 1 means your model is performing perfectly, while a score of .5 means that your model is the same as randomly guessing. [See here for more information](https://en.wikipedia.org/wiki/Receiver_operating_characteristic)."
      ]
    },
    {
      "cell_type": "code",
      "execution_count": 26,
      "metadata": {
        "colab": {
          "base_uri": "https://localhost:8080/"
        },
        "id": "OlMxzUwiRY1P",
        "outputId": "b600f50b-c011-49c6-a42b-5469290c2d0d"
      },
      "outputs": [
        {
          "output_type": "stream",
          "name": "stdout",
          "text": [
            "0.9998741928805968\n"
          ]
        }
      ],
      "source": [
        "# compute the auc\n",
        "auc = roc_auc_score(true_labels, preds)\n",
        "print(auc)"
      ]
    },
    {
      "cell_type": "markdown",
      "metadata": {
        "id": "dQ7RWLbFRY1P"
      },
      "source": [
        "We should be getting near a perfect score here."
      ]
    },
    {
      "cell_type": "markdown",
      "metadata": {
        "id": "Ah_SLIIGRY1P"
      },
      "source": [
        "### 2.7 Accuracy\n",
        "Accuracy is the ratio of correct classifications to the total number of samples.  Accuracy is often misleading in anomaly detection problems where the classes are highly imbalanced."
      ]
    },
    {
      "cell_type": "code",
      "execution_count": 27,
      "metadata": {
        "colab": {
          "base_uri": "https://localhost:8080/"
        },
        "id": "mgTLm8njRY1Q",
        "outputId": "27590c79-9ca6-4878-afab-c6e20f31c4a7"
      },
      "outputs": [
        {
          "output_type": "stream",
          "name": "stdout",
          "text": [
            "Accuracy: 0.99945\n"
          ]
        }
      ],
      "source": [
        "print ('Accuracy:', accuracy_score(true_labels, pred_labels))"
      ]
    },
    {
      "cell_type": "markdown",
      "metadata": {
        "id": "IJlPW6f7RY1Q"
      },
      "source": [
        "The accuracy should be almost perfect."
      ]
    },
    {
      "cell_type": "markdown",
      "metadata": {
        "id": "ZQnbVCJFRY1Q"
      },
      "source": [
        "### 2.8 Confusion Matrix"
      ]
    },
    {
      "cell_type": "markdown",
      "metadata": {
        "id": "u1LjTwM8RY1Q"
      },
      "source": [
        "The Confusion Matrix represents the quality of the output of a classifier on any dataset. The diagonal elements represent correct or true labels, whereas the off-diagonal (white box in Figures 5 and 6) elements represent the elements misclassified by the classification model. Therefore, the higher the values of the diagonal elements of the confusion matrix, the better and more accurate the classification model becomes."
      ]
    },
    {
      "cell_type": "code",
      "execution_count": 28,
      "metadata": {
        "colab": {
          "base_uri": "https://localhost:8080/",
          "height": 0
        },
        "id": "TynO7omvRY1R",
        "outputId": "f9036d8a-91a3-454a-871c-81a165e4aad1"
      },
      "outputs": [
        {
          "output_type": "stream",
          "name": "stdout",
          "text": [
            "Confusion Matrix :\n"
          ]
        },
        {
          "output_type": "display_data",
          "data": {
            "text/plain": [
              "<Figure size 432x288 with 2 Axes>"
            ],
            "image/png": "[encoded data removed]"
          },
          "metadata": {
            "needs_background": "light"
          }
        }
      ],
      "source": [
        "results = confusion_matrix(true_labels, pred_labels) \n",
        "\n",
        "print ('Confusion Matrix :')\n",
        "\n",
        "def plot_confusion_matrix(cm, target_names, title='Confusion Matrix', cmap=plt.cm.Greens):\n",
        "    plt.imshow(cm, interpolation='nearest', cmap=cmap)\n",
        "    plt.title(title)\n",
        "    plt.colorbar()\n",
        "    tick_marks = np.arange(len(target_names))\n",
        "    plt.xticks(tick_marks, target_names, rotation=45)\n",
        "    plt.yticks(tick_marks, target_names)\n",
        "    plt.tight_layout()\n",
        "\n",
        "    width, height = cm.shape\n",
        "\n",
        "    for x in range(width):\n",
        "        for y in range(height):\n",
        "            plt.annotate(str(cm[x][y]), xy=(y, x), \n",
        "                        horizontalalignment='center',\n",
        "                        verticalalignment='center')\n",
        "    plt.ylabel('True Label')\n",
        "    plt.xlabel('Predicted Label')\n",
        "\n",
        "\n",
        "plot_confusion_matrix(results, ['Normal','Anomaly'])"
      ]
    },
    {
      "cell_type": "markdown",
      "metadata": {
        "id": "yDDWvexzRY1S"
      },
      "source": [
        "From the confusion matrix we can see that our model is performing really well.  It is able to classify almost all of the anomalies.  And this is without any tuning of XGBoost.  We can see why XGBoost is so popular."
      ]
    },
    {
      "cell_type": "markdown",
      "metadata": {
        "id": "5GpzXfnZRY1S"
      },
      "source": [
        "### 2.9 AUC Part 2"
      ]
    },
    {
      "cell_type": "markdown",
      "metadata": {
        "id": "CjRCFbnoRY1S"
      },
      "source": [
        "The AUC curve is a plot of the True Positive Rate (TPR) against the False Positive Rate (FPR). The TPR is a measure of how often the prediction is correct, when there is a positive value, and the FPR is how often the prediction is incorrect when the value is in fact negative. "
      ]
    },
    {
      "cell_type": "code",
      "execution_count": 29,
      "metadata": {
        "colab": {
          "base_uri": "https://localhost:8080/",
          "height": 0
        },
        "id": "PBrqv_g_RY1T",
        "outputId": "648a3248-1162-4cda-b701-7b99695ba1ed"
      },
      "outputs": [
        {
          "output_type": "display_data",
          "data": {
            "text/plain": [
              "<Figure size 432x288 with 1 Axes>"
            ],
            "image/png": "[encoded data removed]"
          },
          "metadata": {
            "needs_background": "light"
          }
        }
      ],
      "source": [
        "fpr, tpr, thresholds = roc_curve(true_labels, pred_labels)\n",
        "roc_auc = roc_auc_score(true_labels, pred_labels)\n",
        "\n",
        "plt.figure()\n",
        "plt.plot(fpr, tpr, color='darkorange', lw=1, label='ROC curve (area = %0.2f)' % roc_auc)\n",
        "plt.plot([0, 1], [0, 1], color='navy', linestyle='--')\n",
        "plt.xlim([0.0, 1.0])\n",
        "plt.ylim([0.0, 1.05])\n",
        "plt.xlabel('False Positive Rate')\n",
        "plt.ylabel('True Positive Rate')\n",
        "plt.title('Receiver operating characteristic')\n",
        "plt.legend(loc=\"lower right\")\n",
        "plt.show()"
      ]
    },
    {
      "cell_type": "markdown",
      "metadata": {
        "id": "IC05hQGQRY1T"
      },
      "source": [
        "The closer the curve is to the left-hand and the top-hand borders of the ROC plotting area, the better the model is performing over all thresholds. The area under the ROC curve (AUC) is a way of quantifying this performance. 1 is a perfect score."
      ]
    },
    {
      "cell_type": "markdown",
      "metadata": {
        "id": "ATmcuMuHRY1Y"
      },
      "source": [
        "### 2.10 Model Inspection"
      ]
    },
    {
      "cell_type": "markdown",
      "metadata": {
        "id": "-XIliAqZRY1Y"
      },
      "source": [
        "Why is our model performing so well? One tool we can use from XGBoost is the feature importance.  XGBoost will rank the features that it uses in determining a classification.  We can visualize the feature importance using the \"plot_importance\" method.  \n",
        "\n",
        "Knowing which features are contributing the model can be really useful for solving business problems.  In the case of network security, those features can give us way to possibly preempt malicious activity.\n",
        "\n",
        "Feature importance can also be a great way to debug your model. \n",
        "\n",
        "You might have to run this cell twice to see the feature importance."
      ]
    },
    {
      "cell_type": "code",
      "execution_count": 30,
      "metadata": {
        "colab": {
          "base_uri": "https://localhost:8080/",
          "height": 0
        },
        "id": "nSNFhHXyRY1Z",
        "outputId": "7a46303e-66e1-49f1-a1e8-186867c3fdba"
      },
      "outputs": [
        {
          "output_type": "display_data",
          "data": {
            "text/plain": [
              "<Figure size 720x720 with 1 Axes>"
            ],
            "image/png": "[encoded data removed]"
          },
          "metadata": {
            "needs_background": "light"
          }
        }
      ],
      "source": [
        "ax = xgb.plot_importance(model)\n",
        "fig = ax.figure\n",
        "fig.set_size_inches(10, 10)"
      ]
    },
    {
      "cell_type": "markdown",
      "metadata": {
        "id": "CVlIfvvDRY1Z"
      },
      "source": [
        "## Section 3: Impact of Skewed Data"
      ]
    },
    {
      "cell_type": "markdown",
      "metadata": {
        "id": "4qBCgl6NRY1Z"
      },
      "source": [
        "As we prepared our data, we pointed out that there were more anomalies than normal data and considered the implications of this dataset skew that doesn't match the real world. Take a moment now see how adjusting our dataset impacts performance."
      ]
    },
    {
      "cell_type": "code",
      "execution_count": 31,
      "metadata": {
        "id": "9G2TwfonRY1Z"
      },
      "outputs": [],
      "source": [
        "def reduce_anomalies(df, pct_anomalies=.01):\n",
        "    labels = df['label'].copy()\n",
        "    is_anomaly = labels != 'normal.'\n",
        "    num_normal = np.sum(~is_anomaly)\n",
        "    num_anomalies = int(pct_anomalies * num_normal)\n",
        "    all_anomalies = labels[labels != 'normal.']\n",
        "    anomalies_to_keep = np.random.choice(all_anomalies.index, size=num_anomalies, replace=False)\n",
        "    anomalous_data = df.iloc[anomalies_to_keep].copy()\n",
        "    normal_data = df[~is_anomaly].copy()\n",
        "    new_df = pd.concat([normal_data, anomalous_data], axis=0)\n",
        "    return new_df"
      ]
    },
    {
      "cell_type": "code",
      "execution_count": 32,
      "metadata": {
        "id": "OMvrnFtaRY1a"
      },
      "outputs": [],
      "source": [
        "df = reduce_anomalies(df)"
      ]
    },
    {
      "cell_type": "markdown",
      "metadata": {
        "id": "2iEzSFqaRY1a"
      },
      "source": [
        "Let's see what anomalies we have after the reduction."
      ]
    },
    {
      "cell_type": "code",
      "execution_count": 33,
      "metadata": {
        "colab": {
          "base_uri": "https://localhost:8080/",
          "height": 269
        },
        "id": "FK2hSmQ_RY1a",
        "outputId": "ee169f29-7a38-40d1-80bf-df9353276fdc"
      },
      "outputs": [
        {
          "output_type": "execute_result",
          "data": {
            "text/plain": [
              "            label\n",
              "normal.     31721\n",
              "smurf.        229\n",
              "neptune.       81\n",
              "satan.          4\n",
              "portsweep.      1\n",
              "back.           1\n",
              "ipsweep.        1"
            ],
            "text/html": [
              "\n",
              "  <div id=\"df-dd2b35c8-b874-48b7-a3e8-ea71dfe9318e\">\n",
              "    <div class=\"colab-df-container\">\n",
              "      <div>\n",
              "<style scoped>\n",
              "    .dataframe tbody tr th:only-of-type {\n",
              "        vertical-align: middle;\n",
              "    }\n",
              "\n",
              "    .dataframe tbody tr th {\n",
              "        vertical-align: top;\n",
              "    }\n",
              "\n",
              "    .dataframe thead th {\n",
              "        text-align: right;\n",
              "    }\n",
              "</style>\n",
              "<table border=\"1\" class=\"dataframe\">\n",
              "  <thead>\n",
              "    <tr style=\"text-align: right;\">\n",
              "      <th></th>\n",
              "      <th>label</th>\n",
              "    </tr>\n",
              "  </thead>\n",
              "  <tbody>\n",
              "    <tr>\n",
              "      <th>normal.</th>\n",
              "      <td>31721</td>\n",
              "    </tr>\n",
              "    <tr>\n",
              "      <th>smurf.</th>\n",
              "      <td>229</td>\n",
              "    </tr>\n",
              "    <tr>\n",
              "      <th>neptune.</th>\n",
              "      <td>81</td>\n",
              "    </tr>\n",
              "    <tr>\n",
              "      <th>satan.</th>\n",
              "      <td>4</td>\n",
              "    </tr>\n",
              "    <tr>\n",
              "      <th>portsweep.</th>\n",
              "      <td>1</td>\n",
              "    </tr>\n",
              "    <tr>\n",
              "      <th>back.</th>\n",
              "      <td>1</td>\n",
              "    </tr>\n",
              "    <tr>\n",
              "      <th>ipsweep.</th>\n",
              "      <td>1</td>\n",
              "    </tr>\n",
              "  </tbody>\n",
              "</table>\n",
              "</div>\n",
              "      <button class=\"colab-df-convert\" onclick=\"convertToInteractive('df-dd2b35c8-b874-48b7-a3e8-ea71dfe9318e')\"\n",
              "              title=\"Convert this dataframe to an interactive table.\"\n",
              "              style=\"display:none;\">\n",
              "        \n",
              "  <svg xmlns=\"http://www.w3.org/2000/svg\" height=\"24px\"viewBox=\"0 0 24 24\"\n",
              "       width=\"24px\">\n",
              "    <path d=\"M0 0h24v24H0V0z\" fill=\"none\"/>\n",
              "    <path d=\"M18.56 5.44l.94 2.06.94-2.06 2.06-.94-2.06-.94-.94-2.06-.94 2.06-2.06.94zm-11 1L8.5 8.5l.94-2.06 2.06-.94-2.06-.94L8.5 2.5l-.94 2.06-2.06.94zm10 10l.94 2.06.94-2.06 2.06-.94-2.06-.94-.94-2.06-.94 2.06-2.06.94z\"/><path d=\"M17.41 7.96l-1.37-1.37c-.4-.4-.92-.59-1.43-.59-.52 0-1.04.2-1.43.59L10.3 9.45l-7.72 7.72c-.78.78-.78 2.05 0 2.83L4 21.41c.39.39.9.59 1.41.59.51 0 1.02-.2 1.41-.59l7.78-7.78 2.81-2.81c.8-.78.8-2.07 0-2.86zM5.41 20L4 18.59l7.72-7.72 1.47 1.35L5.41 20z\"/>\n",
              "  </svg>\n",
              "      </button>\n",
              "      \n",
              "  <style>\n",
              "    .colab-df-container {\n",
              "      display:flex;\n",
              "      flex-wrap:wrap;\n",
              "      gap: 12px;\n",
              "    }\n",
              "\n",
              "    .colab-df-convert {\n",
              "      background-color: #E8F0FE;\n",
              "      border: none;\n",
              "      border-radius: 50%;\n",
              "      cursor: pointer;\n",
              "      display: none;\n",
              "      fill: #1967D2;\n",
              "      height: 32px;\n",
              "      padding: 0 0 0 0;\n",
              "      width: 32px;\n",
              "    }\n",
              "\n",
              "    .colab-df-convert:hover {\n",
              "      background-color: #E2EBFA;\n",
              "      box-shadow: 0px 1px 2px rgba(60, 64, 67, 0.3), 0px 1px 3px 1px rgba(60, 64, 67, 0.15);\n",
              "      fill: #174EA6;\n",
              "    }\n",
              "\n",
              "    [theme=dark] .colab-df-convert {\n",
              "      background-color: #3B4455;\n",
              "      fill: #D2E3FC;\n",
              "    }\n",
              "\n",
              "    [theme=dark] .colab-df-convert:hover {\n",
              "      background-color: #434B5C;\n",
              "      box-shadow: 0px 1px 3px 1px rgba(0, 0, 0, 0.15);\n",
              "      filter: drop-shadow(0px 1px 2px rgba(0, 0, 0, 0.3));\n",
              "      fill: #FFFFFF;\n",
              "    }\n",
              "  </style>\n",
              "\n",
              "      <script>\n",
              "        const buttonEl =\n",
              "          document.querySelector('#df-dd2b35c8-b874-48b7-a3e8-ea71dfe9318e button.colab-df-convert');\n",
              "        buttonEl.style.display =\n",
              "          google.colab.kernel.accessAllowed ? 'block' : 'none';\n",
              "\n",
              "        async function convertToInteractive(key) {\n",
              "          const element = document.querySelector('#df-dd2b35c8-b874-48b7-a3e8-ea71dfe9318e');\n",
              "          const dataTable =\n",
              "            await google.colab.kernel.invokeFunction('convertToInteractive',\n",
              "                                                     [key], {});\n",
              "          if (!dataTable) return;\n",
              "\n",
              "          const docLinkHtml = 'Like what you see? Visit the ' +\n",
              "            '<a target=\"_blank\" href=https://colab.research.google.com/notebooks/data_table.ipynb>data table notebook</a>'\n",
              "            + ' to learn more about interactive tables.';\n",
              "          element.innerHTML = '';\n",
              "          dataTable['output_type'] = 'display_data';\n",
              "          await google.colab.output.renderOutput(dataTable, element);\n",
              "          const docLink = document.createElement('div');\n",
              "          docLink.innerHTML = docLinkHtml;\n",
              "          element.appendChild(docLink);\n",
              "        }\n",
              "      </script>\n",
              "    </div>\n",
              "  </div>\n",
              "  "
            ]
          },
          "metadata": {},
          "execution_count": 33
        }
      ],
      "source": [
        "pd.DataFrame(df['label'].value_counts())"
      ]
    },
    {
      "cell_type": "markdown",
      "metadata": {
        "id": "ICOKHwF_RY1b"
      },
      "source": [
        "Return to [data preprocessing](#return) and rerun cells to this point, comparing and contrasting performance. Again, reflect below, on paper, or with a peer. Reflect on *why* the reduction of anomalies had the impact that it did."
      ]
    },
    {
      "cell_type": "markdown",
      "metadata": {
        "id": "bHvEIKu5RY1b"
      },
      "source": [
        "What was the impact of reducing anomalies in the dataset and why do you think that is?"
      ]
    },
    {
      "cell_type": "raw",
      "metadata": {
        "id": "SHiyJthaRY1d"
      },
      "source": [
        "Answer:"
      ]
    },
    {
      "cell_type": "markdown",
      "metadata": {
        "id": "G-vjbTAJRY1k"
      },
      "source": [
        "## Section 4:  Multi-Class Classification Model [Exercise]"
      ]
    },
    {
      "cell_type": "markdown",
      "metadata": {
        "id": "UxupOOe-RY1k"
      },
      "source": [
        "We've seen that XGBoost can identify anomalies in the KDD99 dataset really easily.  Let's see if XGBoost can detect the different types of anomalies.  To do that we will train a multi-classification model.\n",
        "\n",
        "We'll point out the difference, then have you implement the pieces that are the same using the binary classifier as a model.\n",
        "\n",
        "For multi-classification models, the labels have to be converted to integers (we've already done this) and the 'objective\n",
        "' and 'num_class' parameters must be changed accordingly."
      ]
    },
    {
      "cell_type": "markdown",
      "metadata": {
        "id": "gAj2IH9eRY1k"
      },
      "source": [
        "### 4.1 Training the Model"
      ]
    },
    {
      "cell_type": "code",
      "execution_count": 34,
      "metadata": {
        "colab": {
          "base_uri": "https://localhost:8080/"
        },
        "id": "_weV7rn_RY1l",
        "outputId": "38a23ab2-3043-4f3f-beea-329c06a94b5e"
      },
      "outputs": [
        {
          "output_type": "stream",
          "name": "stdout",
          "text": [
            "{'num_rounds': 10, 'max_depth': 8, 'max_leaves': 256, 'alpha': 0.9, 'eta': 0.1, 'gamma': 0.1, 'learning_rate': 0.1, 'subsample': 1, 'reg_lambda': 1, 'scale_pos_weight': 2, 'tree_method': 'gpu_hist', 'n_gpus': 1, 'objective': 'multi:softprob', 'verbose': True, 'num_class': 16}\n"
          ]
        }
      ],
      "source": [
        "num_labels = len(le.classes_)\n",
        "params['objective'] = 'multi:softprob'\n",
        "params['num_class'] = num_labels\n",
        "print(params)"
      ]
    },
    {
      "cell_type": "markdown",
      "metadata": {
        "id": "pkaTPlEnRY1l"
      },
      "source": [
        "In the field below, set up `dtrain`, `dtest`, `evals`, and `model` as exemplified when we trained our binary classifier. \n",
        "\n",
        "Note: Multiclass labels are in y_train and y_test. Hint: Control F will help you find `dtrain`, `dtest`, `evals` and `model`.\n",
        "\n",
        "You can see how adding multiple classes doesn't increase the complexity in training this type of model. "
      ]
    },
    {
      "cell_type": "code",
      "execution_count": 35,
      "metadata": {
        "id": "nKZhvEqARY1l"
      },
      "outputs": [],
      "source": [
        "# %%time \n",
        "\n",
        "\n",
        "# dtrain = ##SEE BINARY CLASSIFIER FOR HINT##\n",
        "# dtest = ##SEE BINARY CLASSIFIER FOR HINT##\n",
        "# evals = ##SEE BINARY CLASSIFIER FOR HINT##\n",
        "# model = ##SEE BINARY CLASSIFIER FOR HINT##"
      ]
    },
    {
      "cell_type": "code",
      "execution_count": 36,
      "metadata": {
        "colab": {
          "base_uri": "https://localhost:8080/"
        },
        "id": "BIZk8xFcRY1m",
        "outputId": "70fd5a4d-8aa9-4fb7-b6ec-12eacd2e9b33"
      },
      "outputs": [
        {
          "output_type": "stream",
          "name": "stdout",
          "text": [
            "[0]\ttest-merror:0.001325\ttrain-merror:0.001083\n",
            "[1]\ttest-merror:0.001175\ttrain-merror:0.001008\n",
            "[2]\ttest-merror:0.001175\ttrain-merror:0.001008\n",
            "[3]\ttest-merror:0.001125\ttrain-merror:0.000933\n",
            "[4]\ttest-merror:0.00095\ttrain-merror:0.0008\n",
            "[5]\ttest-merror:0.000975\ttrain-merror:0.000808\n",
            "[6]\ttest-merror:0.000925\ttrain-merror:0.000775\n",
            "[7]\ttest-merror:0.000925\ttrain-merror:0.000775\n",
            "[8]\ttest-merror:0.000925\ttrain-merror:0.000775\n",
            "[9]\ttest-merror:0.000625\ttrain-merror:0.000583\n",
            "CPU times: user 7.96 s, sys: 151 ms, total: 8.11 s\n",
            "Wall time: 1.16 s\n"
          ]
        }
      ],
      "source": [
        "%%time \n",
        "\n",
        "'''\n",
        "def convert_label_to_binary(label_encoder, labels):\n",
        "    normal_idx = np.where(label_encoder.classes_ == 'normal.')[0][0]\n",
        "    my_labels = labels.copy()\n",
        "    my_labels[my_labels != normal_idx] = 1 \n",
        "    my_labels[my_labels == normal_idx] = 0\n",
        "    return my_labels\n",
        "\n",
        "binary_y_train = convert_label_to_binary(le, y_train)\n",
        "binary_y_test = convert_label_to_binary(le, y_test)\n",
        "\n",
        "# check how many anomalies are in our labels\n",
        "print('Number of anomalies in y_train: ', binary_y_train.sum())\n",
        "print('Number of anomalies in y_test:  ', binary_y_test.sum())\n",
        "\n",
        "dtrain = xgb.DMatrix(x_train, label=binary_y_train)\n",
        "dtest = xgb.DMatrix(x_test, label=binary_y_test)\n",
        "evals = [(dtest, 'test',), (dtrain, 'train')]\n",
        "num_rounds = params['num_rounds']\n",
        "'''\n",
        "\n",
        "dtrain = xgb.DMatrix(x_train, label=y_train)\n",
        "dtest = xgb.DMatrix(x_test, label=y_test)\n",
        "evals = [(dtest, 'test',), (dtrain, 'train')]\n",
        "model = xgb.train(params, dtrain, num_rounds, evals=evals)"
      ]
    },
    {
      "cell_type": "markdown",
      "metadata": {
        "id": "rZiOAoM4RY1m"
      },
      "source": [
        "### 4.2 Testing and Evaluation"
      ]
    },
    {
      "cell_type": "markdown",
      "metadata": {
        "id": "6bMdvDsiRY1n"
      },
      "source": [
        "Let us again evaluate our model on the test set and see how it performs. Note that accuracy now is a metric of how well we do on each of the 23 classes."
      ]
    },
    {
      "cell_type": "code",
      "execution_count": 37,
      "metadata": {
        "id": "2A5HfhpURY1n"
      },
      "outputs": [],
      "source": [
        "preds = model.predict(dtest)"
      ]
    },
    {
      "cell_type": "code",
      "execution_count": 38,
      "metadata": {
        "id": "V_g8-0qpRY1n"
      },
      "outputs": [],
      "source": [
        "pred_labels = np.argmax(preds, axis=1)"
      ]
    },
    {
      "cell_type": "code",
      "execution_count": 39,
      "metadata": {
        "colab": {
          "base_uri": "https://localhost:8080/"
        },
        "id": "fZCqAREERY1n",
        "outputId": "5eda6a16-fa92-444f-c61c-edb3aecb2f50"
      },
      "outputs": [
        {
          "output_type": "execute_result",
          "data": {
            "text/plain": [
              "array([ 6,  6, 12, ...,  8,  6,  6])"
            ]
          },
          "metadata": {},
          "execution_count": 39
        }
      ],
      "source": [
        "pred_labels"
      ]
    },
    {
      "cell_type": "code",
      "execution_count": 40,
      "metadata": {
        "id": "6MZxJvJRRY1o"
      },
      "outputs": [],
      "source": [
        "true_labels = y_test"
      ]
    },
    {
      "cell_type": "code",
      "execution_count": 41,
      "metadata": {
        "colab": {
          "base_uri": "https://localhost:8080/"
        },
        "id": "qzzRqiifRY1o",
        "outputId": "6df5edcf-12a2-4eb0-a692-2e3cfa130045"
      },
      "outputs": [
        {
          "output_type": "execute_result",
          "data": {
            "text/plain": [
              "array([ 6,  6, 12, ...,  8,  6,  6])"
            ]
          },
          "metadata": {},
          "execution_count": 41
        }
      ],
      "source": [
        "true_labels"
      ]
    },
    {
      "cell_type": "markdown",
      "metadata": {
        "id": "0dHIQQhMRY1p"
      },
      "source": [
        "### 4.3 Accuracy"
      ]
    },
    {
      "cell_type": "code",
      "execution_count": 42,
      "metadata": {
        "colab": {
          "base_uri": "https://localhost:8080/"
        },
        "id": "HltjIl3PRY1p",
        "outputId": "c03202cf-0899-492c-db3f-ab0234dd28ed"
      },
      "outputs": [
        {
          "output_type": "stream",
          "name": "stdout",
          "text": [
            "Accuracy Score : 0.999375\n"
          ]
        }
      ],
      "source": [
        "print ('Accuracy Score :', accuracy_score(true_labels, pred_labels))"
      ]
    },
    {
      "cell_type": "markdown",
      "metadata": {
        "id": "tz_4KnkERY1p"
      },
      "source": [
        "We should be able to get near perfect accuracy. Let's look at the confusion matrix to make sure that we are detecting the anomalies."
      ]
    },
    {
      "cell_type": "markdown",
      "metadata": {
        "id": "N1KbCns3RY1p"
      },
      "source": [
        "### 4.4 Confusion Matrix"
      ]
    },
    {
      "cell_type": "code",
      "execution_count": 43,
      "metadata": {
        "colab": {
          "base_uri": "https://localhost:8080/",
          "height": 747
        },
        "id": "YjYntyjbRY1p",
        "outputId": "3d1b5b4f-d017-4041-9a2d-87edd0b2dd89"
      },
      "outputs": [
        {
          "output_type": "stream",
          "name": "stdout",
          "text": [
            "Confusion Matrix :\n"
          ]
        },
        {
          "output_type": "display_data",
          "data": {
            "text/plain": [
              "<Figure size 720x720 with 2 Axes>"
            ],
            "image/png": "[encoded data removed]"
          },
          "metadata": {
            "needs_background": "light"
          }
        }
      ],
      "source": [
        "cm = confusion_matrix(true_labels, pred_labels)\n",
        "\n",
        "print ('Confusion Matrix :')\n",
        "\n",
        "def plot_confusion_matrix(cm, title='Confusion matrix', cmap=plt.cm.Greens):\n",
        "    plt.figure(figsize=(10,10),)\n",
        "\n",
        "    plt.imshow(cm, interpolation='nearest', cmap=cmap)\n",
        "    plt.title(title)\n",
        "    plt.colorbar()\n",
        "    \n",
        "    #tick_marks = np.arange(len(target_names))\n",
        "    #plt.xticks(tick_marks, target_names, rotation=45)\n",
        "    #plt.yticks(tick_marks, target_names)\n",
        "    plt.tight_layout()\n",
        "\n",
        "    width, height = cm.shape\n",
        "\n",
        "    for x in range(width):\n",
        "        for y in range(height):\n",
        "            plt.annotate(str(cm[x][y]), xy=(y, x), \n",
        "                        horizontalalignment='center',\n",
        "                        verticalalignment='center')\n",
        "    plt.ylabel('True label')\n",
        "    plt.xlabel('Predicted label')\n",
        "\n",
        "plot_confusion_matrix(cm)"
      ]
    },
    {
      "cell_type": "markdown",
      "metadata": {
        "id": "aSG0XV2cRY1q"
      },
      "source": [
        "Even the multi-class problem can be solved near perfectly with XGBoost.  "
      ]
    },
    {
      "cell_type": "markdown",
      "metadata": {
        "id": "dPxQVENuRY1r"
      },
      "source": [
        "# Conclusion "
      ]
    },
    {
      "cell_type": "markdown",
      "metadata": {
        "id": "JAvCvgnKRY1s"
      },
      "source": [
        "- As we saw in the binary and multi-class classification problems, XGBoost can be very effective at detecting anomalies when you have labeled data. In labs 2 and 3, we will consider the same KDD99 dataset but we will train deep learning models to detect anomalies without using the labels.  This will mimic a more likely situation is the real world.\n",
        "\n",
        "- GPU-Accelerating XGboost through RAPIDS is easy and fast.  The only change we had to make to use the GPU was to set the 'tree_method' parameter to 'gpu_hist'."
      ]
    },
    {
      "cell_type": "markdown",
      "metadata": {
        "id": "SP_ngngoRY1s"
      },
      "source": [
        "# References"
      ]
    },
    {
      "cell_type": "markdown",
      "metadata": {
        "id": "vw8vtjzmRY1t"
      },
      "source": [
        "<ol>\n",
        "<li>\n",
        "Dhaliwal, S., Nahid, A., & Abbas, R. (2018). Effective Intrusion Detection System Using XGBoost. Information, 9(7), 149. doi:10.3390/info9070149\n",
        "</li>\n",
        "<li>\n",
        "Brownlee, J. A Gentle Introduction to XGBoost for Applied Machine Learning. Machine Learning\n",
        "Mastery. Available online: http://machinelearningmastery.com/gentle-introduction-xgboost-applied-machine-learning/\n",
        "(accessed on 2 March 2018).\n",
        "    </li>\n",
        "    <li>A Study on NSL-KDD Dataset for Intrusion Detection System Based on Classification Algorithms. Available\n",
        "online: https://pdfs.semanticscholar.org/1b34/80021c4ab0f632efa99e01a9b073903c5554.pdf (accessed on\n",
        "        26 March 2018)</li>\n",
        "    <li>\n",
        "        XGBoost Parameters—Xgboost 0.7 Documentation. Available online: http://xgboost.readthedocs.io/en/\n",
        "latest/parameter.html (accessed on 12 March 2018)\n",
        "    </li>\n",
        "    <li>\n",
        "        RAPIDS Documentation and Cheat Sheet.Available online: https://rapids.ai/documentation.html\n",
        "    </li>\n",
        "    \n",
        "   "
      ]
    },
    {
      "cell_type": "markdown",
      "metadata": {
        "id": "p06XXsl8RY1t"
      },
      "source": [
        "<a href=\"https://www.nvidia.com/en-us/deep-learning-ai/education/\"> <img src=\"images/DLI Header.png\" alt=\"Header\" style=\"width: 400px;\"/> </a>"
      ]
    }
  ],
  "metadata": {
    "kernelspec": {
      "display_name": "Python 3 (ipykernel)",
      "language": "python",
      "name": "python3"
    },
    "language_info": {
      "codemirror_mode": {
        "name": "ipython",
        "version": 3
      },
      "file_extension": ".py",
      "mimetype": "text/x-python",
      "name": "python",
      "nbconvert_exporter": "python",
      "pygments_lexer": "ipython3",
      "version": "3.8.10"
    },
    "colab": {
      "provenance": [],
      "collapsed_sections": [
        "TPbsUl-DRY0s",
        "AVnLC9ZSRY04",
        "0c4GvYXwRY04",
        "4xcM9dz9RY07",
        "vifu3APhRY09",
        "BMZtA_YERY1F",
        "cg7_rkuDRY1L",
        "QCJ09YO9RY1P",
        "Ah_SLIIGRY1P",
        "ZQnbVCJFRY1Q",
        "5GpzXfnZRY1S",
        "ATmcuMuHRY1Y"
      ]
    },
    "accelerator": "GPU",
    "gpuClass": "premium"
  },
  "nbformat": 4,
  "nbformat_minor": 0
}